{
  "nbformat": 4,
  "nbformat_minor": 0,
  "metadata": {
    "colab": {
      "provenance": [],
      "authorship_tag": "ABX9TyNvuxC55npB4MwTGmP/Gyvq",
      "include_colab_link": true
    },
    "kernelspec": {
      "name": "python3",
      "display_name": "Python 3"
    },
    "language_info": {
      "name": "python"
    }
  },
  "cells": [
    {
      "cell_type": "markdown",
      "metadata": {
        "id": "view-in-github",
        "colab_type": "text"
      },
      "source": [
        "<a href=\"https://colab.research.google.com/github/GonzaloPerezGomez/Pytorch/blob/main/03_Computer_Vision.ipynb\" target=\"_parent\"><img src=\"https://colab.research.google.com/assets/colab-badge.svg\" alt=\"Open In Colab\"/></a>"
      ]
    },
    {
      "cell_type": "markdown",
      "source": [
        "# PyTorch Computer Vision"
      ],
      "metadata": {
        "id": "vi-5u5hOJ99l"
      }
    },
    {
      "cell_type": "markdown",
      "source": [
        "## 0. Computer vision libaries\n",
        "\n",
        "* torchvision - base domain library for PyTorch computer vision\n",
        "* torchvision.datasets - Datasets and DataLoading funtions for cumputer vision\n",
        "* torchvision.models - get pretrained computer vision models\n",
        "* torchvision.transforms - functions for manipulating your vision data to be suitable for use with ML model\n",
        "+ torch.utils.data.Dataset - Base dataset class ofr Pytorch\n",
        "* torch.util.data.DataLoader - Creates a Python iterable over a dataset"
      ],
      "metadata": {
        "id": "1iTamfM5XFBC"
      }
    },
    {
      "cell_type": "code",
      "source": [
        "# Import PyTorch\n",
        "import torch\n",
        "from torch import nn\n",
        "\n",
        "# Improt torchvision\n",
        "import torchvision\n",
        "from torchvision import datasets, transforms\n",
        "from torchvision.transforms import ToTensor\n",
        "\n",
        "# Import matplotlib for visualization\n",
        "import matplotlib.pyplot as plt"
      ],
      "metadata": {
        "id": "gGqbrkR2YPiw"
      },
      "execution_count": 2,
      "outputs": []
    },
    {
      "cell_type": "markdown",
      "source": [
        "## 1. Getting a Dataset\n",
        "\n",
        "FashionMNIST"
      ],
      "metadata": {
        "id": "9qBHR_FCYtcq"
      }
    },
    {
      "cell_type": "code",
      "source": [
        "# Setup training data\n",
        "train_data = datasets.FashionMNIST(root=\"data\", # Whare to download data to\n",
        "                                   train=True,\n",
        "                                   download=True,\n",
        "                                   transform=ToTensor(),\n",
        "                                   target_transform=None\n",
        "                                  )\n",
        "\n",
        "test_data = datasets.FashionMNIST(root=\"data\", # Whare to download data to\n",
        "                                   train=False,\n",
        "                                   download=True,\n",
        "                                   transform=ToTensor(),\n",
        "                                   target_transform=None\n",
        "                                  )"
      ],
      "metadata": {
        "id": "lIQ3pB2ubnoZ",
        "outputId": "202b401d-ce19-4c69-ad0c-a1414744d199",
        "colab": {
          "base_uri": "https://localhost:8080/"
        }
      },
      "execution_count": 3,
      "outputs": [
        {
          "output_type": "stream",
          "name": "stderr",
          "text": [
            "100%|██████████| 26.4M/26.4M [00:01<00:00, 21.1MB/s]\n",
            "100%|██████████| 29.5k/29.5k [00:00<00:00, 343kB/s]\n",
            "100%|██████████| 4.42M/4.42M [00:00<00:00, 6.31MB/s]\n",
            "100%|██████████| 5.15k/5.15k [00:00<00:00, 8.16MB/s]\n"
          ]
        }
      ]
    },
    {
      "cell_type": "code",
      "source": [
        "len(train_data), len(test_data)"
      ],
      "metadata": {
        "id": "mPllU44jdIVE",
        "outputId": "7a748275-8102-4cce-81bf-e2287a98d50e",
        "colab": {
          "base_uri": "https://localhost:8080/"
        }
      },
      "execution_count": 4,
      "outputs": [
        {
          "output_type": "execute_result",
          "data": {
            "text/plain": [
              "(60000, 10000)"
            ]
          },
          "metadata": {},
          "execution_count": 4
        }
      ]
    },
    {
      "cell_type": "code",
      "source": [
        "class_names = train_data.classes\n",
        "class_names"
      ],
      "metadata": {
        "id": "XcjcnuHBdWJR",
        "outputId": "1ba224da-08a8-4cae-b9f7-bfa409adda46",
        "colab": {
          "base_uri": "https://localhost:8080/"
        }
      },
      "execution_count": 5,
      "outputs": [
        {
          "output_type": "execute_result",
          "data": {
            "text/plain": [
              "['T-shirt/top',\n",
              " 'Trouser',\n",
              " 'Pullover',\n",
              " 'Dress',\n",
              " 'Coat',\n",
              " 'Sandal',\n",
              " 'Shirt',\n",
              " 'Sneaker',\n",
              " 'Bag',\n",
              " 'Ankle boot']"
            ]
          },
          "metadata": {},
          "execution_count": 5
        }
      ]
    },
    {
      "cell_type": "code",
      "source": [
        " # Color_Channel (black and white), Height, Width\n",
        "train_data[0][0].shape, train_data[0][1]"
      ],
      "metadata": {
        "id": "e6a2Yv8Kdz-l",
        "outputId": "2bfdcff6-740b-4752-f680-53bf3cd8d4da",
        "colab": {
          "base_uri": "https://localhost:8080/"
        }
      },
      "execution_count": 7,
      "outputs": [
        {
          "output_type": "execute_result",
          "data": {
            "text/plain": [
              "(torch.Size([1, 28, 28]), 9)"
            ]
          },
          "metadata": {},
          "execution_count": 7
        }
      ]
    },
    {
      "cell_type": "markdown",
      "source": [
        "## 2.3 Visualizing out data"
      ],
      "metadata": {
        "id": "vfxEHhGcK_Hv"
      }
    },
    {
      "cell_type": "code",
      "source": [
        "image, label = train_data[0]\n",
        "plt.imshow(image.transpose(0, 2).transpose(0, 1)) # plt.imshow expects (Height, Width, Color_Cannel)\n",
        "#plt.imshow(image.squeeze()) becuase the image is in black and white (Color_Channel = 1) we can algo get reed of the extra dimension\n",
        "image.squeeze().shape"
      ],
      "metadata": {
        "id": "7biYsOU9LXO_",
        "outputId": "e9761fd9-9413-49b4-abd1-2d7f03b95bf7",
        "colab": {
          "base_uri": "https://localhost:8080/",
          "height": 447
        }
      },
      "execution_count": 21,
      "outputs": [
        {
          "output_type": "execute_result",
          "data": {
            "text/plain": [
              "torch.Size([28, 28])"
            ]
          },
          "metadata": {},
          "execution_count": 21
        },
        {
          "output_type": "display_data",
          "data": {
            "text/plain": [
              "<Figure size 640x480 with 1 Axes>"
            ],
            "image/png": "[encoded data removed]"
          },
          "metadata": {}
        }
      ]
    },
    {
      "cell_type": "code",
      "source": [
        "plt.imshow(image.squeeze(), cmap=\"gray\")\n",
        "plt.title(class_names[label])\n",
        "plt.axis(False)"
      ],
      "metadata": {
        "id": "v1-BCHmmNDNl",
        "outputId": "0dde15ee-5e5b-406a-9ec9-ad3847f0d4a6",
        "colab": {
          "base_uri": "https://localhost:8080/",
          "height": 445
        }
      },
      "execution_count": 22,
      "outputs": [
        {
          "output_type": "execute_result",
          "data": {
            "text/plain": [
              "(np.float64(-0.5), np.float64(27.5), np.float64(27.5), np.float64(-0.5))"
            ]
          },
          "metadata": {},
          "execution_count": 22
        },
        {
          "output_type": "display_data",
          "data": {
            "text/plain": [
              "<Figure size 640x480 with 1 Axes>"
            ],
            "image/png": "[encoded data removed]"
          },
          "metadata": {}
        }
      ]
    },
    {
      "cell_type": "markdown",
      "source": [
        "## 2. Prepare DataLoader\n",
        "\n",
        "Our data is in the form of PyTorch Datasets. We want to turn it into Python iterable\n",
        "\n",
        "Also we want to devide it in batches, so we can handle de data in \"blocks\""
      ],
      "metadata": {
        "id": "WrhJl9dSNhvc"
      }
    },
    {
      "cell_type": "code",
      "source": [
        "from torch.utils.data import DataLoader\n",
        "\n",
        "# Setup the batch size hyperparameter\n",
        "BATCH_SIZE = 32\n",
        "\n",
        "# Turn datasets into iterables\n",
        "train_dataloader = DataLoader(dataset=train_data,\n",
        "                              batch_size=BATCH_SIZE,\n",
        "                              shuffle=True)\n",
        "\n",
        "test_dataloader = DataLoader(dataset=test_data,\n",
        "                             batch_size=BATCH_SIZE,\n",
        "                             shuffle=False)"
      ],
      "metadata": {
        "id": "Rw-v24LZOtko"
      },
      "execution_count": 24,
      "outputs": []
    },
    {
      "cell_type": "code",
      "source": [
        "# Lets check out what we`ve created\n",
        "print(f\"Legth of train_dataloader: {len(train_dataloader)} batches of {train_dataloader.batch_size}\")\n",
        "print(f\"Legth of train_dataloader: {len(test_dataloader)} batches of {test_dataloader.batch_size}\")\n"
      ],
      "metadata": {
        "id": "ZiqwTGl0aqQh",
        "outputId": "6353e815-34e4-4127-b78f-0c173180b8db",
        "colab": {
          "base_uri": "https://localhost:8080/"
        }
      },
      "execution_count": 25,
      "outputs": [
        {
          "output_type": "stream",
          "name": "stdout",
          "text": [
            "Legth of train_dataloader: 1875 batches of 32\n",
            "Legth of train_dataloader: 313 batches of 32\n"
          ]
        }
      ]
    },
    {
      "cell_type": "code",
      "source": [
        "# Whats inside the training dataloader\n",
        "train_features_batch, train_labels_batch = next(iter(train_dataloader))\n",
        "train_features_batch.shape, train_labels_batch.shape"
      ],
      "metadata": {
        "id": "OvCzysyMbnOe",
        "outputId": "8138946e-5da7-426f-a9ab-c129bb75cc63",
        "colab": {
          "base_uri": "https://localhost:8080/"
        }
      },
      "execution_count": 28,
      "outputs": [
        {
          "output_type": "execute_result",
          "data": {
            "text/plain": [
              "(torch.Size([32, 1, 28, 28]), torch.Size([32]))"
            ]
          },
          "metadata": {},
          "execution_count": 28
        }
      ]
    },
    {
      "cell_type": "code",
      "source": [
        "# Show a sample\n",
        "torch.manual_seed(42)\n",
        "random_idx = torch.randint(0, len(train_features_batch), size=[1]).item()\n",
        "img, label = train_features_batch[random_idx], train_labels_batch[random_idx]\n",
        "plt.imshow(img.squeeze(), cmap=\"gray\")\n",
        "plt.title(class_names[label])\n",
        "plt.axis(False)"
      ],
      "metadata": {
        "id": "rQLqjrYqbMzT",
        "outputId": "1fb19114-b54c-46b8-96cd-ee7efba0f056",
        "colab": {
          "base_uri": "https://localhost:8080/",
          "height": 445
        }
      },
      "execution_count": 32,
      "outputs": [
        {
          "output_type": "execute_result",
          "data": {
            "text/plain": [
              "(np.float64(-0.5), np.float64(27.5), np.float64(27.5), np.float64(-0.5))"
            ]
          },
          "metadata": {},
          "execution_count": 32
        },
        {
          "output_type": "display_data",
          "data": {
            "text/plain": [
              "<Figure size 640x480 with 1 Axes>"
            ],
            "image/png": "[encoded data removed]"
          },
          "metadata": {}
        }
      ]
    },
    {
      "cell_type": "markdown",
      "source": [
        "## 3. Model 0: Build a baseline model"
      ],
      "metadata": {
        "id": "9pwo6pchb11R"
      }
    },
    {
      "cell_type": "code",
      "source": [
        "#Create a flatten layer\n",
        "flatten_model = nn.Flatten()\n",
        "\n",
        "#Get a single sample\n",
        "x = train_features_batch[0]\n",
        "x.shape"
      ],
      "metadata": {
        "id": "1qlQGDlHdJnK",
        "outputId": "2caa4295-4c6a-4cc3-b23b-3d3a610abbec",
        "colab": {
          "base_uri": "https://localhost:8080/"
        }
      },
      "execution_count": 33,
      "outputs": [
        {
          "output_type": "execute_result",
          "data": {
            "text/plain": [
              "torch.Size([1, 28, 28])"
            ]
          },
          "metadata": {},
          "execution_count": 33
        }
      ]
    },
    {
      "cell_type": "code",
      "source": [
        "# Flatten de sample\n",
        "output = flatten_model(x)\n",
        "output.shape"
      ],
      "metadata": {
        "id": "PsTawVsLdiah",
        "outputId": "fec37dc1-cddf-48a6-dd12-7b555e3565ca",
        "colab": {
          "base_uri": "https://localhost:8080/"
        }
      },
      "execution_count": 34,
      "outputs": [
        {
          "output_type": "execute_result",
          "data": {
            "text/plain": [
              "torch.Size([1, 784])"
            ]
          },
          "metadata": {},
          "execution_count": 34
        }
      ]
    },
    {
      "cell_type": "code",
      "source": [
        "class FashionMNISTModelV0(nn.Module):\n",
        "  def __init__(self,\n",
        "               input_shape: int,\n",
        "               hidden_unit: int,\n",
        "               output_shape: int):\n",
        "    super().__init__()\n",
        "\n",
        "    self.layer_stack = nn.Sequential(\n",
        "        nn.Flatten(),\n",
        "\n",
        "        nn.Linear(in_features=input_shape,\n",
        "                  out_features=hidden_unit),\n",
        "\n",
        "        nn.Linear(in_features=hidden_unit,\n",
        "                  out_features=output_shape)\n",
        "    )\n",
        "\n",
        "  def forward(self,x):\n",
        "    return self.layer_stack(x)"
      ],
      "metadata": {
        "id": "f4FrLCbrdrYU"
      },
      "execution_count": 35,
      "outputs": []
    },
    {
      "cell_type": "code",
      "source": [
        "torch.manual_seed(42)\n",
        "\n",
        "model_0 = FashionMNISTModelV0(\n",
        "    input_shape=784, # 28*28\n",
        "    hidden_unit=10,\n",
        "    output_shape=len(class_names)\n",
        ").to(\"cpu\")\n",
        "\n",
        "model_0"
      ],
      "metadata": {
        "id": "QomfMrwFe2dZ",
        "outputId": "bb877ab5-6e70-4a2a-a645-bf15d41d550e",
        "colab": {
          "base_uri": "https://localhost:8080/"
        }
      },
      "execution_count": 36,
      "outputs": [
        {
          "output_type": "execute_result",
          "data": {
            "text/plain": [
              "FashionMNISTModelV0(\n",
              "  (layer_stack): Sequential(\n",
              "    (0): Flatten(start_dim=1, end_dim=-1)\n",
              "    (1): Linear(in_features=784, out_features=10, bias=True)\n",
              "    (2): Linear(in_features=10, out_features=10, bias=True)\n",
              "  )\n",
              ")"
            ]
          },
          "metadata": {},
          "execution_count": 36
        }
      ]
    },
    {
      "cell_type": "code",
      "source": [
        "dummy_x = torch.rand([1, 1, 28, 28])\n",
        "model_0(dummy_x)"
      ],
      "metadata": {
        "id": "mkqKOQirfQtp",
        "outputId": "077e88f8-049a-462d-fd13-61fcf41ecb65",
        "colab": {
          "base_uri": "https://localhost:8080/"
        }
      },
      "execution_count": 37,
      "outputs": [
        {
          "output_type": "execute_result",
          "data": {
            "text/plain": [
              "tensor([[-0.0315,  0.3171,  0.0531, -0.2525,  0.5959,  0.2112,  0.3233,  0.2694,\n",
              "         -0.1004,  0.0157]], grad_fn=<AddmmBackward0>)"
            ]
          },
          "metadata": {},
          "execution_count": 37
        }
      ]
    },
    {
      "cell_type": "code",
      "source": [],
      "metadata": {
        "id": "B65G6KPqfWqD"
      },
      "execution_count": null,
      "outputs": []
    }
  ]
}