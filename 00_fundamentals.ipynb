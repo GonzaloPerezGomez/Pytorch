{
  "cells": [
    {
      "cell_type": "code",
      "source": [
        "import torch\n",
        "import pandas as pd\n",
        "import numpy as np\n",
        "import matplotlib.pyplot as plt\n"
      ],
      "metadata": {
        "id": "udJhs70oGwEC"
      },
      "id": "udJhs70oGwEC",
      "execution_count": 3,
      "outputs": []
    },
    {
      "cell_type": "markdown",
      "source": [
        "## Introduccion a Tensors\n"
      ],
      "metadata": {
        "id": "amDHl5HGHM2e"
      },
      "id": "amDHl5HGHM2e"
    },
    {
      "cell_type": "code",
      "source": [
        "\n",
        "#scalar\n",
        "scalar = torch.tensor(7)\n",
        "scalar #Objeto tipo tensor"
      ],
      "metadata": {
        "id": "-wuwgPImMImj",
        "outputId": "8a6d97a4-e573-4290-8b3b-455f474ce33e",
        "colab": {
          "base_uri": "https://localhost:8080/"
        }
      },
      "id": "-wuwgPImMImj",
      "execution_count": 30,
      "outputs": [
        {
          "output_type": "execute_result",
          "data": {
            "text/plain": [
              "tensor(7)"
            ]
          },
          "metadata": {},
          "execution_count": 30
        }
      ]
    },
    {
      "cell_type": "code",
      "source": [
        "scalar.ndim #Devuelve las dimensiones del tensor"
      ],
      "metadata": {
        "colab": {
          "base_uri": "https://localhost:8080/"
        },
        "id": "NUMFbnaDIBJ8",
        "outputId": "f8e3f41d-03e6-4066-9957-becb2ef0f539"
      },
      "id": "NUMFbnaDIBJ8",
      "execution_count": 8,
      "outputs": [
        {
          "output_type": "execute_result",
          "data": {
            "text/plain": [
              "0"
            ]
          },
          "metadata": {},
          "execution_count": 8
        }
      ]
    },
    {
      "cell_type": "code",
      "source": [
        "scalar.item() #Devuelve el elementos como integer"
      ],
      "metadata": {
        "colab": {
          "base_uri": "https://localhost:8080/"
        },
        "id": "5xexH461ItpQ",
        "outputId": "31aa80bf-fc16-4edc-b1ee-50dd50fde320"
      },
      "id": "5xexH461ItpQ",
      "execution_count": 9,
      "outputs": [
        {
          "output_type": "execute_result",
          "data": {
            "text/plain": [
              "7"
            ]
          },
          "metadata": {},
          "execution_count": 9
        }
      ]
    },
    {
      "cell_type": "code",
      "source": [
        "# Vector\n",
        "vector = torch.tensor([7,7])\n",
        "vector"
      ],
      "metadata": {
        "colab": {
          "base_uri": "https://localhost:8080/"
        },
        "id": "d9mnk5IcIwrT",
        "outputId": "3cede6c3-f69b-4e84-e5c1-889d9ffdc92d"
      },
      "id": "d9mnk5IcIwrT",
      "execution_count": 10,
      "outputs": [
        {
          "output_type": "execute_result",
          "data": {
            "text/plain": [
              "tensor([7, 7])"
            ]
          },
          "metadata": {},
          "execution_count": 10
        }
      ]
    },
    {
      "cell_type": "code",
      "source": [
        "vector.ndim"
      ],
      "metadata": {
        "colab": {
          "base_uri": "https://localhost:8080/"
        },
        "id": "7Ll4ecvGJBfT",
        "outputId": "82d0cf11-e4dc-4e5c-e339-aad33a01cc00"
      },
      "id": "7Ll4ecvGJBfT",
      "execution_count": 11,
      "outputs": [
        {
          "output_type": "execute_result",
          "data": {
            "text/plain": [
              "1"
            ]
          },
          "metadata": {},
          "execution_count": 11
        }
      ]
    },
    {
      "cell_type": "code",
      "source": [
        "vector.shape"
      ],
      "metadata": {
        "colab": {
          "base_uri": "https://localhost:8080/"
        },
        "id": "vVE7A-VnJN5Z",
        "outputId": "f9ccc8ed-b1ca-4721-a185-733b33cf7592"
      },
      "id": "vVE7A-VnJN5Z",
      "execution_count": 12,
      "outputs": [
        {
          "output_type": "execute_result",
          "data": {
            "text/plain": [
              "torch.Size([2])"
            ]
          },
          "metadata": {},
          "execution_count": 12
        }
      ]
    },
    {
      "cell_type": "code",
      "source": [
        "# Matrix\n",
        "MATRIX = torch.tensor([[7,7],\n",
        "                      [8,8]])\n",
        "MATRIX"
      ],
      "metadata": {
        "colab": {
          "base_uri": "https://localhost:8080/"
        },
        "id": "ljaNJxkuJS6n",
        "outputId": "3ab44a9c-635d-4ad2-e10f-bf71828b1dd0"
      },
      "id": "ljaNJxkuJS6n",
      "execution_count": 15,
      "outputs": [
        {
          "output_type": "execute_result",
          "data": {
            "text/plain": [
              "tensor([[7, 7],\n",
              "        [8, 8]])"
            ]
          },
          "metadata": {},
          "execution_count": 15
        }
      ]
    },
    {
      "cell_type": "code",
      "source": [
        "MATRIX.ndim"
      ],
      "metadata": {
        "colab": {
          "base_uri": "https://localhost:8080/"
        },
        "id": "KB5MAZOfJffD",
        "outputId": "09f6acea-d8bb-43d3-bba5-1c1058857df6"
      },
      "id": "KB5MAZOfJffD",
      "execution_count": 16,
      "outputs": [
        {
          "output_type": "execute_result",
          "data": {
            "text/plain": [
              "2"
            ]
          },
          "metadata": {},
          "execution_count": 16
        }
      ]
    },
    {
      "cell_type": "code",
      "source": [
        "MATRIX[0]"
      ],
      "metadata": {
        "colab": {
          "base_uri": "https://localhost:8080/"
        },
        "id": "gLREUAcXJmDz",
        "outputId": "58928d2c-3e2e-4315-de42-133b11dbad2b"
      },
      "id": "gLREUAcXJmDz",
      "execution_count": 17,
      "outputs": [
        {
          "output_type": "execute_result",
          "data": {
            "text/plain": [
              "tensor([7, 7])"
            ]
          },
          "metadata": {},
          "execution_count": 17
        }
      ]
    },
    {
      "cell_type": "code",
      "source": [
        "# Tensor\n",
        "TENSOR = torch.tensor([[[1,2,3],\n",
        "                      [4,5,6],\n",
        "                      [7,8,9]]])\n",
        "TENSOR"
      ],
      "metadata": {
        "colab": {
          "base_uri": "https://localhost:8080/"
        },
        "id": "5Jio9FIlJ1Xc",
        "outputId": "835a1417-2e5d-4c83-a07a-820eabb61b6d"
      },
      "id": "5Jio9FIlJ1Xc",
      "execution_count": 23,
      "outputs": [
        {
          "output_type": "execute_result",
          "data": {
            "text/plain": [
              "tensor([[[1, 2, 3],\n",
              "         [4, 5, 6],\n",
              "         [7, 8, 9]]])"
            ]
          },
          "metadata": {},
          "execution_count": 23
        }
      ]
    },
    {
      "cell_type": "code",
      "source": [
        "TENSOR.ndim"
      ],
      "metadata": {
        "colab": {
          "base_uri": "https://localhost:8080/"
        },
        "id": "lPfdDHpiKGkA",
        "outputId": "a734de09-ff7c-4bb4-c0cd-39880e6d3730"
      },
      "id": "lPfdDHpiKGkA",
      "execution_count": 24,
      "outputs": [
        {
          "output_type": "execute_result",
          "data": {
            "text/plain": [
              "3"
            ]
          },
          "metadata": {},
          "execution_count": 24
        }
      ]
    },
    {
      "cell_type": "code",
      "source": [
        "TENSOR.shape"
      ],
      "metadata": {
        "colab": {
          "base_uri": "https://localhost:8080/"
        },
        "id": "cuLNm9OxKaPD",
        "outputId": "a0d05965-3026-4156-c67a-b410f622de92"
      },
      "id": "cuLNm9OxKaPD",
      "execution_count": 25,
      "outputs": [
        {
          "output_type": "execute_result",
          "data": {
            "text/plain": [
              "torch.Size([1, 3, 3])"
            ]
          },
          "metadata": {},
          "execution_count": 25
        }
      ]
    },
    {
      "cell_type": "code",
      "source": [
        "TENSOR[0]"
      ],
      "metadata": {
        "colab": {
          "base_uri": "https://localhost:8080/"
        },
        "id": "7VMRzgtCKktt",
        "outputId": "7e384c66-53cf-43a7-e2da-3e6ac755aad2"
      },
      "id": "7VMRzgtCKktt",
      "execution_count": 26,
      "outputs": [
        {
          "output_type": "execute_result",
          "data": {
            "text/plain": [
              "tensor([[1, 2, 3],\n",
              "        [4, 5, 6],\n",
              "        [7, 8, 9]])"
            ]
          },
          "metadata": {},
          "execution_count": 26
        }
      ]
    },
    {
      "cell_type": "code",
      "source": [
        "### LOS TENSORs te devuelven matrices al indexar, las matrices te devuelven vectores y los vectores devuelven scalares"
      ],
      "metadata": {
        "id": "aXnkLeHbKv5_"
      },
      "id": "aXnkLeHbKv5_",
      "execution_count": 28,
      "outputs": []
    },
    {
      "cell_type": "markdown",
      "source": [
        "## Random Tensors\n",
        "\n",
        "`Start with random numbers -> look at data -> update random numbers -> look at data -> update random numbers`"
      ],
      "metadata": {
        "id": "U1sbMNvxK240"
      },
      "id": "U1sbMNvxK240"
    },
    {
      "cell_type": "code",
      "source": [
        "# Create a random tensor of shape/size (3,4)\n",
        "random_tensor = torch.rand(3,4)\n",
        "random_tensor"
      ],
      "metadata": {
        "id": "Yoz5fr0JMDWo",
        "outputId": "761adffc-8950-49f6-844c-bc7e6df55c00",
        "colab": {
          "base_uri": "https://localhost:8080/"
        }
      },
      "id": "Yoz5fr0JMDWo",
      "execution_count": 35,
      "outputs": [
        {
          "output_type": "execute_result",
          "data": {
            "text/plain": [
              "tensor([[0.2577, 0.9130, 0.3816, 0.1750],\n",
              "        [0.4199, 0.5274, 0.8375, 0.1360],\n",
              "        [0.2744, 0.2699, 0.8109, 0.0538]])"
            ]
          },
          "metadata": {},
          "execution_count": 35
        }
      ]
    },
    {
      "cell_type": "code",
      "source": [
        "# Create a random tensor with similar shape to an imagen tensor\n",
        "random_image_size_tensor = torch.rand(size=(224, 224, 3)) # height, width, colour channels (R, G, B)"
      ],
      "metadata": {
        "id": "F_BbF65vNBXk"
      },
      "id": "F_BbF65vNBXk",
      "execution_count": 36,
      "outputs": []
    },
    {
      "cell_type": "markdown",
      "source": [
        "## Zeros and Ones"
      ],
      "metadata": {
        "id": "jAyo-wAaOKu3"
      },
      "id": "jAyo-wAaOKu3"
    },
    {
      "cell_type": "code",
      "source": [
        "### Create a tensor of all zeros\n",
        "zero = torch.zeros(3,4)\n",
        "zero"
      ],
      "metadata": {
        "id": "imrfla7pRR6t",
        "outputId": "f1db0de3-1a72-4f7a-885c-fab093400446",
        "colab": {
          "base_uri": "https://localhost:8080/"
        }
      },
      "id": "imrfla7pRR6t",
      "execution_count": 66,
      "outputs": [
        {
          "output_type": "execute_result",
          "data": {
            "text/plain": [
              "tensor([[0., 0., 0., 0.],\n",
              "        [0., 0., 0., 0.],\n",
              "        [0., 0., 0., 0.]])"
            ]
          },
          "metadata": {},
          "execution_count": 66
        }
      ]
    },
    {
      "cell_type": "code",
      "source": [
        "### Create a tensor of all ones\n",
        "ones = torch.ones(3,4)\n",
        "ones"
      ],
      "metadata": {
        "id": "0VxGKo3MRXV9",
        "outputId": "6d5edeed-7561-4d12-8cf7-3391c31f72af",
        "colab": {
          "base_uri": "https://localhost:8080/"
        }
      },
      "id": "0VxGKo3MRXV9",
      "execution_count": 67,
      "outputs": [
        {
          "output_type": "execute_result",
          "data": {
            "text/plain": [
              "tensor([[1., 1., 1., 1.],\n",
              "        [1., 1., 1., 1.],\n",
              "        [1., 1., 1., 1.]])"
            ]
          },
          "metadata": {},
          "execution_count": 67
        }
      ]
    },
    {
      "cell_type": "code",
      "source": [
        "ones.dtype #Default tensor type"
      ],
      "metadata": {
        "id": "VEyUV7WfQwUE",
        "outputId": "5773df08-7089-4fa1-b40a-a779f900798c",
        "colab": {
          "base_uri": "https://localhost:8080/"
        }
      },
      "id": "VEyUV7WfQwUE",
      "execution_count": 68,
      "outputs": [
        {
          "output_type": "execute_result",
          "data": {
            "text/plain": [
              "torch.float32"
            ]
          },
          "metadata": {},
          "execution_count": 68
        }
      ]
    },
    {
      "cell_type": "markdown",
      "source": [
        "## Create a range of tensor and tensors-like"
      ],
      "metadata": {
        "id": "jgkDPcHhRgLx"
      },
      "id": "jgkDPcHhRgLx"
    },
    {
      "cell_type": "code",
      "source": [
        "# Use torch.arange()\n",
        "one_to_ten = torch.arange(0,10)\n",
        "one_to_ten"
      ],
      "metadata": {
        "id": "3MdxGduqSLiX",
        "outputId": "06189388-7a61-4bad-a3cb-1c93bee9fc81",
        "colab": {
          "base_uri": "https://localhost:8080/"
        }
      },
      "id": "3MdxGduqSLiX",
      "execution_count": 74,
      "outputs": [
        {
          "output_type": "execute_result",
          "data": {
            "text/plain": [
              "tensor([0, 1, 2, 3, 4, 5, 6, 7, 8, 9])"
            ]
          },
          "metadata": {},
          "execution_count": 74
        }
      ]
    },
    {
      "cell_type": "code",
      "source": [
        "torch.arange(start=0, end=1000, step=33)"
      ],
      "metadata": {
        "id": "_jPuIeWRSSGM",
        "outputId": "5345bc4b-f897-4dff-bf84-7280ffd7d14a",
        "colab": {
          "base_uri": "https://localhost:8080/"
        }
      },
      "id": "_jPuIeWRSSGM",
      "execution_count": 75,
      "outputs": [
        {
          "output_type": "execute_result",
          "data": {
            "text/plain": [
              "tensor([  0,  33,  66,  99, 132, 165, 198, 231, 264, 297, 330, 363, 396, 429,\n",
              "        462, 495, 528, 561, 594, 627, 660, 693, 726, 759, 792, 825, 858, 891,\n",
              "        924, 957, 990])"
            ]
          },
          "metadata": {},
          "execution_count": 75
        }
      ]
    },
    {
      "cell_type": "code",
      "source": [
        "# Creating tensors-like\n",
        "ten_zeros = torch.zeros_like(one_to_ten)\n",
        "ten_zeros"
      ],
      "metadata": {
        "id": "7UYgd0LpSt6V",
        "outputId": "d37e39ab-e918-49be-cce5-39427aeac33e",
        "colab": {
          "base_uri": "https://localhost:8080/"
        }
      },
      "id": "7UYgd0LpSt6V",
      "execution_count": 77,
      "outputs": [
        {
          "output_type": "execute_result",
          "data": {
            "text/plain": [
              "tensor([0, 0, 0, 0, 0, 0, 0, 0, 0, 0])"
            ]
          },
          "metadata": {},
          "execution_count": 77
        }
      ]
    },
    {
      "cell_type": "code",
      "source": [
        ""
      ],
      "metadata": {
        "id": "GfipScytTNXD"
      },
      "id": "GfipScytTNXD",
      "execution_count": null,
      "outputs": []
    }
  ],
  "metadata": {
    "kernelspec": {
      "display_name": "Python 3",
      "name": "python3"
    },
    "language_info": {
      "codemirror_mode": {
        "name": "ipython",
        "version": 3
      },
      "file_extension": ".py",
      "mimetype": "text/x-python",
      "name": "python",
      "nbconvert_exporter": "python",
      "pygments_lexer": "ipython3",
      "version": "3.12.7"
    },
    "colab": {
      "provenance": [],
      "gpuType": "T4"
    },
    "accelerator": "GPU"
  },
  "nbformat": 4,
  "nbformat_minor": 5
}