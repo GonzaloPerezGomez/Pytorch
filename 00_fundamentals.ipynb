{
  "cells": [
    {
      "cell_type": "code",
      "source": [
        "import torch\n",
        "import pandas as pd\n",
        "import numpy as np\n",
        "import matplotlib.pyplot as plt\n"
      ],
      "metadata": {
        "id": "udJhs70oGwEC"
      },
      "id": "udJhs70oGwEC",
      "execution_count": 3,
      "outputs": []
    },
    {
      "cell_type": "code",
      "source": [
        "## Introduccion a Tensors\n",
        "\n",
        "#scalar\n",
        "scalar = torch.tensor(7)\n",
        "scalar #Objeto tipo tensor"
      ],
      "metadata": {
        "id": "amDHl5HGHM2e",
        "outputId": "43fed140-c849-489e-8a07-992939e2abe8",
        "colab": {
          "base_uri": "https://localhost:8080/"
        }
      },
      "id": "amDHl5HGHM2e",
      "execution_count": 7,
      "outputs": [
        {
          "output_type": "execute_result",
          "data": {
            "text/plain": [
              "tensor(7)"
            ]
          },
          "metadata": {},
          "execution_count": 7
        }
      ]
    },
    {
      "cell_type": "code",
      "source": [
        "scalar.ndim #Devuelve las dimensiones del tensor"
      ],
      "metadata": {
        "id": "NUMFbnaDIBJ8",
        "outputId": "f8e3f41d-03e6-4066-9957-becb2ef0f539",
        "colab": {
          "base_uri": "https://localhost:8080/"
        }
      },
      "id": "NUMFbnaDIBJ8",
      "execution_count": 8,
      "outputs": [
        {
          "output_type": "execute_result",
          "data": {
            "text/plain": [
              "0"
            ]
          },
          "metadata": {},
          "execution_count": 8
        }
      ]
    },
    {
      "cell_type": "code",
      "source": [
        "scalar.item() #Devuelve el elementos como integer"
      ],
      "metadata": {
        "id": "5xexH461ItpQ",
        "outputId": "31aa80bf-fc16-4edc-b1ee-50dd50fde320",
        "colab": {
          "base_uri": "https://localhost:8080/"
        }
      },
      "id": "5xexH461ItpQ",
      "execution_count": 9,
      "outputs": [
        {
          "output_type": "execute_result",
          "data": {
            "text/plain": [
              "7"
            ]
          },
          "metadata": {},
          "execution_count": 9
        }
      ]
    },
    {
      "cell_type": "code",
      "source": [
        "# Vector\n",
        "vector = torch.tensor([7,7])\n",
        "vector"
      ],
      "metadata": {
        "id": "d9mnk5IcIwrT",
        "outputId": "3cede6c3-f69b-4e84-e5c1-889d9ffdc92d",
        "colab": {
          "base_uri": "https://localhost:8080/"
        }
      },
      "id": "d9mnk5IcIwrT",
      "execution_count": 10,
      "outputs": [
        {
          "output_type": "execute_result",
          "data": {
            "text/plain": [
              "tensor([7, 7])"
            ]
          },
          "metadata": {},
          "execution_count": 10
        }
      ]
    },
    {
      "cell_type": "code",
      "source": [
        "vector.ndim"
      ],
      "metadata": {
        "id": "7Ll4ecvGJBfT",
        "outputId": "82d0cf11-e4dc-4e5c-e339-aad33a01cc00",
        "colab": {
          "base_uri": "https://localhost:8080/"
        }
      },
      "id": "7Ll4ecvGJBfT",
      "execution_count": 11,
      "outputs": [
        {
          "output_type": "execute_result",
          "data": {
            "text/plain": [
              "1"
            ]
          },
          "metadata": {},
          "execution_count": 11
        }
      ]
    },
    {
      "cell_type": "code",
      "source": [
        "vector.shape"
      ],
      "metadata": {
        "id": "vVE7A-VnJN5Z",
        "outputId": "f9ccc8ed-b1ca-4721-a185-733b33cf7592",
        "colab": {
          "base_uri": "https://localhost:8080/"
        }
      },
      "id": "vVE7A-VnJN5Z",
      "execution_count": 12,
      "outputs": [
        {
          "output_type": "execute_result",
          "data": {
            "text/plain": [
              "torch.Size([2])"
            ]
          },
          "metadata": {},
          "execution_count": 12
        }
      ]
    },
    {
      "cell_type": "code",
      "source": [
        "# Matrix\n",
        "MATRIX = torch.tensor([[7,7],\n",
        "                      [8,8]])\n",
        "MATRIX"
      ],
      "metadata": {
        "id": "ljaNJxkuJS6n",
        "outputId": "3ab44a9c-635d-4ad2-e10f-bf71828b1dd0",
        "colab": {
          "base_uri": "https://localhost:8080/"
        }
      },
      "id": "ljaNJxkuJS6n",
      "execution_count": 15,
      "outputs": [
        {
          "output_type": "execute_result",
          "data": {
            "text/plain": [
              "tensor([[7, 7],\n",
              "        [8, 8]])"
            ]
          },
          "metadata": {},
          "execution_count": 15
        }
      ]
    },
    {
      "cell_type": "code",
      "source": [
        "MATRIX.ndim"
      ],
      "metadata": {
        "id": "KB5MAZOfJffD",
        "outputId": "09f6acea-d8bb-43d3-bba5-1c1058857df6",
        "colab": {
          "base_uri": "https://localhost:8080/"
        }
      },
      "id": "KB5MAZOfJffD",
      "execution_count": 16,
      "outputs": [
        {
          "output_type": "execute_result",
          "data": {
            "text/plain": [
              "2"
            ]
          },
          "metadata": {},
          "execution_count": 16
        }
      ]
    },
    {
      "cell_type": "code",
      "source": [
        "MATRIX[0]"
      ],
      "metadata": {
        "id": "gLREUAcXJmDz",
        "outputId": "58928d2c-3e2e-4315-de42-133b11dbad2b",
        "colab": {
          "base_uri": "https://localhost:8080/"
        }
      },
      "id": "gLREUAcXJmDz",
      "execution_count": 17,
      "outputs": [
        {
          "output_type": "execute_result",
          "data": {
            "text/plain": [
              "tensor([7, 7])"
            ]
          },
          "metadata": {},
          "execution_count": 17
        }
      ]
    },
    {
      "cell_type": "code",
      "source": [
        "# Tensor\n",
        "TENSOR = torch.tensor([[[1,2,3],\n",
        "                      [4,5,6],\n",
        "                      [7,8,9]]])\n",
        "TENSOR"
      ],
      "metadata": {
        "id": "5Jio9FIlJ1Xc",
        "outputId": "835a1417-2e5d-4c83-a07a-820eabb61b6d",
        "colab": {
          "base_uri": "https://localhost:8080/"
        }
      },
      "id": "5Jio9FIlJ1Xc",
      "execution_count": 23,
      "outputs": [
        {
          "output_type": "execute_result",
          "data": {
            "text/plain": [
              "tensor([[[1, 2, 3],\n",
              "         [4, 5, 6],\n",
              "         [7, 8, 9]]])"
            ]
          },
          "metadata": {},
          "execution_count": 23
        }
      ]
    },
    {
      "cell_type": "code",
      "source": [
        "TENSOR.ndim"
      ],
      "metadata": {
        "id": "lPfdDHpiKGkA",
        "outputId": "a734de09-ff7c-4bb4-c0cd-39880e6d3730",
        "colab": {
          "base_uri": "https://localhost:8080/"
        }
      },
      "id": "lPfdDHpiKGkA",
      "execution_count": 24,
      "outputs": [
        {
          "output_type": "execute_result",
          "data": {
            "text/plain": [
              "3"
            ]
          },
          "metadata": {},
          "execution_count": 24
        }
      ]
    },
    {
      "cell_type": "code",
      "source": [
        "TENSOR.shape"
      ],
      "metadata": {
        "id": "cuLNm9OxKaPD",
        "outputId": "a0d05965-3026-4156-c67a-b410f622de92",
        "colab": {
          "base_uri": "https://localhost:8080/"
        }
      },
      "id": "cuLNm9OxKaPD",
      "execution_count": 25,
      "outputs": [
        {
          "output_type": "execute_result",
          "data": {
            "text/plain": [
              "torch.Size([1, 3, 3])"
            ]
          },
          "metadata": {},
          "execution_count": 25
        }
      ]
    },
    {
      "cell_type": "code",
      "source": [
        "TENSOR[0]"
      ],
      "metadata": {
        "id": "7VMRzgtCKktt",
        "outputId": "7e384c66-53cf-43a7-e2da-3e6ac755aad2",
        "colab": {
          "base_uri": "https://localhost:8080/"
        }
      },
      "id": "7VMRzgtCKktt",
      "execution_count": 26,
      "outputs": [
        {
          "output_type": "execute_result",
          "data": {
            "text/plain": [
              "tensor([[1, 2, 3],\n",
              "        [4, 5, 6],\n",
              "        [7, 8, 9]])"
            ]
          },
          "metadata": {},
          "execution_count": 26
        }
      ]
    },
    {
      "cell_type": "code",
      "source": [
        "### LOS TENSORs te devuelven matrices al indexar, las matrices te devuelven vectores y los vectores devuelven scalares"
      ],
      "metadata": {
        "id": "aXnkLeHbKv5_"
      },
      "id": "aXnkLeHbKv5_",
      "execution_count": 28,
      "outputs": []
    },
    {
      "cell_type": "code",
      "source": [],
      "metadata": {
        "id": "U1sbMNvxK240"
      },
      "id": "U1sbMNvxK240",
      "execution_count": null,
      "outputs": []
    }
  ],
  "metadata": {
    "kernelspec": {
      "display_name": "Python 3",
      "name": "python3"
    },
    "language_info": {
      "codemirror_mode": {
        "name": "ipython",
        "version": 3
      },
      "file_extension": ".py",
      "mimetype": "text/x-python",
      "name": "python",
      "nbconvert_exporter": "python",
      "pygments_lexer": "ipython3",
      "version": "3.12.7"
    },
    "colab": {
      "provenance": [],
      "gpuType": "T4"
    },
    "accelerator": "GPU"
  },
  "nbformat": 4,
  "nbformat_minor": 5
}