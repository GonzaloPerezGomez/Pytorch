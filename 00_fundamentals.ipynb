{
  "cells": [
    {
      "cell_type": "code",
      "source": [
        "import torch\n",
        "import pandas as pd\n",
        "import numpy as np\n",
        "import matplotlib.pyplot as plt\n"
      ],
      "metadata": {
        "id": "udJhs70oGwEC"
      },
      "id": "udJhs70oGwEC",
      "execution_count": 2,
      "outputs": []
    },
    {
      "cell_type": "markdown",
      "source": [
        "## Introduccion a Tensors\n"
      ],
      "metadata": {
        "id": "amDHl5HGHM2e"
      },
      "id": "amDHl5HGHM2e"
    },
    {
      "cell_type": "code",
      "source": [
        "\n",
        "#scalar\n",
        "scalar = torch.tensor(7)\n",
        "scalar #Objeto tipo tensor"
      ],
      "metadata": {
        "id": "-wuwgPImMImj",
        "outputId": "f22f1173-abf6-49d4-95e2-3fdb2ede2cfc",
        "colab": {
          "base_uri": "https://localhost:8080/"
        }
      },
      "id": "-wuwgPImMImj",
      "execution_count": 3,
      "outputs": [
        {
          "output_type": "execute_result",
          "data": {
            "text/plain": [
              "tensor(7)"
            ]
          },
          "metadata": {},
          "execution_count": 3
        }
      ]
    },
    {
      "cell_type": "code",
      "source": [
        "scalar.ndim #Devuelve las dimensiones del tensor"
      ],
      "metadata": {
        "colab": {
          "base_uri": "https://localhost:8080/"
        },
        "id": "NUMFbnaDIBJ8",
        "outputId": "68e85368-7b74-4252-9a40-f96a514a3e8d"
      },
      "id": "NUMFbnaDIBJ8",
      "execution_count": 4,
      "outputs": [
        {
          "output_type": "execute_result",
          "data": {
            "text/plain": [
              "0"
            ]
          },
          "metadata": {},
          "execution_count": 4
        }
      ]
    },
    {
      "cell_type": "code",
      "source": [
        "scalar.item() #Devuelve el elementos como integer"
      ],
      "metadata": {
        "colab": {
          "base_uri": "https://localhost:8080/"
        },
        "id": "5xexH461ItpQ",
        "outputId": "c63021ec-38a3-452b-ddce-2fdae64cd02c"
      },
      "id": "5xexH461ItpQ",
      "execution_count": 5,
      "outputs": [
        {
          "output_type": "execute_result",
          "data": {
            "text/plain": [
              "7"
            ]
          },
          "metadata": {},
          "execution_count": 5
        }
      ]
    },
    {
      "cell_type": "code",
      "source": [
        "# Vector\n",
        "vector = torch.tensor([7,7])\n",
        "vector"
      ],
      "metadata": {
        "colab": {
          "base_uri": "https://localhost:8080/"
        },
        "id": "d9mnk5IcIwrT",
        "outputId": "f3aa22ab-d8a7-4bcd-ff27-267e1414d521"
      },
      "id": "d9mnk5IcIwrT",
      "execution_count": 6,
      "outputs": [
        {
          "output_type": "execute_result",
          "data": {
            "text/plain": [
              "tensor([7, 7])"
            ]
          },
          "metadata": {},
          "execution_count": 6
        }
      ]
    },
    {
      "cell_type": "code",
      "source": [
        "vector.ndim"
      ],
      "metadata": {
        "colab": {
          "base_uri": "https://localhost:8080/"
        },
        "id": "7Ll4ecvGJBfT",
        "outputId": "72203f3d-3c6d-4b12-fba1-e03959ff6d88"
      },
      "id": "7Ll4ecvGJBfT",
      "execution_count": 7,
      "outputs": [
        {
          "output_type": "execute_result",
          "data": {
            "text/plain": [
              "1"
            ]
          },
          "metadata": {},
          "execution_count": 7
        }
      ]
    },
    {
      "cell_type": "code",
      "source": [
        "vector.shape"
      ],
      "metadata": {
        "colab": {
          "base_uri": "https://localhost:8080/"
        },
        "id": "vVE7A-VnJN5Z",
        "outputId": "935e095c-a3e9-4d34-bce8-b0128a79bd17"
      },
      "id": "vVE7A-VnJN5Z",
      "execution_count": 8,
      "outputs": [
        {
          "output_type": "execute_result",
          "data": {
            "text/plain": [
              "torch.Size([2])"
            ]
          },
          "metadata": {},
          "execution_count": 8
        }
      ]
    },
    {
      "cell_type": "code",
      "source": [
        "# Matrix\n",
        "MATRIX = torch.tensor([[7,7],\n",
        "                      [8,8]])\n",
        "MATRIX"
      ],
      "metadata": {
        "colab": {
          "base_uri": "https://localhost:8080/"
        },
        "id": "ljaNJxkuJS6n",
        "outputId": "daaf3e3f-036f-49ba-9f76-8d5f4824a287"
      },
      "id": "ljaNJxkuJS6n",
      "execution_count": 9,
      "outputs": [
        {
          "output_type": "execute_result",
          "data": {
            "text/plain": [
              "tensor([[7, 7],\n",
              "        [8, 8]])"
            ]
          },
          "metadata": {},
          "execution_count": 9
        }
      ]
    },
    {
      "cell_type": "code",
      "source": [
        "MATRIX.ndim"
      ],
      "metadata": {
        "colab": {
          "base_uri": "https://localhost:8080/"
        },
        "id": "KB5MAZOfJffD",
        "outputId": "5f4a091a-9e0a-4bf9-c205-08d350c1ecbc"
      },
      "id": "KB5MAZOfJffD",
      "execution_count": 10,
      "outputs": [
        {
          "output_type": "execute_result",
          "data": {
            "text/plain": [
              "2"
            ]
          },
          "metadata": {},
          "execution_count": 10
        }
      ]
    },
    {
      "cell_type": "code",
      "source": [
        "MATRIX[0]"
      ],
      "metadata": {
        "colab": {
          "base_uri": "https://localhost:8080/"
        },
        "id": "gLREUAcXJmDz",
        "outputId": "cf241bc6-c88f-4646-d96e-751aed712a3b"
      },
      "id": "gLREUAcXJmDz",
      "execution_count": 11,
      "outputs": [
        {
          "output_type": "execute_result",
          "data": {
            "text/plain": [
              "tensor([7, 7])"
            ]
          },
          "metadata": {},
          "execution_count": 11
        }
      ]
    },
    {
      "cell_type": "code",
      "source": [
        "# Tensor\n",
        "TENSOR = torch.tensor([[[1,2,3],\n",
        "                      [4,5,6],\n",
        "                      [7,8,9]]])\n",
        "TENSOR"
      ],
      "metadata": {
        "colab": {
          "base_uri": "https://localhost:8080/"
        },
        "id": "5Jio9FIlJ1Xc",
        "outputId": "d776db5b-e73c-472e-8f05-f6fe87e9d271"
      },
      "id": "5Jio9FIlJ1Xc",
      "execution_count": 12,
      "outputs": [
        {
          "output_type": "execute_result",
          "data": {
            "text/plain": [
              "tensor([[[1, 2, 3],\n",
              "         [4, 5, 6],\n",
              "         [7, 8, 9]]])"
            ]
          },
          "metadata": {},
          "execution_count": 12
        }
      ]
    },
    {
      "cell_type": "code",
      "source": [
        "TENSOR.ndim"
      ],
      "metadata": {
        "colab": {
          "base_uri": "https://localhost:8080/"
        },
        "id": "lPfdDHpiKGkA",
        "outputId": "77e91284-1291-4a1c-8364-a08650857074"
      },
      "id": "lPfdDHpiKGkA",
      "execution_count": 13,
      "outputs": [
        {
          "output_type": "execute_result",
          "data": {
            "text/plain": [
              "3"
            ]
          },
          "metadata": {},
          "execution_count": 13
        }
      ]
    },
    {
      "cell_type": "code",
      "source": [
        "TENSOR.shape"
      ],
      "metadata": {
        "colab": {
          "base_uri": "https://localhost:8080/"
        },
        "id": "cuLNm9OxKaPD",
        "outputId": "0dd668db-428b-431b-c1d6-dbf11073c8b9"
      },
      "id": "cuLNm9OxKaPD",
      "execution_count": 14,
      "outputs": [
        {
          "output_type": "execute_result",
          "data": {
            "text/plain": [
              "torch.Size([1, 3, 3])"
            ]
          },
          "metadata": {},
          "execution_count": 14
        }
      ]
    },
    {
      "cell_type": "code",
      "source": [
        "TENSOR[0]"
      ],
      "metadata": {
        "colab": {
          "base_uri": "https://localhost:8080/"
        },
        "id": "7VMRzgtCKktt",
        "outputId": "4e99ad98-14dc-4fbe-c8d3-cabcf1cd4422"
      },
      "id": "7VMRzgtCKktt",
      "execution_count": 15,
      "outputs": [
        {
          "output_type": "execute_result",
          "data": {
            "text/plain": [
              "tensor([[1, 2, 3],\n",
              "        [4, 5, 6],\n",
              "        [7, 8, 9]])"
            ]
          },
          "metadata": {},
          "execution_count": 15
        }
      ]
    },
    {
      "cell_type": "code",
      "source": [
        "### LOS TENSORs te devuelven matrices al indexar, las matrices te devuelven vectores y los vectores devuelven scalares"
      ],
      "metadata": {
        "id": "aXnkLeHbKv5_"
      },
      "id": "aXnkLeHbKv5_",
      "execution_count": 16,
      "outputs": []
    },
    {
      "cell_type": "markdown",
      "source": [
        "## Random Tensors\n",
        "\n",
        "`Start with random numbers -> look at data -> update random numbers -> look at data -> update random numbers`"
      ],
      "metadata": {
        "id": "U1sbMNvxK240"
      },
      "id": "U1sbMNvxK240"
    },
    {
      "cell_type": "code",
      "source": [
        "# Create a random tensor of shape/size (3,4)\n",
        "random_tensor = torch.rand(3,4)\n",
        "random_tensor"
      ],
      "metadata": {
        "id": "Yoz5fr0JMDWo",
        "outputId": "97a6f630-6682-4d65-f45c-f47c5e1f9d8d",
        "colab": {
          "base_uri": "https://localhost:8080/"
        }
      },
      "id": "Yoz5fr0JMDWo",
      "execution_count": 17,
      "outputs": [
        {
          "output_type": "execute_result",
          "data": {
            "text/plain": [
              "tensor([[0.5285, 0.2619, 0.8226, 0.4974],\n",
              "        [0.3874, 0.1766, 0.0529, 0.6234],\n",
              "        [0.8235, 0.8523, 0.5511, 0.9895]])"
            ]
          },
          "metadata": {},
          "execution_count": 17
        }
      ]
    },
    {
      "cell_type": "code",
      "source": [
        "# Create a random tensor with similar shape to an imagen tensor\n",
        "random_image_size_tensor = torch.rand(size=(224, 224, 3)) # height, width, colour channels (R, G, B)"
      ],
      "metadata": {
        "id": "F_BbF65vNBXk"
      },
      "id": "F_BbF65vNBXk",
      "execution_count": 18,
      "outputs": []
    },
    {
      "cell_type": "markdown",
      "source": [
        "## Zeros and Ones"
      ],
      "metadata": {
        "id": "jAyo-wAaOKu3"
      },
      "id": "jAyo-wAaOKu3"
    },
    {
      "cell_type": "code",
      "source": [
        "### Create a tensor of all zeros\n",
        "zero = torch.zeros(3,4)\n",
        "zero"
      ],
      "metadata": {
        "id": "imrfla7pRR6t",
        "outputId": "e1ca77ec-7ac9-4f29-9853-27bedb3d9cb4",
        "colab": {
          "base_uri": "https://localhost:8080/"
        }
      },
      "id": "imrfla7pRR6t",
      "execution_count": 19,
      "outputs": [
        {
          "output_type": "execute_result",
          "data": {
            "text/plain": [
              "tensor([[0., 0., 0., 0.],\n",
              "        [0., 0., 0., 0.],\n",
              "        [0., 0., 0., 0.]])"
            ]
          },
          "metadata": {},
          "execution_count": 19
        }
      ]
    },
    {
      "cell_type": "code",
      "source": [
        "### Create a tensor of all ones\n",
        "ones = torch.ones(3,4)\n",
        "ones"
      ],
      "metadata": {
        "id": "0VxGKo3MRXV9",
        "outputId": "76bd67ca-e234-4896-92a4-5e9fe1a6e9b4",
        "colab": {
          "base_uri": "https://localhost:8080/"
        }
      },
      "id": "0VxGKo3MRXV9",
      "execution_count": 20,
      "outputs": [
        {
          "output_type": "execute_result",
          "data": {
            "text/plain": [
              "tensor([[1., 1., 1., 1.],\n",
              "        [1., 1., 1., 1.],\n",
              "        [1., 1., 1., 1.]])"
            ]
          },
          "metadata": {},
          "execution_count": 20
        }
      ]
    },
    {
      "cell_type": "code",
      "source": [
        "ones.dtype #Default tensor type"
      ],
      "metadata": {
        "id": "VEyUV7WfQwUE",
        "outputId": "ee6bb409-4eb1-4f1c-fd6b-1061212a5b52",
        "colab": {
          "base_uri": "https://localhost:8080/"
        }
      },
      "id": "VEyUV7WfQwUE",
      "execution_count": 21,
      "outputs": [
        {
          "output_type": "execute_result",
          "data": {
            "text/plain": [
              "torch.float32"
            ]
          },
          "metadata": {},
          "execution_count": 21
        }
      ]
    },
    {
      "cell_type": "markdown",
      "source": [
        "## Create a range of tensor and tensors-like"
      ],
      "metadata": {
        "id": "jgkDPcHhRgLx"
      },
      "id": "jgkDPcHhRgLx"
    },
    {
      "cell_type": "code",
      "source": [
        "# Use torch.arange()\n",
        "one_to_ten = torch.arange(0,10)\n",
        "one_to_ten"
      ],
      "metadata": {
        "id": "3MdxGduqSLiX",
        "outputId": "9fde6962-643b-42fa-e219-f67611349071",
        "colab": {
          "base_uri": "https://localhost:8080/"
        }
      },
      "id": "3MdxGduqSLiX",
      "execution_count": 22,
      "outputs": [
        {
          "output_type": "execute_result",
          "data": {
            "text/plain": [
              "tensor([0, 1, 2, 3, 4, 5, 6, 7, 8, 9])"
            ]
          },
          "metadata": {},
          "execution_count": 22
        }
      ]
    },
    {
      "cell_type": "code",
      "source": [
        "torch.arange(start=0, end=1000, step=33)"
      ],
      "metadata": {
        "id": "_jPuIeWRSSGM",
        "outputId": "85691d14-6e15-4ea9-f835-f2a4d647904b",
        "colab": {
          "base_uri": "https://localhost:8080/"
        }
      },
      "id": "_jPuIeWRSSGM",
      "execution_count": 23,
      "outputs": [
        {
          "output_type": "execute_result",
          "data": {
            "text/plain": [
              "tensor([  0,  33,  66,  99, 132, 165, 198, 231, 264, 297, 330, 363, 396, 429,\n",
              "        462, 495, 528, 561, 594, 627, 660, 693, 726, 759, 792, 825, 858, 891,\n",
              "        924, 957, 990])"
            ]
          },
          "metadata": {},
          "execution_count": 23
        }
      ]
    },
    {
      "cell_type": "code",
      "source": [
        "# Creating tensors-like\n",
        "ten_zeros = torch.zeros_like(one_to_ten)\n",
        "ten_zeros"
      ],
      "metadata": {
        "id": "7UYgd0LpSt6V",
        "outputId": "96a2ad20-02d0-493f-a8fe-2940ea06014e",
        "colab": {
          "base_uri": "https://localhost:8080/"
        }
      },
      "id": "7UYgd0LpSt6V",
      "execution_count": 24,
      "outputs": [
        {
          "output_type": "execute_result",
          "data": {
            "text/plain": [
              "tensor([0, 0, 0, 0, 0, 0, 0, 0, 0, 0])"
            ]
          },
          "metadata": {},
          "execution_count": 24
        }
      ]
    },
    {
      "cell_type": "markdown",
      "source": [
        "## Tensor Datatypes\n",
        "**Note**: Datatypes is on of the big 3 problems u will run into\n",
        "1. Tensor not right datatypes\n",
        "2. Tensors not right shape\n",
        "3. Tensor not on the right device"
      ],
      "metadata": {
        "id": "0bOgok63HrBk"
      },
      "id": "0bOgok63HrBk"
    },
    {
      "cell_type": "code",
      "source": [
        "# Float 32 tensor\n",
        "float_32_tensor = torch.tensor([3.2, 6.1, 9.3],\n",
        "                               dtype=None,            # What datatype is the tensor (float_32, float_16, ...)\n",
        "                               device=None,           # What device is your tensor on\n",
        "                               requires_grad=False)   # Track the gradiance\n",
        "float_32_tensor"
      ],
      "metadata": {
        "id": "6JsdHefRHqmU",
        "outputId": "9ed78ff6-c4b0-4784-83ae-5634dbfbe841",
        "colab": {
          "base_uri": "https://localhost:8080/"
        }
      },
      "id": "6JsdHefRHqmU",
      "execution_count": 46,
      "outputs": [
        {
          "output_type": "execute_result",
          "data": {
            "text/plain": [
              "tensor([3.2000, 6.1000, 9.3000])"
            ]
          },
          "metadata": {},
          "execution_count": 46
        }
      ]
    },
    {
      "cell_type": "code",
      "source": [
        "float_16_tensor = float_32_tensor.type(torch.float16)\n",
        "float_16_tensor"
      ],
      "metadata": {
        "id": "5UqfcaXiH9S2",
        "outputId": "86727435-d06e-48d7-cec1-02ddbe7a0061",
        "colab": {
          "base_uri": "https://localhost:8080/"
        }
      },
      "id": "5UqfcaXiH9S2",
      "execution_count": 47,
      "outputs": [
        {
          "output_type": "execute_result",
          "data": {
            "text/plain": [
              "tensor([3.1992, 6.1016, 9.2969], dtype=torch.float16)"
            ]
          },
          "metadata": {},
          "execution_count": 47
        }
      ]
    },
    {
      "cell_type": "code",
      "source": [
        "float_16_tensor * float_32_tensor"
      ],
      "metadata": {
        "id": "tY8o735mKECU",
        "outputId": "bdad3846-a1af-4e60-9406-dab9492a4054",
        "colab": {
          "base_uri": "https://localhost:8080/"
        }
      },
      "id": "tY8o735mKECU",
      "execution_count": 48,
      "outputs": [
        {
          "output_type": "execute_result",
          "data": {
            "text/plain": [
              "tensor([10.2375, 37.2195, 86.4609])"
            ]
          },
          "metadata": {},
          "execution_count": 48
        }
      ]
    },
    {
      "cell_type": "markdown",
      "source": [
        "## Getting Information from Tensors (attributes)\n",
        "\n",
        "1. Datatype: tensor:dtype\n",
        "2. Shape: tensor.shape\n",
        "3. Device: tensor-device"
      ],
      "metadata": {
        "id": "UrKs3LcaJ-6k"
      },
      "id": "UrKs3LcaJ-6k"
    },
    {
      "cell_type": "code",
      "source": [
        "tensor = torch.rand(3,4)\n",
        "tensor"
      ],
      "metadata": {
        "id": "xFKU5tIsJ_8F",
        "outputId": "767730bb-5c6d-4c94-97df-cd0e4725614a",
        "colab": {
          "base_uri": "https://localhost:8080/"
        }
      },
      "id": "xFKU5tIsJ_8F",
      "execution_count": 55,
      "outputs": [
        {
          "output_type": "execute_result",
          "data": {
            "text/plain": [
              "tensor([[0.8535, 0.3330, 0.9640, 0.3834],\n",
              "        [0.2542, 0.2655, 0.8855, 0.7281],\n",
              "        [0.8921, 0.6476, 0.9549, 0.0871]])"
            ]
          },
          "metadata": {},
          "execution_count": 55
        }
      ]
    },
    {
      "cell_type": "code",
      "source": [
        "print(f\"Datatype of tensor: {tensor.dtype}\")\n",
        "print(f\"Shape of tensor: {tensor.shape, tensor.size()}\")\n",
        "print(f\"Device of tensor: {tensor.device}\")"
      ],
      "metadata": {
        "id": "MlRNM5t4Lf1k",
        "outputId": "9253ff6f-12b9-4c8b-96db-d7e14e168d2e",
        "colab": {
          "base_uri": "https://localhost:8080/"
        }
      },
      "id": "MlRNM5t4Lf1k",
      "execution_count": 56,
      "outputs": [
        {
          "output_type": "stream",
          "name": "stdout",
          "text": [
            "Datatype of tensor: torch.float32\n",
            "Shape of tensor: (torch.Size([3, 4]), torch.Size([3, 4]))\n",
            "Device of tensor: cpu\n"
          ]
        }
      ]
    },
    {
      "cell_type": "markdown",
      "source": [
        "## Manipulating Tensors (tensor operations)\n",
        "\n",
        "Tensor operations include:\n",
        "1. +\n",
        "2. -\n",
        "3. *\n",
        "4. /\n",
        "5. Matrix multiplications"
      ],
      "metadata": {
        "id": "-B_0s1SDL9ZC"
      },
      "id": "-B_0s1SDL9ZC"
    },
    {
      "cell_type": "code",
      "source": [
        "tensor = torch.tensor([1,2,3])\n",
        "\n",
        "# Addition\n",
        "tensor + 10"
      ],
      "metadata": {
        "id": "MadWI__kMUPM",
        "outputId": "f2a12f41-a607-4776-bc61-30e16d57ef24",
        "colab": {
          "base_uri": "https://localhost:8080/"
        }
      },
      "id": "MadWI__kMUPM",
      "execution_count": 62,
      "outputs": [
        {
          "output_type": "execute_result",
          "data": {
            "text/plain": [
              "tensor([11, 12, 13])"
            ]
          },
          "metadata": {},
          "execution_count": 62
        }
      ]
    },
    {
      "cell_type": "code",
      "source": [
        "# Multiply\n",
        "tensor * 10"
      ],
      "metadata": {
        "id": "uElfpGswMxuK",
        "outputId": "c4ed781c-eeaa-4697-c1b6-e80d6242196c",
        "colab": {
          "base_uri": "https://localhost:8080/"
        }
      },
      "id": "uElfpGswMxuK",
      "execution_count": 63,
      "outputs": [
        {
          "output_type": "execute_result",
          "data": {
            "text/plain": [
              "tensor([10, 20, 30])"
            ]
          },
          "metadata": {},
          "execution_count": 63
        }
      ]
    },
    {
      "cell_type": "code",
      "source": [
        "# Subtraction\n",
        "tensor - 10"
      ],
      "metadata": {
        "id": "hNQu-pR3M4ne",
        "outputId": "e681cd71-be93-4f67-b4fe-dd1736389b9f",
        "colab": {
          "base_uri": "https://localhost:8080/"
        }
      },
      "id": "hNQu-pR3M4ne",
      "execution_count": 64,
      "outputs": [
        {
          "output_type": "execute_result",
          "data": {
            "text/plain": [
              "tensor([-9, -8, -7])"
            ]
          },
          "metadata": {},
          "execution_count": 64
        }
      ]
    },
    {
      "cell_type": "code",
      "source": [
        "# Division\n",
        "tensor / 10"
      ],
      "metadata": {
        "id": "Q3o_VuYqNaBd",
        "outputId": "3382ea0b-1e9a-4db1-ce1b-dbf579a2ef82",
        "colab": {
          "base_uri": "https://localhost:8080/"
        }
      },
      "id": "Q3o_VuYqNaBd",
      "execution_count": 67,
      "outputs": [
        {
          "output_type": "execute_result",
          "data": {
            "text/plain": [
              "tensor([0.1000, 0.2000, 0.3000])"
            ]
          },
          "metadata": {},
          "execution_count": 67
        }
      ]
    },
    {
      "cell_type": "code",
      "source": [
        "# Buildup functions\n",
        "tensor.add(10), tensor.sub(10), tensor.mul(10), tensor.div(10)"
      ],
      "metadata": {
        "id": "4SVVsHOoNCkJ",
        "outputId": "1d45aee1-df8b-4622-c19b-ee379dd20aee",
        "colab": {
          "base_uri": "https://localhost:8080/"
        }
      },
      "id": "4SVVsHOoNCkJ",
      "execution_count": 68,
      "outputs": [
        {
          "output_type": "execute_result",
          "data": {
            "text/plain": [
              "(tensor([11, 12, 13]),\n",
              " tensor([-9, -8, -7]),\n",
              " tensor([10, 20, 30]),\n",
              " tensor([0.1000, 0.2000, 0.3000]))"
            ]
          },
          "metadata": {},
          "execution_count": 68
        }
      ]
    },
    {
      "cell_type": "code",
      "source": [
        "# Matric multiplion\n",
        "# 2 Ways"
      ],
      "metadata": {
        "id": "ylXQexriNHfq"
      },
      "id": "ylXQexriNHfq",
      "execution_count": 69,
      "outputs": []
    },
    {
      "cell_type": "code",
      "source": [
        "# 1. Elemento-wise multiplication\n",
        "\n",
        "print(tensor, \"*\", tensor)\n",
        "print(\"Equals: \", tensor * tensor)"
      ],
      "metadata": {
        "id": "VkyoZgSkNoPx",
        "outputId": "cb640510-b23a-48ac-b6a1-b059d5f33317",
        "colab": {
          "base_uri": "https://localhost:8080/"
        }
      },
      "id": "VkyoZgSkNoPx",
      "execution_count": 74,
      "outputs": [
        {
          "output_type": "stream",
          "name": "stdout",
          "text": [
            "tensor([1, 2, 3]) * tensor([1, 2, 3])\n",
            "Equals:  tensor([1, 4, 9])\n"
          ]
        }
      ]
    },
    {
      "cell_type": "code",
      "source": [
        "# 2. Matrix multiplication\n",
        "torch.matmul(tensor, tensor)"
      ],
      "metadata": {
        "id": "Ev_iLeJyOFHU",
        "outputId": "e4bafa29-fea2-49d6-8104-232678de0671",
        "colab": {
          "base_uri": "https://localhost:8080/"
        }
      },
      "id": "Ev_iLeJyOFHU",
      "execution_count": 75,
      "outputs": [
        {
          "output_type": "execute_result",
          "data": {
            "text/plain": [
              "tensor(14)"
            ]
          },
          "metadata": {},
          "execution_count": 75
        }
      ]
    },
    {
      "cell_type": "code",
      "source": [
        "%%time\n",
        "values = 0\n",
        "for i in range(len(tensor)):\n",
        "  values += tensor[i] * tensor[i]\n",
        "values"
      ],
      "metadata": {
        "id": "SSyAcH73Omhj",
        "outputId": "f52210ab-225a-45cc-f0d9-2dabd7dd0f0e",
        "colab": {
          "base_uri": "https://localhost:8080/"
        }
      },
      "id": "SSyAcH73Omhj",
      "execution_count": 77,
      "outputs": [
        {
          "output_type": "stream",
          "name": "stdout",
          "text": [
            "CPU times: user 820 µs, sys: 0 ns, total: 820 µs\n",
            "Wall time: 694 µs\n"
          ]
        },
        {
          "output_type": "execute_result",
          "data": {
            "text/plain": [
              "tensor(14)"
            ]
          },
          "metadata": {},
          "execution_count": 77
        }
      ]
    },
    {
      "cell_type": "code",
      "source": [
        "%%time\n",
        "torch.matmul(tensor, tensor)"
      ],
      "metadata": {
        "id": "pSIzZceAPRQD",
        "outputId": "2ba6363b-1ea2-45ff-966b-c1709c6c7ef6",
        "colab": {
          "base_uri": "https://localhost:8080/"
        }
      },
      "id": "pSIzZceAPRQD",
      "execution_count": 78,
      "outputs": [
        {
          "output_type": "stream",
          "name": "stdout",
          "text": [
            "CPU times: user 369 µs, sys: 17 µs, total: 386 µs\n",
            "Wall time: 287 µs\n"
          ]
        },
        {
          "output_type": "execute_result",
          "data": {
            "text/plain": [
              "tensor(14)"
            ]
          },
          "metadata": {},
          "execution_count": 78
        }
      ]
    },
    {
      "cell_type": "code",
      "source": [],
      "metadata": {
        "id": "LorhIBLHPbsP"
      },
      "id": "LorhIBLHPbsP",
      "execution_count": null,
      "outputs": []
    }
  ],
  "metadata": {
    "kernelspec": {
      "display_name": "Python 3",
      "name": "python3"
    },
    "language_info": {
      "codemirror_mode": {
        "name": "ipython",
        "version": 3
      },
      "file_extension": ".py",
      "mimetype": "text/x-python",
      "name": "python",
      "nbconvert_exporter": "python",
      "pygments_lexer": "ipython3",
      "version": "3.12.7"
    },
    "colab": {
      "provenance": [],
      "gpuType": "T4"
    },
    "accelerator": "GPU"
  },
  "nbformat": 4,
  "nbformat_minor": 5
}