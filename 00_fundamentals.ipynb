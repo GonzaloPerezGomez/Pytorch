{
  "cells": [
    {
      "cell_type": "code",
      "source": [
        "import torch\n",
        "import pandas as pd\n",
        "import numpy as np\n",
        "import matplotlib.pyplot as plt\n"
      ],
      "metadata": {
        "id": "udJhs70oGwEC"
      },
      "id": "udJhs70oGwEC",
      "execution_count": 1,
      "outputs": []
    },
    {
      "cell_type": "markdown",
      "source": [
        "## Introduccion a Tensors\n"
      ],
      "metadata": {
        "id": "amDHl5HGHM2e"
      },
      "id": "amDHl5HGHM2e"
    },
    {
      "cell_type": "code",
      "source": [
        "\n",
        "#scalar\n",
        "scalar = torch.tensor(7)\n",
        "scalar #Objeto tipo tensor"
      ],
      "metadata": {
        "id": "-wuwgPImMImj",
        "outputId": "38953372-81c4-4142-b924-ad48401ed3c9",
        "colab": {
          "base_uri": "https://localhost:8080/"
        }
      },
      "id": "-wuwgPImMImj",
      "execution_count": 2,
      "outputs": [
        {
          "output_type": "execute_result",
          "data": {
            "text/plain": [
              "tensor(7)"
            ]
          },
          "metadata": {},
          "execution_count": 2
        }
      ]
    },
    {
      "cell_type": "code",
      "source": [
        "scalar.ndim #Devuelve las dimensiones del tensor"
      ],
      "metadata": {
        "colab": {
          "base_uri": "https://localhost:8080/"
        },
        "id": "NUMFbnaDIBJ8",
        "outputId": "e0a8648a-34ad-4672-a283-1d4236a8914f"
      },
      "id": "NUMFbnaDIBJ8",
      "execution_count": 3,
      "outputs": [
        {
          "output_type": "execute_result",
          "data": {
            "text/plain": [
              "0"
            ]
          },
          "metadata": {},
          "execution_count": 3
        }
      ]
    },
    {
      "cell_type": "code",
      "source": [
        "scalar.item() #Devuelve el elementos como integer"
      ],
      "metadata": {
        "colab": {
          "base_uri": "https://localhost:8080/"
        },
        "id": "5xexH461ItpQ",
        "outputId": "1eacf3b4-5c37-49be-9c0a-3e3e8e670beb"
      },
      "id": "5xexH461ItpQ",
      "execution_count": 4,
      "outputs": [
        {
          "output_type": "execute_result",
          "data": {
            "text/plain": [
              "7"
            ]
          },
          "metadata": {},
          "execution_count": 4
        }
      ]
    },
    {
      "cell_type": "code",
      "source": [
        "# Vector\n",
        "vector = torch.tensor([7,7])\n",
        "vector"
      ],
      "metadata": {
        "colab": {
          "base_uri": "https://localhost:8080/"
        },
        "id": "d9mnk5IcIwrT",
        "outputId": "b679c787-15ef-4c54-e758-b7954eb1a399"
      },
      "id": "d9mnk5IcIwrT",
      "execution_count": 5,
      "outputs": [
        {
          "output_type": "execute_result",
          "data": {
            "text/plain": [
              "tensor([7, 7])"
            ]
          },
          "metadata": {},
          "execution_count": 5
        }
      ]
    },
    {
      "cell_type": "code",
      "source": [
        "vector.ndim"
      ],
      "metadata": {
        "colab": {
          "base_uri": "https://localhost:8080/"
        },
        "id": "7Ll4ecvGJBfT",
        "outputId": "9a81c84e-9f3c-449c-afeb-1be2e788567e"
      },
      "id": "7Ll4ecvGJBfT",
      "execution_count": 6,
      "outputs": [
        {
          "output_type": "execute_result",
          "data": {
            "text/plain": [
              "1"
            ]
          },
          "metadata": {},
          "execution_count": 6
        }
      ]
    },
    {
      "cell_type": "code",
      "source": [
        "vector.shape"
      ],
      "metadata": {
        "colab": {
          "base_uri": "https://localhost:8080/"
        },
        "id": "vVE7A-VnJN5Z",
        "outputId": "ecf98350-6c96-488b-96e6-8f3582cc7520"
      },
      "id": "vVE7A-VnJN5Z",
      "execution_count": 7,
      "outputs": [
        {
          "output_type": "execute_result",
          "data": {
            "text/plain": [
              "torch.Size([2])"
            ]
          },
          "metadata": {},
          "execution_count": 7
        }
      ]
    },
    {
      "cell_type": "code",
      "source": [
        "# Matrix\n",
        "MATRIX = torch.tensor([[7,7],\n",
        "                      [8,8]])\n",
        "MATRIX"
      ],
      "metadata": {
        "colab": {
          "base_uri": "https://localhost:8080/"
        },
        "id": "ljaNJxkuJS6n",
        "outputId": "e2489227-b055-4144-facc-e0a9250c29f8"
      },
      "id": "ljaNJxkuJS6n",
      "execution_count": 8,
      "outputs": [
        {
          "output_type": "execute_result",
          "data": {
            "text/plain": [
              "tensor([[7, 7],\n",
              "        [8, 8]])"
            ]
          },
          "metadata": {},
          "execution_count": 8
        }
      ]
    },
    {
      "cell_type": "code",
      "source": [
        "MATRIX.ndim"
      ],
      "metadata": {
        "colab": {
          "base_uri": "https://localhost:8080/"
        },
        "id": "KB5MAZOfJffD",
        "outputId": "2236d961-8c52-4a8f-b454-77c61060e98a"
      },
      "id": "KB5MAZOfJffD",
      "execution_count": 9,
      "outputs": [
        {
          "output_type": "execute_result",
          "data": {
            "text/plain": [
              "2"
            ]
          },
          "metadata": {},
          "execution_count": 9
        }
      ]
    },
    {
      "cell_type": "code",
      "source": [
        "MATRIX[0]"
      ],
      "metadata": {
        "colab": {
          "base_uri": "https://localhost:8080/"
        },
        "id": "gLREUAcXJmDz",
        "outputId": "ecadf7d5-a1bc-41ed-a68d-ca13f189f0d8"
      },
      "id": "gLREUAcXJmDz",
      "execution_count": 10,
      "outputs": [
        {
          "output_type": "execute_result",
          "data": {
            "text/plain": [
              "tensor([7, 7])"
            ]
          },
          "metadata": {},
          "execution_count": 10
        }
      ]
    },
    {
      "cell_type": "code",
      "source": [
        "# Tensor\n",
        "TENSOR = torch.tensor([[[1,2,3],\n",
        "                      [4,5,6],\n",
        "                      [7,8,9]]])\n",
        "TENSOR"
      ],
      "metadata": {
        "colab": {
          "base_uri": "https://localhost:8080/"
        },
        "id": "5Jio9FIlJ1Xc",
        "outputId": "60d9a5e9-9cc8-44fb-d46f-ef4a97af4369"
      },
      "id": "5Jio9FIlJ1Xc",
      "execution_count": 11,
      "outputs": [
        {
          "output_type": "execute_result",
          "data": {
            "text/plain": [
              "tensor([[[1, 2, 3],\n",
              "         [4, 5, 6],\n",
              "         [7, 8, 9]]])"
            ]
          },
          "metadata": {},
          "execution_count": 11
        }
      ]
    },
    {
      "cell_type": "code",
      "source": [
        "TENSOR.ndim"
      ],
      "metadata": {
        "colab": {
          "base_uri": "https://localhost:8080/"
        },
        "id": "lPfdDHpiKGkA",
        "outputId": "8f7c4806-d9fd-4123-dd75-7cac3905e9e3"
      },
      "id": "lPfdDHpiKGkA",
      "execution_count": 12,
      "outputs": [
        {
          "output_type": "execute_result",
          "data": {
            "text/plain": [
              "3"
            ]
          },
          "metadata": {},
          "execution_count": 12
        }
      ]
    },
    {
      "cell_type": "code",
      "source": [
        "TENSOR.shape"
      ],
      "metadata": {
        "colab": {
          "base_uri": "https://localhost:8080/"
        },
        "id": "cuLNm9OxKaPD",
        "outputId": "cb5e35a5-876b-4d8d-f801-a2d5872c72f0"
      },
      "id": "cuLNm9OxKaPD",
      "execution_count": 13,
      "outputs": [
        {
          "output_type": "execute_result",
          "data": {
            "text/plain": [
              "torch.Size([1, 3, 3])"
            ]
          },
          "metadata": {},
          "execution_count": 13
        }
      ]
    },
    {
      "cell_type": "code",
      "source": [
        "TENSOR[0]"
      ],
      "metadata": {
        "colab": {
          "base_uri": "https://localhost:8080/"
        },
        "id": "7VMRzgtCKktt",
        "outputId": "aad59dda-dc04-443c-b7aa-77f18eda4e54"
      },
      "id": "7VMRzgtCKktt",
      "execution_count": 14,
      "outputs": [
        {
          "output_type": "execute_result",
          "data": {
            "text/plain": [
              "tensor([[1, 2, 3],\n",
              "        [4, 5, 6],\n",
              "        [7, 8, 9]])"
            ]
          },
          "metadata": {},
          "execution_count": 14
        }
      ]
    },
    {
      "cell_type": "code",
      "source": [
        "### LOS TENSORs te devuelven matrices al indexar, las matrices te devuelven vectores y los vectores devuelven scalares"
      ],
      "metadata": {
        "id": "aXnkLeHbKv5_"
      },
      "id": "aXnkLeHbKv5_",
      "execution_count": 15,
      "outputs": []
    },
    {
      "cell_type": "markdown",
      "source": [
        "## Random Tensors\n",
        "\n",
        "`Start with random numbers -> look at data -> update random numbers -> look at data -> update random numbers`"
      ],
      "metadata": {
        "id": "U1sbMNvxK240"
      },
      "id": "U1sbMNvxK240"
    },
    {
      "cell_type": "code",
      "source": [
        "# Create a random tensor of shape/size (3,4)\n",
        "random_tensor = torch.rand(3,4)\n",
        "random_tensor"
      ],
      "metadata": {
        "id": "Yoz5fr0JMDWo",
        "outputId": "e34e171f-7785-4269-bc7f-306c7d20fbb9",
        "colab": {
          "base_uri": "https://localhost:8080/"
        }
      },
      "id": "Yoz5fr0JMDWo",
      "execution_count": 16,
      "outputs": [
        {
          "output_type": "execute_result",
          "data": {
            "text/plain": [
              "tensor([[0.7738, 0.1111, 0.7738, 0.5023],\n",
              "        [0.1020, 0.2432, 0.5324, 0.8572],\n",
              "        [0.1070, 0.5964, 0.1975, 0.3475]])"
            ]
          },
          "metadata": {},
          "execution_count": 16
        }
      ]
    },
    {
      "cell_type": "code",
      "source": [
        "# Create a random tensor with similar shape to an imagen tensor\n",
        "random_image_size_tensor = torch.rand(size=(224, 224, 3)) # height, width, colour channels (R, G, B)"
      ],
      "metadata": {
        "id": "F_BbF65vNBXk"
      },
      "id": "F_BbF65vNBXk",
      "execution_count": 17,
      "outputs": []
    },
    {
      "cell_type": "markdown",
      "source": [
        "## Zeros and Ones"
      ],
      "metadata": {
        "id": "jAyo-wAaOKu3"
      },
      "id": "jAyo-wAaOKu3"
    },
    {
      "cell_type": "code",
      "source": [
        "### Create a tensor of all zeros\n",
        "zero = torch.zeros(3,4)\n",
        "zero"
      ],
      "metadata": {
        "id": "imrfla7pRR6t",
        "outputId": "ea580a2d-7a92-4dd0-ca07-5fd4f8a60ab3",
        "colab": {
          "base_uri": "https://localhost:8080/"
        }
      },
      "id": "imrfla7pRR6t",
      "execution_count": 18,
      "outputs": [
        {
          "output_type": "execute_result",
          "data": {
            "text/plain": [
              "tensor([[0., 0., 0., 0.],\n",
              "        [0., 0., 0., 0.],\n",
              "        [0., 0., 0., 0.]])"
            ]
          },
          "metadata": {},
          "execution_count": 18
        }
      ]
    },
    {
      "cell_type": "code",
      "source": [
        "### Create a tensor of all ones\n",
        "ones = torch.ones(3,4)\n",
        "ones"
      ],
      "metadata": {
        "id": "0VxGKo3MRXV9",
        "outputId": "f366fc04-7977-4861-ee8b-830e815d83c5",
        "colab": {
          "base_uri": "https://localhost:8080/"
        }
      },
      "id": "0VxGKo3MRXV9",
      "execution_count": 19,
      "outputs": [
        {
          "output_type": "execute_result",
          "data": {
            "text/plain": [
              "tensor([[1., 1., 1., 1.],\n",
              "        [1., 1., 1., 1.],\n",
              "        [1., 1., 1., 1.]])"
            ]
          },
          "metadata": {},
          "execution_count": 19
        }
      ]
    },
    {
      "cell_type": "code",
      "source": [
        "ones.dtype #Default tensor type"
      ],
      "metadata": {
        "id": "VEyUV7WfQwUE",
        "outputId": "a03a12a4-4dd8-40d3-a671-f68a8df86790",
        "colab": {
          "base_uri": "https://localhost:8080/"
        }
      },
      "id": "VEyUV7WfQwUE",
      "execution_count": 20,
      "outputs": [
        {
          "output_type": "execute_result",
          "data": {
            "text/plain": [
              "torch.float32"
            ]
          },
          "metadata": {},
          "execution_count": 20
        }
      ]
    },
    {
      "cell_type": "markdown",
      "source": [
        "## Create a range of tensor and tensors-like"
      ],
      "metadata": {
        "id": "jgkDPcHhRgLx"
      },
      "id": "jgkDPcHhRgLx"
    },
    {
      "cell_type": "code",
      "source": [
        "# Use torch.arange()\n",
        "one_to_ten = torch.arange(0,10)\n",
        "one_to_ten"
      ],
      "metadata": {
        "id": "3MdxGduqSLiX",
        "outputId": "aa262d0d-464e-4100-ab93-80c092804388",
        "colab": {
          "base_uri": "https://localhost:8080/"
        }
      },
      "id": "3MdxGduqSLiX",
      "execution_count": 21,
      "outputs": [
        {
          "output_type": "execute_result",
          "data": {
            "text/plain": [
              "tensor([0, 1, 2, 3, 4, 5, 6, 7, 8, 9])"
            ]
          },
          "metadata": {},
          "execution_count": 21
        }
      ]
    },
    {
      "cell_type": "code",
      "source": [
        "torch.arange(start=0, end=1000, step=33)"
      ],
      "metadata": {
        "id": "_jPuIeWRSSGM",
        "outputId": "4c55c01f-31d7-4266-8d49-2754158f77dc",
        "colab": {
          "base_uri": "https://localhost:8080/"
        }
      },
      "id": "_jPuIeWRSSGM",
      "execution_count": 22,
      "outputs": [
        {
          "output_type": "execute_result",
          "data": {
            "text/plain": [
              "tensor([  0,  33,  66,  99, 132, 165, 198, 231, 264, 297, 330, 363, 396, 429,\n",
              "        462, 495, 528, 561, 594, 627, 660, 693, 726, 759, 792, 825, 858, 891,\n",
              "        924, 957, 990])"
            ]
          },
          "metadata": {},
          "execution_count": 22
        }
      ]
    },
    {
      "cell_type": "code",
      "source": [
        "# Creating tensors-like\n",
        "ten_zeros = torch.zeros_like(one_to_ten)\n",
        "ten_zeros"
      ],
      "metadata": {
        "id": "7UYgd0LpSt6V",
        "outputId": "fcf132c5-c0c5-47fe-b44d-4b3194edef9d",
        "colab": {
          "base_uri": "https://localhost:8080/"
        }
      },
      "id": "7UYgd0LpSt6V",
      "execution_count": 23,
      "outputs": [
        {
          "output_type": "execute_result",
          "data": {
            "text/plain": [
              "tensor([0, 0, 0, 0, 0, 0, 0, 0, 0, 0])"
            ]
          },
          "metadata": {},
          "execution_count": 23
        }
      ]
    },
    {
      "cell_type": "markdown",
      "source": [
        "## Tensor Datatypes\n",
        "**Note**: Datatypes is on of the big 3 problems u will run into\n",
        "1. Tensor not right datatypes\n",
        "2. Tensors not right shape\n",
        "3. Tensor not on the right device"
      ],
      "metadata": {
        "id": "0bOgok63HrBk"
      },
      "id": "0bOgok63HrBk"
    },
    {
      "cell_type": "code",
      "source": [
        "# Float 32 tensor\n",
        "float_32_tensor = torch.tensor([3.2, 6.1, 9.3],\n",
        "                               dtype=None,            # What datatype is the tensor (float_32, float_16, ...)\n",
        "                               device=None,           # What device is your tensor on\n",
        "                               requires_grad=False)   # Track the gradiance\n",
        "float_32_tensor"
      ],
      "metadata": {
        "id": "6JsdHefRHqmU",
        "outputId": "1b9df913-8a8b-4fd5-c495-3a40457f6486",
        "colab": {
          "base_uri": "https://localhost:8080/"
        }
      },
      "id": "6JsdHefRHqmU",
      "execution_count": 24,
      "outputs": [
        {
          "output_type": "execute_result",
          "data": {
            "text/plain": [
              "tensor([3.2000, 6.1000, 9.3000])"
            ]
          },
          "metadata": {},
          "execution_count": 24
        }
      ]
    },
    {
      "cell_type": "code",
      "source": [
        "float_16_tensor = float_32_tensor.type(torch.float16)\n",
        "float_16_tensor"
      ],
      "metadata": {
        "id": "5UqfcaXiH9S2",
        "outputId": "7cd1478a-0e33-46d4-e204-32e778b0bdac",
        "colab": {
          "base_uri": "https://localhost:8080/"
        }
      },
      "id": "5UqfcaXiH9S2",
      "execution_count": 25,
      "outputs": [
        {
          "output_type": "execute_result",
          "data": {
            "text/plain": [
              "tensor([3.1992, 6.1016, 9.2969], dtype=torch.float16)"
            ]
          },
          "metadata": {},
          "execution_count": 25
        }
      ]
    },
    {
      "cell_type": "code",
      "source": [
        "float_16_tensor * float_32_tensor"
      ],
      "metadata": {
        "id": "tY8o735mKECU",
        "outputId": "fee277de-e720-444e-fb70-8ded70c06fb8",
        "colab": {
          "base_uri": "https://localhost:8080/"
        }
      },
      "id": "tY8o735mKECU",
      "execution_count": 26,
      "outputs": [
        {
          "output_type": "execute_result",
          "data": {
            "text/plain": [
              "tensor([10.2375, 37.2195, 86.4609])"
            ]
          },
          "metadata": {},
          "execution_count": 26
        }
      ]
    },
    {
      "cell_type": "markdown",
      "source": [
        "## Getting Information from Tensors (attributes)\n",
        "\n",
        "1. Datatype: tensor:dtype\n",
        "2. Shape: tensor.shape\n",
        "3. Device: tensor-device"
      ],
      "metadata": {
        "id": "UrKs3LcaJ-6k"
      },
      "id": "UrKs3LcaJ-6k"
    },
    {
      "cell_type": "code",
      "source": [
        "tensor = torch.rand(3,4)\n",
        "tensor"
      ],
      "metadata": {
        "id": "xFKU5tIsJ_8F",
        "outputId": "c3110851-b599-4f67-ab8f-1b6c8b30aff9",
        "colab": {
          "base_uri": "https://localhost:8080/"
        }
      },
      "id": "xFKU5tIsJ_8F",
      "execution_count": 27,
      "outputs": [
        {
          "output_type": "execute_result",
          "data": {
            "text/plain": [
              "tensor([[0.1427, 0.8121, 0.2250, 0.0418],\n",
              "        [0.7577, 0.6110, 0.7281, 0.8324],\n",
              "        [0.3542, 0.1421, 0.9572, 0.1919]])"
            ]
          },
          "metadata": {},
          "execution_count": 27
        }
      ]
    },
    {
      "cell_type": "code",
      "source": [
        "print(f\"Datatype of tensor: {tensor.dtype}\")\n",
        "print(f\"Shape of tensor: {tensor.shape, tensor.size()}\")\n",
        "print(f\"Device of tensor: {tensor.device}\")"
      ],
      "metadata": {
        "id": "MlRNM5t4Lf1k",
        "outputId": "9998a443-a030-414a-dedb-0e844effc176",
        "colab": {
          "base_uri": "https://localhost:8080/"
        }
      },
      "id": "MlRNM5t4Lf1k",
      "execution_count": 28,
      "outputs": [
        {
          "output_type": "stream",
          "name": "stdout",
          "text": [
            "Datatype of tensor: torch.float32\n",
            "Shape of tensor: (torch.Size([3, 4]), torch.Size([3, 4]))\n",
            "Device of tensor: cpu\n"
          ]
        }
      ]
    },
    {
      "cell_type": "markdown",
      "source": [
        "## Manipulating Tensors (tensor operations)\n",
        "\n",
        "Tensor operations include:\n",
        "1. +\n",
        "2. -\n",
        "3. *\n",
        "4. /\n",
        "5. Matrix multiplications"
      ],
      "metadata": {
        "id": "-B_0s1SDL9ZC"
      },
      "id": "-B_0s1SDL9ZC"
    },
    {
      "cell_type": "code",
      "source": [
        "tensor = torch.tensor([1,2,3])\n",
        "\n",
        "# Addition\n",
        "tensor + 10"
      ],
      "metadata": {
        "id": "MadWI__kMUPM",
        "outputId": "f844e27b-6c35-400d-919e-81811f835c47",
        "colab": {
          "base_uri": "https://localhost:8080/"
        }
      },
      "id": "MadWI__kMUPM",
      "execution_count": 29,
      "outputs": [
        {
          "output_type": "execute_result",
          "data": {
            "text/plain": [
              "tensor([11, 12, 13])"
            ]
          },
          "metadata": {},
          "execution_count": 29
        }
      ]
    },
    {
      "cell_type": "code",
      "source": [
        "# Multiply\n",
        "tensor * 10"
      ],
      "metadata": {
        "id": "uElfpGswMxuK",
        "outputId": "41c00295-41ef-4d2c-bed5-cadebcfdd80e",
        "colab": {
          "base_uri": "https://localhost:8080/"
        }
      },
      "id": "uElfpGswMxuK",
      "execution_count": 30,
      "outputs": [
        {
          "output_type": "execute_result",
          "data": {
            "text/plain": [
              "tensor([10, 20, 30])"
            ]
          },
          "metadata": {},
          "execution_count": 30
        }
      ]
    },
    {
      "cell_type": "code",
      "source": [
        "# Subtraction\n",
        "tensor - 10"
      ],
      "metadata": {
        "id": "hNQu-pR3M4ne",
        "outputId": "88ca651f-ccf8-426f-ee21-7b11a03fc330",
        "colab": {
          "base_uri": "https://localhost:8080/"
        }
      },
      "id": "hNQu-pR3M4ne",
      "execution_count": 31,
      "outputs": [
        {
          "output_type": "execute_result",
          "data": {
            "text/plain": [
              "tensor([-9, -8, -7])"
            ]
          },
          "metadata": {},
          "execution_count": 31
        }
      ]
    },
    {
      "cell_type": "code",
      "source": [
        "# Division\n",
        "tensor / 10"
      ],
      "metadata": {
        "id": "Q3o_VuYqNaBd",
        "outputId": "4fa63c1d-a8ab-43e6-a087-bf0720fa8f66",
        "colab": {
          "base_uri": "https://localhost:8080/"
        }
      },
      "id": "Q3o_VuYqNaBd",
      "execution_count": 32,
      "outputs": [
        {
          "output_type": "execute_result",
          "data": {
            "text/plain": [
              "tensor([0.1000, 0.2000, 0.3000])"
            ]
          },
          "metadata": {},
          "execution_count": 32
        }
      ]
    },
    {
      "cell_type": "code",
      "source": [
        "# Buildup functions\n",
        "tensor.add(10), tensor.sub(10), tensor.mul(10), tensor.div(10)"
      ],
      "metadata": {
        "id": "4SVVsHOoNCkJ",
        "outputId": "18f2e0bb-edca-4d5b-d54a-c15d75b13b31",
        "colab": {
          "base_uri": "https://localhost:8080/"
        }
      },
      "id": "4SVVsHOoNCkJ",
      "execution_count": 33,
      "outputs": [
        {
          "output_type": "execute_result",
          "data": {
            "text/plain": [
              "(tensor([11, 12, 13]),\n",
              " tensor([-9, -8, -7]),\n",
              " tensor([10, 20, 30]),\n",
              " tensor([0.1000, 0.2000, 0.3000]))"
            ]
          },
          "metadata": {},
          "execution_count": 33
        }
      ]
    },
    {
      "cell_type": "code",
      "source": [
        "# Matric multiplion\n",
        "# 2 Ways"
      ],
      "metadata": {
        "id": "ylXQexriNHfq"
      },
      "id": "ylXQexriNHfq",
      "execution_count": 34,
      "outputs": []
    },
    {
      "cell_type": "code",
      "source": [
        "# 1. Elemento-wise multiplication\n",
        "\n",
        "print(tensor, \"*\", tensor)\n",
        "print(\"Equals: \", tensor * tensor)"
      ],
      "metadata": {
        "id": "VkyoZgSkNoPx",
        "outputId": "b9ec5d9b-6285-4837-e206-7e970f71a362",
        "colab": {
          "base_uri": "https://localhost:8080/"
        }
      },
      "id": "VkyoZgSkNoPx",
      "execution_count": 35,
      "outputs": [
        {
          "output_type": "stream",
          "name": "stdout",
          "text": [
            "tensor([1, 2, 3]) * tensor([1, 2, 3])\n",
            "Equals:  tensor([1, 4, 9])\n"
          ]
        }
      ]
    },
    {
      "cell_type": "code",
      "source": [
        "# 2. Matrix multiplication\n",
        "torch.matmul(tensor, tensor)"
      ],
      "metadata": {
        "id": "Ev_iLeJyOFHU",
        "outputId": "43e30b7b-c09b-480a-d4d4-46e8b4e14781",
        "colab": {
          "base_uri": "https://localhost:8080/"
        }
      },
      "id": "Ev_iLeJyOFHU",
      "execution_count": 36,
      "outputs": [
        {
          "output_type": "execute_result",
          "data": {
            "text/plain": [
              "tensor(14)"
            ]
          },
          "metadata": {},
          "execution_count": 36
        }
      ]
    },
    {
      "cell_type": "code",
      "source": [
        "%%time\n",
        "values = 0\n",
        "for i in range(len(tensor)):\n",
        "  values += tensor[i] * tensor[i]\n",
        "values"
      ],
      "metadata": {
        "id": "SSyAcH73Omhj",
        "outputId": "9100e660-5988-493b-f5a4-f797b7654f85",
        "colab": {
          "base_uri": "https://localhost:8080/"
        }
      },
      "id": "SSyAcH73Omhj",
      "execution_count": 37,
      "outputs": [
        {
          "output_type": "stream",
          "name": "stdout",
          "text": [
            "CPU times: user 891 µs, sys: 0 ns, total: 891 µs\n",
            "Wall time: 752 µs\n"
          ]
        },
        {
          "output_type": "execute_result",
          "data": {
            "text/plain": [
              "tensor(14)"
            ]
          },
          "metadata": {},
          "execution_count": 37
        }
      ]
    },
    {
      "cell_type": "code",
      "source": [
        "%%time\n",
        "torch.matmul(tensor, tensor)"
      ],
      "metadata": {
        "id": "pSIzZceAPRQD",
        "outputId": "6e404a13-82f4-4224-8e20-0df8ac08084b",
        "colab": {
          "base_uri": "https://localhost:8080/"
        }
      },
      "id": "pSIzZceAPRQD",
      "execution_count": 38,
      "outputs": [
        {
          "output_type": "stream",
          "name": "stdout",
          "text": [
            "CPU times: user 30 µs, sys: 5 µs, total: 35 µs\n",
            "Wall time: 37.9 µs\n"
          ]
        },
        {
          "output_type": "execute_result",
          "data": {
            "text/plain": [
              "tensor(14)"
            ]
          },
          "metadata": {},
          "execution_count": 38
        }
      ]
    },
    {
      "cell_type": "markdown",
      "source": [
        "### Rules in Matrix multiplication\n",
        "\n",
        "1. The **inner dimensions** must match:\n",
        "  * `(3,2) @ (3,2)` wont work\n",
        "  * `(2,3) @ (3,2)` will work\n",
        "  * `(3,2) @ (2,3)` will work\n",
        "\n",
        "2. The result matrix has the shape of the **outter dimensions**:\n",
        "  * `(2,3) @ (3,2) -> (2,2) `\n",
        "  * `(2,3) @ (3,4) -> (2,4)`"
      ],
      "metadata": {
        "id": "LorhIBLHPbsP"
      },
      "id": "LorhIBLHPbsP"
    },
    {
      "cell_type": "code",
      "source": [
        "torch.matmul(torch.rand(2,3), torch.rand(3,2))"
      ],
      "metadata": {
        "id": "KZLiwuZHgfb1",
        "outputId": "35f4681b-f1ed-479b-ca6d-7219a8426129",
        "colab": {
          "base_uri": "https://localhost:8080/"
        }
      },
      "id": "KZLiwuZHgfb1",
      "execution_count": 39,
      "outputs": [
        {
          "output_type": "execute_result",
          "data": {
            "text/plain": [
              "tensor([[0.8068, 0.2027],\n",
              "        [0.3626, 0.1311]])"
            ]
          },
          "metadata": {},
          "execution_count": 39
        }
      ]
    },
    {
      "cell_type": "code",
      "source": [
        "torch.matmul(torch.rand(3,2), torch.rand(2,3))"
      ],
      "metadata": {
        "id": "JCjRJrtThYdE",
        "outputId": "61be9d3b-5920-4252-c079-4b9409ecb075",
        "colab": {
          "base_uri": "https://localhost:8080/"
        }
      },
      "id": "JCjRJrtThYdE",
      "execution_count": 40,
      "outputs": [
        {
          "output_type": "execute_result",
          "data": {
            "text/plain": [
              "tensor([[0.6353, 0.3989, 0.8469],\n",
              "        [0.8042, 0.6981, 0.8838],\n",
              "        [0.7733, 0.5598, 0.9584]])"
            ]
          },
          "metadata": {},
          "execution_count": 40
        }
      ]
    },
    {
      "cell_type": "markdown",
      "source": [
        "### One of the most common errors in deep learning"
      ],
      "metadata": {
        "id": "Vfvddrd0iWdK"
      },
      "id": "Vfvddrd0iWdK"
    },
    {
      "cell_type": "code",
      "source": [
        "tensor_A = torch.tensor([[1,2],\n",
        "                         [3,4],\n",
        "                         [5,6]])\n",
        "\n",
        "tensor_B = torch.tensor([[7,8],\n",
        "                         [9,10],\n",
        "                         [11,12]])\n",
        "# matmul wont work"
      ],
      "metadata": {
        "id": "7ZdjYE3rjEzg"
      },
      "id": "7ZdjYE3rjEzg",
      "execution_count": 41,
      "outputs": []
    },
    {
      "cell_type": "code",
      "source": [
        "# To fix this we can **Transpose**\n",
        "\n",
        "tensor_B = tensor_B.T\n",
        "tensor_B"
      ],
      "metadata": {
        "id": "98DJIyuEjbLS",
        "outputId": "eb5bd0ac-2e24-46e8-dd1f-f99876293c56",
        "colab": {
          "base_uri": "https://localhost:8080/"
        }
      },
      "id": "98DJIyuEjbLS",
      "execution_count": 42,
      "outputs": [
        {
          "output_type": "execute_result",
          "data": {
            "text/plain": [
              "tensor([[ 7,  9, 11],\n",
              "        [ 8, 10, 12]])"
            ]
          },
          "metadata": {},
          "execution_count": 42
        }
      ]
    },
    {
      "cell_type": "code",
      "source": [
        "torch.mm(tensor_A, tensor_B)"
      ],
      "metadata": {
        "id": "qZPBo-4Gj3N-",
        "outputId": "3b966b0d-6d5e-43df-fd2d-1257846ae18c",
        "colab": {
          "base_uri": "https://localhost:8080/"
        }
      },
      "id": "qZPBo-4Gj3N-",
      "execution_count": 43,
      "outputs": [
        {
          "output_type": "execute_result",
          "data": {
            "text/plain": [
              "tensor([[ 23,  29,  35],\n",
              "        [ 53,  67,  81],\n",
              "        [ 83, 105, 127]])"
            ]
          },
          "metadata": {},
          "execution_count": 43
        }
      ]
    },
    {
      "cell_type": "markdown",
      "source": [
        "## Finde the min, max, mean, sum, etc"
      ],
      "metadata": {
        "id": "mn36IMfxkGg8"
      },
      "id": "mn36IMfxkGg8"
    },
    {
      "cell_type": "code",
      "source": [
        "x = torch.arange(0, 100, 10)\n",
        "x, x.dtype"
      ],
      "metadata": {
        "id": "44IxTsYvltBv",
        "outputId": "e18be9ce-e571-42b6-a346-65cb16deb734",
        "colab": {
          "base_uri": "https://localhost:8080/"
        }
      },
      "id": "44IxTsYvltBv",
      "execution_count": 44,
      "outputs": [
        {
          "output_type": "execute_result",
          "data": {
            "text/plain": [
              "(tensor([ 0, 10, 20, 30, 40, 50, 60, 70, 80, 90]), torch.int64)"
            ]
          },
          "metadata": {},
          "execution_count": 44
        }
      ]
    },
    {
      "cell_type": "code",
      "source": [
        "# Min\n",
        "x.min(), torch.min(x)"
      ],
      "metadata": {
        "id": "T2Ha4jM5lzvA",
        "outputId": "e03dc30c-a151-489a-a93f-f7f99b4a04f2",
        "colab": {
          "base_uri": "https://localhost:8080/"
        }
      },
      "id": "T2Ha4jM5lzvA",
      "execution_count": 45,
      "outputs": [
        {
          "output_type": "execute_result",
          "data": {
            "text/plain": [
              "(tensor(0), tensor(0))"
            ]
          },
          "metadata": {},
          "execution_count": 45
        }
      ]
    },
    {
      "cell_type": "code",
      "source": [
        "# Max\n",
        "x.max(), torch.max(x)"
      ],
      "metadata": {
        "id": "fl5xeQ6Dl5k0",
        "outputId": "934f70c8-14be-4235-c30f-47e3b742eeea",
        "colab": {
          "base_uri": "https://localhost:8080/"
        }
      },
      "id": "fl5xeQ6Dl5k0",
      "execution_count": 46,
      "outputs": [
        {
          "output_type": "execute_result",
          "data": {
            "text/plain": [
              "(tensor(90), tensor(90))"
            ]
          },
          "metadata": {},
          "execution_count": 46
        }
      ]
    },
    {
      "cell_type": "code",
      "source": [
        "# Mean\n",
        "# note: necesita tensors de tipo float o complex\n",
        "x.type(torch.float32).mean(), torch.mean(x.type(torch.float32))"
      ],
      "metadata": {
        "id": "NDKGGUE9mEQp",
        "outputId": "42e95696-0ceb-462a-8d56-34c2b0649681",
        "colab": {
          "base_uri": "https://localhost:8080/"
        }
      },
      "id": "NDKGGUE9mEQp",
      "execution_count": 47,
      "outputs": [
        {
          "output_type": "execute_result",
          "data": {
            "text/plain": [
              "(tensor(45.), tensor(45.))"
            ]
          },
          "metadata": {},
          "execution_count": 47
        }
      ]
    },
    {
      "cell_type": "code",
      "source": [
        "# Sum\n",
        "x.sum(), torch.sum(x)"
      ],
      "metadata": {
        "id": "p0TqNCcfmQmJ",
        "outputId": "024e34b1-f820-440a-dbf2-babe6e48cd5b",
        "colab": {
          "base_uri": "https://localhost:8080/"
        }
      },
      "id": "p0TqNCcfmQmJ",
      "execution_count": 48,
      "outputs": [
        {
          "output_type": "execute_result",
          "data": {
            "text/plain": [
              "(tensor(450), tensor(450))"
            ]
          },
          "metadata": {},
          "execution_count": 48
        }
      ]
    },
    {
      "cell_type": "code",
      "source": [
        "# Find the positional min and max\n",
        "\n",
        "x.argmax(), x.argmin()"
      ],
      "metadata": {
        "id": "cwQunxnAnRI8",
        "outputId": "0fd0bf78-5c72-4454-fffd-93595e94e0ee",
        "colab": {
          "base_uri": "https://localhost:8080/"
        }
      },
      "id": "cwQunxnAnRI8",
      "execution_count": 49,
      "outputs": [
        {
          "output_type": "execute_result",
          "data": {
            "text/plain": [
              "(tensor(9), tensor(0))"
            ]
          },
          "metadata": {},
          "execution_count": 49
        }
      ]
    },
    {
      "cell_type": "markdown",
      "source": [
        "## Reshaping, stacking, squeezing and unsqueezing tensors\n",
        "\n",
        "* Reshaping - reshapes an input tensor to a defined shape\n",
        "* View - Return a view of an input tensor of certain shape but keep the same memory as the original tensor\n",
        "* Stacking - combine multiple tensor on top of each other (vstack) or side to side (hstack)\n",
        "* Squeeze - removes all `1` dimensions from a tensor\n",
        "* Unsqueeze - add a `1` dimension to a target tensor\n",
        "* Permute - return a view of the input wirh dimensions permuted (swapperd) in a certain way"
      ],
      "metadata": {
        "id": "nWGl9VDbn38I"
      },
      "id": "nWGl9VDbn38I"
    },
    {
      "cell_type": "code",
      "source": [
        "x = torch.arange(1, 10)\n",
        "x, x.shape"
      ],
      "metadata": {
        "id": "7x7Esk6HpsvY",
        "outputId": "b370909d-f953-4cd6-8cef-cea2aabd916d",
        "colab": {
          "base_uri": "https://localhost:8080/"
        }
      },
      "id": "7x7Esk6HpsvY",
      "execution_count": 50,
      "outputs": [
        {
          "output_type": "execute_result",
          "data": {
            "text/plain": [
              "(tensor([1, 2, 3, 4, 5, 6, 7, 8, 9]), torch.Size([9]))"
            ]
          },
          "metadata": {},
          "execution_count": 50
        }
      ]
    },
    {
      "cell_type": "code",
      "source": [
        "# Add an extra dimension\n",
        "x_reshaped = x.reshape(9,1)\n",
        "x_reshaped, x_reshaped.shape"
      ],
      "metadata": {
        "id": "vSL7RvnQp0ia",
        "outputId": "20ad85ce-c90f-4a38-891b-4790f2a99419",
        "colab": {
          "base_uri": "https://localhost:8080/"
        }
      },
      "id": "vSL7RvnQp0ia",
      "execution_count": 51,
      "outputs": [
        {
          "output_type": "execute_result",
          "data": {
            "text/plain": [
              "(tensor([[1],\n",
              "         [2],\n",
              "         [3],\n",
              "         [4],\n",
              "         [5],\n",
              "         [6],\n",
              "         [7],\n",
              "         [8],\n",
              "         [9]]),\n",
              " torch.Size([9, 1]))"
            ]
          },
          "metadata": {},
          "execution_count": 51
        }
      ]
    },
    {
      "cell_type": "code",
      "source": [
        "# Change the view - maintains the original shape\n",
        "z = x.view(9,1)\n",
        "z, z.shape, x, x.shape"
      ],
      "metadata": {
        "id": "UJ0SDKmwqGUX",
        "outputId": "57d1e614-e049-4ed4-b2de-3d420d6a7699",
        "colab": {
          "base_uri": "https://localhost:8080/"
        }
      },
      "id": "UJ0SDKmwqGUX",
      "execution_count": 52,
      "outputs": [
        {
          "output_type": "execute_result",
          "data": {
            "text/plain": [
              "(tensor([[1],\n",
              "         [2],\n",
              "         [3],\n",
              "         [4],\n",
              "         [5],\n",
              "         [6],\n",
              "         [7],\n",
              "         [8],\n",
              "         [9]]),\n",
              " torch.Size([9, 1]),\n",
              " tensor([1, 2, 3, 4, 5, 6, 7, 8, 9]),\n",
              " torch.Size([9]))"
            ]
          },
          "metadata": {},
          "execution_count": 52
        }
      ]
    },
    {
      "cell_type": "code",
      "source": [
        "z[0] = 5\n",
        "z, x"
      ],
      "metadata": {
        "id": "1AkfUYhfrDK9",
        "outputId": "9b0e6ea9-52be-4a1c-be66-f9e35006b7b8",
        "colab": {
          "base_uri": "https://localhost:8080/"
        }
      },
      "id": "1AkfUYhfrDK9",
      "execution_count": 53,
      "outputs": [
        {
          "output_type": "execute_result",
          "data": {
            "text/plain": [
              "(tensor([[5],\n",
              "         [2],\n",
              "         [3],\n",
              "         [4],\n",
              "         [5],\n",
              "         [6],\n",
              "         [7],\n",
              "         [8],\n",
              "         [9]]),\n",
              " tensor([5, 2, 3, 4, 5, 6, 7, 8, 9]))"
            ]
          },
          "metadata": {},
          "execution_count": 53
        }
      ]
    },
    {
      "cell_type": "code",
      "source": [
        "#Stack on top (vshape)\n",
        "x_stacked = torch.stack([x,x,x,x], dim=0)\n",
        "x_stacked, x_stacked.shape"
      ],
      "metadata": {
        "id": "qCFRkTnYrbXQ",
        "outputId": "9a843a14-9d46-4132-c877-deb4656efab5",
        "colab": {
          "base_uri": "https://localhost:8080/"
        }
      },
      "id": "qCFRkTnYrbXQ",
      "execution_count": 54,
      "outputs": [
        {
          "output_type": "execute_result",
          "data": {
            "text/plain": [
              "(tensor([[5, 2, 3, 4, 5, 6, 7, 8, 9],\n",
              "         [5, 2, 3, 4, 5, 6, 7, 8, 9],\n",
              "         [5, 2, 3, 4, 5, 6, 7, 8, 9],\n",
              "         [5, 2, 3, 4, 5, 6, 7, 8, 9]]),\n",
              " torch.Size([4, 9]))"
            ]
          },
          "metadata": {},
          "execution_count": 54
        }
      ]
    },
    {
      "cell_type": "code",
      "source": [
        "#Stack on side (hshape)\n",
        "x_stacked = torch.stack([x,x,x,x], dim=1)\n",
        "x_stacked, x_stacked.shape"
      ],
      "metadata": {
        "id": "Gu2cm_tLr09-",
        "outputId": "543e7787-3245-462b-dce9-17d91aa5afed",
        "colab": {
          "base_uri": "https://localhost:8080/"
        }
      },
      "id": "Gu2cm_tLr09-",
      "execution_count": 55,
      "outputs": [
        {
          "output_type": "execute_result",
          "data": {
            "text/plain": [
              "(tensor([[5, 5, 5, 5],\n",
              "         [2, 2, 2, 2],\n",
              "         [3, 3, 3, 3],\n",
              "         [4, 4, 4, 4],\n",
              "         [5, 5, 5, 5],\n",
              "         [6, 6, 6, 6],\n",
              "         [7, 7, 7, 7],\n",
              "         [8, 8, 8, 8],\n",
              "         [9, 9, 9, 9]]),\n",
              " torch.Size([9, 4]))"
            ]
          },
          "metadata": {},
          "execution_count": 55
        }
      ]
    },
    {
      "cell_type": "code",
      "source": [
        "# Squeeze\n",
        "x_squeezed = torch.squeeze(torch.zeros(1,9))\n",
        "x_squeezed, x_squeezed.shape"
      ],
      "metadata": {
        "id": "8X9ofu_csNlf",
        "outputId": "4d73363c-5711-4f4a-9008-0819aaf706f6",
        "colab": {
          "base_uri": "https://localhost:8080/"
        }
      },
      "id": "8X9ofu_csNlf",
      "execution_count": 56,
      "outputs": [
        {
          "output_type": "execute_result",
          "data": {
            "text/plain": [
              "(tensor([0., 0., 0., 0., 0., 0., 0., 0., 0.]), torch.Size([9]))"
            ]
          },
          "metadata": {},
          "execution_count": 56
        }
      ]
    },
    {
      "cell_type": "code",
      "source": [
        "# Unsqueeze\n",
        "x_squeezed = torch.unsqueeze(torch.zeros(1, 9), 2)\n",
        "x_squeezed, x_squeezed.shape"
      ],
      "metadata": {
        "id": "yceWgZbysnou",
        "outputId": "a2af0804-6069-424d-befe-9103214c95c7",
        "colab": {
          "base_uri": "https://localhost:8080/"
        }
      },
      "id": "yceWgZbysnou",
      "execution_count": 57,
      "outputs": [
        {
          "output_type": "execute_result",
          "data": {
            "text/plain": [
              "(tensor([[[0.],\n",
              "          [0.],\n",
              "          [0.],\n",
              "          [0.],\n",
              "          [0.],\n",
              "          [0.],\n",
              "          [0.],\n",
              "          [0.],\n",
              "          [0.]]]),\n",
              " torch.Size([1, 9, 1]))"
            ]
          },
          "metadata": {},
          "execution_count": 57
        }
      ]
    },
    {
      "cell_type": "code",
      "source": [
        "# Permute\n",
        "x = torch.rand(224, 10, 3)\n",
        "x.shape"
      ],
      "metadata": {
        "id": "LVWwrIPN1mYQ",
        "outputId": "1f62d264-a4d8-47f4-fdeb-0476bb3dadfc",
        "colab": {
          "base_uri": "https://localhost:8080/"
        }
      },
      "id": "LVWwrIPN1mYQ",
      "execution_count": 58,
      "outputs": [
        {
          "output_type": "execute_result",
          "data": {
            "text/plain": [
              "torch.Size([224, 10, 3])"
            ]
          },
          "metadata": {},
          "execution_count": 58
        }
      ]
    },
    {
      "cell_type": "code",
      "source": [
        "x_permuted = x.permute(2, 0, 1) # -> 2 to 0, 0 to 1 and 1 to 2\n",
        "x_permuted.shape"
      ],
      "metadata": {
        "id": "pB-Tybm_2Jk0",
        "outputId": "f02e00a6-b753-4a56-e1f8-f721d78217e9",
        "colab": {
          "base_uri": "https://localhost:8080/"
        }
      },
      "id": "pB-Tybm_2Jk0",
      "execution_count": 59,
      "outputs": [
        {
          "output_type": "execute_result",
          "data": {
            "text/plain": [
              "torch.Size([3, 224, 10])"
            ]
          },
          "metadata": {},
          "execution_count": 59
        }
      ]
    },
    {
      "cell_type": "code",
      "source": [
        "x[1, 0, 0] = 10000\n",
        "x[1, 0, 0], x_permuted[0, 1, 0]"
      ],
      "metadata": {
        "id": "XCFbXFgj2lqQ",
        "outputId": "baf6efb1-20ff-4dfb-9a7c-212c9dac91ef",
        "colab": {
          "base_uri": "https://localhost:8080/"
        }
      },
      "id": "XCFbXFgj2lqQ",
      "execution_count": 60,
      "outputs": [
        {
          "output_type": "execute_result",
          "data": {
            "text/plain": [
              "(tensor(10000.), tensor(10000.))"
            ]
          },
          "metadata": {},
          "execution_count": 60
        }
      ]
    },
    {
      "cell_type": "code",
      "source": [
        "# They refere to the same \"object\", so if u change it, it will change in both"
      ],
      "metadata": {
        "id": "x-Dt6wtw3HVN"
      },
      "id": "x-Dt6wtw3HVN",
      "execution_count": 61,
      "outputs": []
    },
    {
      "cell_type": "markdown",
      "source": [
        "## Indexing\n",
        "\n",
        "Indexing with Pytorch is similar to indexin with NumPy"
      ],
      "metadata": {
        "id": "nQM6xTp4mOlS"
      },
      "id": "nQM6xTp4mOlS"
    },
    {
      "cell_type": "code",
      "source": [
        "x = torch.arange(1, 19).reshape(2,3,3)\n",
        "x, x.shape"
      ],
      "metadata": {
        "id": "au9c79eNmeGZ",
        "outputId": "13324e2d-c0bc-4ce7-9266-ce65b9ebdc88",
        "colab": {
          "base_uri": "https://localhost:8080/"
        }
      },
      "id": "au9c79eNmeGZ",
      "execution_count": 62,
      "outputs": [
        {
          "output_type": "execute_result",
          "data": {
            "text/plain": [
              "(tensor([[[ 1,  2,  3],\n",
              "          [ 4,  5,  6],\n",
              "          [ 7,  8,  9]],\n",
              " \n",
              "         [[10, 11, 12],\n",
              "          [13, 14, 15],\n",
              "          [16, 17, 18]]]),\n",
              " torch.Size([2, 3, 3]))"
            ]
          },
          "metadata": {},
          "execution_count": 62
        }
      ]
    },
    {
      "cell_type": "code",
      "source": [
        "# Lets index\n",
        "x[0], x[0, 0], x[0, 0, 0], x[0,2,2]"
      ],
      "metadata": {
        "id": "_s0dardZmnS_",
        "outputId": "2c5de9fe-5abc-4d8f-be7a-11df653fbd89",
        "colab": {
          "base_uri": "https://localhost:8080/"
        }
      },
      "id": "_s0dardZmnS_",
      "execution_count": 63,
      "outputs": [
        {
          "output_type": "execute_result",
          "data": {
            "text/plain": [
              "(tensor([[1, 2, 3],\n",
              "         [4, 5, 6],\n",
              "         [7, 8, 9]]),\n",
              " tensor([1, 2, 3]),\n",
              " tensor(1),\n",
              " tensor(9))"
            ]
          },
          "metadata": {},
          "execution_count": 63
        }
      ]
    },
    {
      "cell_type": "code",
      "source": [
        "# U can also use the \":\", it gives al the elements of the target dimension\n",
        "x[:], x[0, :, 0], x[0, :, 2]"
      ],
      "metadata": {
        "id": "PCj6uqnSm2GE",
        "outputId": "5d8cad6a-e652-4c82-8c20-7f43ad6a3332",
        "colab": {
          "base_uri": "https://localhost:8080/"
        }
      },
      "id": "PCj6uqnSm2GE",
      "execution_count": 64,
      "outputs": [
        {
          "output_type": "execute_result",
          "data": {
            "text/plain": [
              "(tensor([[[ 1,  2,  3],\n",
              "          [ 4,  5,  6],\n",
              "          [ 7,  8,  9]],\n",
              " \n",
              "         [[10, 11, 12],\n",
              "          [13, 14, 15],\n",
              "          [16, 17, 18]]]),\n",
              " tensor([1, 4, 7]),\n",
              " tensor([3, 6, 9]))"
            ]
          },
          "metadata": {},
          "execution_count": 64
        }
      ]
    },
    {
      "cell_type": "code",
      "source": [
        "x[:, :, 1]"
      ],
      "metadata": {
        "id": "8eq9zkpFn7hy",
        "outputId": "f994b126-fa0c-4021-d54e-cc2f8b727c05",
        "colab": {
          "base_uri": "https://localhost:8080/"
        }
      },
      "id": "8eq9zkpFn7hy",
      "execution_count": 65,
      "outputs": [
        {
          "output_type": "execute_result",
          "data": {
            "text/plain": [
              "tensor([[ 2,  5,  8],\n",
              "        [11, 14, 17]])"
            ]
          },
          "metadata": {},
          "execution_count": 65
        }
      ]
    },
    {
      "cell_type": "markdown",
      "source": [
        "## Pythorch tensor & Numpy\n",
        "\n",
        "* Data in NumPy -> want in PyTorch tensor -> `torch.from_numpy(ndarray)`\n",
        "* PyTorch tensor -> NumPy -> `torch.Tensor.numpy()`"
      ],
      "metadata": {
        "id": "6J-Ys6atouh6"
      },
      "id": "6J-Ys6atouh6"
    },
    {
      "cell_type": "code",
      "source": [
        "# Numpy array to tensor\n",
        "array = np.arange(1.0, 8.0)\n",
        "tensor = torch.from_numpy(array)\n",
        "array, tensor"
      ],
      "metadata": {
        "id": "OEJSWzGJqRkp",
        "outputId": "703cf328-3219-4193-b374-36bd6055a044",
        "colab": {
          "base_uri": "https://localhost:8080/"
        }
      },
      "id": "OEJSWzGJqRkp",
      "execution_count": 66,
      "outputs": [
        {
          "output_type": "execute_result",
          "data": {
            "text/plain": [
              "(array([1., 2., 3., 4., 5., 6., 7.]),\n",
              " tensor([1., 2., 3., 4., 5., 6., 7.], dtype=torch.float64))"
            ]
          },
          "metadata": {},
          "execution_count": 66
        }
      ]
    },
    {
      "cell_type": "code",
      "source": [
        "# Change the value of array\n",
        "array = array + 1\n",
        "array, tensor"
      ],
      "metadata": {
        "id": "BEOEBrue0sIq",
        "outputId": "68f4875b-7061-4c98-cd7f-eebba6a857f0",
        "colab": {
          "base_uri": "https://localhost:8080/"
        }
      },
      "id": "BEOEBrue0sIq",
      "execution_count": 67,
      "outputs": [
        {
          "output_type": "execute_result",
          "data": {
            "text/plain": [
              "(array([2., 3., 4., 5., 6., 7., 8.]),\n",
              " tensor([1., 2., 3., 4., 5., 6., 7.], dtype=torch.float64))"
            ]
          },
          "metadata": {},
          "execution_count": 67
        }
      ]
    },
    {
      "cell_type": "code",
      "source": [
        "# Tensor to Numpy\n",
        "tensor = torch.ones(7)\n",
        "numpy_tensor = tensor.numpy()\n",
        "tensor, numpy_tensor"
      ],
      "metadata": {
        "id": "w5gAe9jv1XVv",
        "outputId": "b74a5c05-1f66-474f-a76c-503941d66e3e",
        "colab": {
          "base_uri": "https://localhost:8080/"
        }
      },
      "id": "w5gAe9jv1XVv",
      "execution_count": 68,
      "outputs": [
        {
          "output_type": "execute_result",
          "data": {
            "text/plain": [
              "(tensor([1., 1., 1., 1., 1., 1., 1.]),\n",
              " array([1., 1., 1., 1., 1., 1., 1.], dtype=float32))"
            ]
          },
          "metadata": {},
          "execution_count": 68
        }
      ]
    },
    {
      "cell_type": "code",
      "source": [
        "# Change the values of array\n",
        "tensor = tensor + 1\n",
        "tensor, numpy_tensor"
      ],
      "metadata": {
        "id": "AB5pqvzE2GNy",
        "outputId": "8cfa8116-6da0-49cf-de3f-fdce7e25c59b",
        "colab": {
          "base_uri": "https://localhost:8080/"
        }
      },
      "id": "AB5pqvzE2GNy",
      "execution_count": 69,
      "outputs": [
        {
          "output_type": "execute_result",
          "data": {
            "text/plain": [
              "(tensor([2., 2., 2., 2., 2., 2., 2.]),\n",
              " array([1., 1., 1., 1., 1., 1., 1.], dtype=float32))"
            ]
          },
          "metadata": {},
          "execution_count": 69
        }
      ]
    },
    {
      "cell_type": "markdown",
      "source": [
        "## Reproducibility - trying to take random out of random\n",
        "\n",
        "To reduce the randomness in neural networks and PyTorch comes the concept of a **random seed**\n",
        "\n"
      ],
      "metadata": {
        "id": "T8cFzfni5jm0"
      },
      "id": "T8cFzfni5jm0"
    },
    {
      "cell_type": "code",
      "source": [
        "random_tensor_A = torch.rand(3,4)\n",
        "random_tensor_B = torch.rand(3,4)\n",
        "\n",
        "print(random_tensor_A)\n",
        "print(random_tensor_B)\n",
        "print(random_tensor_A == random_tensor_B)"
      ],
      "metadata": {
        "id": "thyrR0mh5lCp",
        "outputId": "0f774499-0c09-4f07-cc65-ca2ba14f4cef",
        "colab": {
          "base_uri": "https://localhost:8080/"
        }
      },
      "id": "thyrR0mh5lCp",
      "execution_count": 70,
      "outputs": [
        {
          "output_type": "stream",
          "name": "stdout",
          "text": [
            "tensor([[0.4984, 0.1935, 0.6054, 0.9557],\n",
            "        [0.3582, 0.7064, 0.9450, 0.6872],\n",
            "        [0.0413, 0.7052, 0.5176, 0.1375]])\n",
            "tensor([[0.5874, 0.2518, 0.4950, 0.6059],\n",
            "        [0.4513, 0.6448, 0.4005, 0.8015],\n",
            "        [0.8424, 0.8073, 0.8766, 0.3631]])\n",
            "tensor([[False, False, False, False],\n",
            "        [False, False, False, False],\n",
            "        [False, False, False, False]])\n"
          ]
        }
      ]
    },
    {
      "cell_type": "code",
      "source": [
        "# Set the seed\n",
        "RANDOM_SEED = 42\n",
        "torch.manual_seed(RANDOM_SEED)\n",
        "\n",
        "random_tensor_C = torch.rand(3,4)\n",
        "\n",
        "RANDOM_SEED = 42\n",
        "torch.manual_seed(RANDOM_SEED)\n",
        "\n",
        "random_tensor_D = torch.rand(3,4)\n",
        "\n",
        "print(random_tensor_C)\n",
        "print(random_tensor_D)\n",
        "print(random_tensor_C == random_tensor_D)"
      ],
      "metadata": {
        "id": "xAz1L7GJ6kJh",
        "outputId": "e085d8f3-7dd0-4ba5-9d0e-77ae84aa6661",
        "colab": {
          "base_uri": "https://localhost:8080/"
        }
      },
      "id": "xAz1L7GJ6kJh",
      "execution_count": 71,
      "outputs": [
        {
          "output_type": "stream",
          "name": "stdout",
          "text": [
            "tensor([[0.8823, 0.9150, 0.3829, 0.9593],\n",
            "        [0.3904, 0.6009, 0.2566, 0.7936],\n",
            "        [0.9408, 0.1332, 0.9346, 0.5936]])\n",
            "tensor([[0.8823, 0.9150, 0.3829, 0.9593],\n",
            "        [0.3904, 0.6009, 0.2566, 0.7936],\n",
            "        [0.9408, 0.1332, 0.9346, 0.5936]])\n",
            "tensor([[True, True, True, True],\n",
            "        [True, True, True, True],\n",
            "        [True, True, True, True]])\n"
          ]
        }
      ]
    },
    {
      "cell_type": "markdown",
      "source": [
        "## Running tensors and PyTorch objects on GPUs\n",
        "\n",
        "GPUs = Faster compurter on numbers."
      ],
      "metadata": {
        "id": "S-lKZsUz6o4z"
      },
      "id": "S-lKZsUz6o4z"
    },
    {
      "cell_type": "markdown",
      "source": [
        "### Getting a GPU\n",
        "\n",
        "1. Use a google colab\n",
        "2. Use your own GPU - setup and investment (lots of options)\n",
        "3. Use cloud computing (google cloud, AWS, Azure)\n",
        "\n",
        "Entorno de Ejecucion - Cambiar tipo de entorno de Ejecucion - GPU"
      ],
      "metadata": {
        "id": "3-SfvFbC7SqI"
      },
      "id": "3-SfvFbC7SqI"
    },
    {
      "cell_type": "code",
      "source": [
        "!nvidia-smi"
      ],
      "metadata": {
        "id": "ciryLPRl7gNl",
        "outputId": "1b511a9a-f5a2-488f-ae55-0b7cb93da781",
        "colab": {
          "base_uri": "https://localhost:8080/"
        }
      },
      "id": "ciryLPRl7gNl",
      "execution_count": 73,
      "outputs": [
        {
          "output_type": "stream",
          "name": "stdout",
          "text": [
            "Fri May  9 12:08:04 2025       \n",
            "+-----------------------------------------------------------------------------------------+\n",
            "| NVIDIA-SMI 550.54.15              Driver Version: 550.54.15      CUDA Version: 12.4     |\n",
            "|-----------------------------------------+------------------------+----------------------+\n",
            "| GPU  Name                 Persistence-M | Bus-Id          Disp.A | Volatile Uncorr. ECC |\n",
            "| Fan  Temp   Perf          Pwr:Usage/Cap |           Memory-Usage | GPU-Util  Compute M. |\n",
            "|                                         |                        |               MIG M. |\n",
            "|=========================================+========================+======================|\n",
            "|   0  Tesla T4                       Off |   00000000:00:04.0 Off |                    0 |\n",
            "| N/A   40C    P8              9W /   70W |       0MiB /  15360MiB |      0%      Default |\n",
            "|                                         |                        |                  N/A |\n",
            "+-----------------------------------------+------------------------+----------------------+\n",
            "                                                                                         \n",
            "+-----------------------------------------------------------------------------------------+\n",
            "| Processes:                                                                              |\n",
            "|  GPU   GI   CI        PID   Type   Process name                              GPU Memory |\n",
            "|        ID   ID                                                               Usage      |\n",
            "|=========================================================================================|\n",
            "|  No running processes found                                                             |\n",
            "+-----------------------------------------------------------------------------------------+\n"
          ]
        }
      ]
    },
    {
      "cell_type": "code",
      "source": [
        "# Check for GPU access with PyTorch\n",
        "\n",
        "torch.cuda.is_available()"
      ],
      "metadata": {
        "id": "P5uj8UX38gop",
        "outputId": "61b62240-4f49-46d5-df49-e2b32e40edc6",
        "colab": {
          "base_uri": "https://localhost:8080/"
        }
      },
      "id": "P5uj8UX38gop",
      "execution_count": 74,
      "outputs": [
        {
          "output_type": "execute_result",
          "data": {
            "text/plain": [
              "True"
            ]
          },
          "metadata": {},
          "execution_count": 74
        }
      ]
    },
    {
      "cell_type": "code",
      "source": [
        "# Setup device agnostic code (good practice)\n",
        "\n",
        "device = \"cuda\" if torch.cuda.is_available() else \"cpu\"\n",
        "device"
      ],
      "metadata": {
        "id": "ugG5Bd_A8t5U",
        "outputId": "34eebc3b-4513-4db6-9996-dc1780295857",
        "colab": {
          "base_uri": "https://localhost:8080/",
          "height": 36
        }
      },
      "id": "ugG5Bd_A8t5U",
      "execution_count": 77,
      "outputs": [
        {
          "output_type": "execute_result",
          "data": {
            "text/plain": [
              "'cuda'"
            ],
            "application/vnd.google.colaboratory.intrinsic+json": {
              "type": "string"
            }
          },
          "metadata": {},
          "execution_count": 77
        }
      ]
    },
    {
      "cell_type": "code",
      "source": [
        "# Count number of devices\n",
        "torch.cuda.device_count()"
      ],
      "metadata": {
        "id": "7b2Vm_D288hE",
        "outputId": "b2a73e09-0a40-49a9-9bc8-a5997da7a68c",
        "colab": {
          "base_uri": "https://localhost:8080/"
        }
      },
      "id": "7b2Vm_D288hE",
      "execution_count": 78,
      "outputs": [
        {
          "output_type": "execute_result",
          "data": {
            "text/plain": [
              "1"
            ]
          },
          "metadata": {},
          "execution_count": 78
        }
      ]
    },
    {
      "cell_type": "code",
      "source": [],
      "metadata": {
        "id": "2uM3eS-n-LQS"
      },
      "id": "2uM3eS-n-LQS",
      "execution_count": null,
      "outputs": []
    },
    {
      "cell_type": "markdown",
      "source": [
        "### Putting tensors (and models) on the GPU\n",
        "\n",
        "- Cant converto tensors to numpy if the tensor is in the GPU"
      ],
      "metadata": {
        "id": "z8e2UiUU-RvL"
      },
      "id": "z8e2UiUU-RvL"
    },
    {
      "cell_type": "code",
      "source": [
        "tensor = torch.tensor([1,2,3])\n",
        "\n",
        "tensor.device"
      ],
      "metadata": {
        "id": "ztMrewmR-VSz",
        "outputId": "6deccc4c-e747-4b3c-91d3-788e4bd48551",
        "colab": {
          "base_uri": "https://localhost:8080/"
        }
      },
      "id": "ztMrewmR-VSz",
      "execution_count": 86,
      "outputs": [
        {
          "output_type": "execute_result",
          "data": {
            "text/plain": [
              "device(type='cpu')"
            ]
          },
          "metadata": {},
          "execution_count": 86
        }
      ]
    },
    {
      "cell_type": "code",
      "source": [
        "# Moving tensor to a GPU IF AVAILABLE\n",
        "tensor_on_gpu = tensor.to(device)\n",
        "tensor_on_gpu"
      ],
      "metadata": {
        "id": "AtQbK0F0-if9",
        "outputId": "6fc2bde4-b382-4c35-bd5c-c4d4d72807df",
        "colab": {
          "base_uri": "https://localhost:8080/"
        }
      },
      "id": "AtQbK0F0-if9",
      "execution_count": 92,
      "outputs": [
        {
          "output_type": "execute_result",
          "data": {
            "text/plain": [
              "tensor([1, 2, 3], device='cuda:0')"
            ]
          },
          "metadata": {},
          "execution_count": 92
        }
      ]
    },
    {
      "cell_type": "code",
      "source": [
        "# Moving tensors back to the CPU\n",
        "tensor_to_cpu = tensor_on_gpu.cpu()\n",
        "tensor_to_cpu.device"
      ],
      "metadata": {
        "id": "w7BlLhpc-wLn",
        "outputId": "3c5b54bf-a560-48ff-dbcc-bcc59830fc58",
        "colab": {
          "base_uri": "https://localhost:8080/"
        }
      },
      "id": "w7BlLhpc-wLn",
      "execution_count": 94,
      "outputs": [
        {
          "output_type": "execute_result",
          "data": {
            "text/plain": [
              "device(type='cpu')"
            ]
          },
          "metadata": {},
          "execution_count": 94
        }
      ]
    },
    {
      "cell_type": "markdown",
      "source": [
        "## Exercises and Extra-curriculum\n",
        "\n",
        "https://www.learnpytorch.io/00_pytorch_fundamentals/#exercises"
      ],
      "metadata": {
        "id": "7M3HEECWBcc6"
      },
      "id": "7M3HEECWBcc6"
    },
    {
      "cell_type": "markdown",
      "source": [
        "### 1.Documentation reading - A big part of deep learning (and learning to code in general) is getting familiar with the documentation of a certain framework you're using. We'll be using the PyTorch documentation a lot throughout the rest of this course. So I'd recommend spending 10-minutes reading the following (it's okay if you don't get some things for now, the focus is not yet full understanding, it's awareness). See the documentation on torch.Tensor and for torch.cuda."
      ],
      "metadata": {
        "id": "z8RnwoTgBrBv"
      },
      "id": "z8RnwoTgBrBv"
    },
    {
      "cell_type": "markdown",
      "source": [
        "### 2. Create a random tensor with shape (7, 7)."
      ],
      "metadata": {
        "id": "7IFsYcK9Bv4_"
      },
      "id": "7IFsYcK9Bv4_"
    },
    {
      "cell_type": "code",
      "source": [
        "import torch\n",
        "\n",
        "tensor_2 = torch.rand(7,7)\n",
        "tensor_2"
      ],
      "metadata": {
        "id": "fn2AHRSeB00m",
        "outputId": "722dd069-9a6d-4e9f-9994-32e03bf5a2b6",
        "colab": {
          "base_uri": "https://localhost:8080/"
        }
      },
      "id": "fn2AHRSeB00m",
      "execution_count": 96,
      "outputs": [
        {
          "output_type": "execute_result",
          "data": {
            "text/plain": [
              "tensor([[0.1587, 0.6542, 0.3278, 0.6532, 0.3958, 0.9147, 0.2036],\n",
              "        [0.2018, 0.2018, 0.9497, 0.6666, 0.9811, 0.0874, 0.0041],\n",
              "        [0.1088, 0.1637, 0.7025, 0.6790, 0.9155, 0.2418, 0.1591],\n",
              "        [0.7653, 0.2979, 0.8035, 0.3813, 0.7860, 0.1115, 0.2477],\n",
              "        [0.6524, 0.6057, 0.3725, 0.7980, 0.8399, 0.1374, 0.2331],\n",
              "        [0.9578, 0.3313, 0.3227, 0.0162, 0.2137, 0.6249, 0.4340],\n",
              "        [0.1371, 0.5117, 0.1585, 0.0758, 0.2247, 0.0624, 0.1816]])"
            ]
          },
          "metadata": {},
          "execution_count": 96
        }
      ]
    },
    {
      "cell_type": "markdown",
      "source": [
        "### 3.Perform a matrix multiplication on the tensor from 2 with another random tensor with shape (1, 7) (hint: you may have to transpose the second tensor)."
      ],
      "metadata": {
        "id": "lJf0Vb8mB6_V"
      },
      "id": "lJf0Vb8mB6_V"
    },
    {
      "cell_type": "code",
      "source": [
        "tensor_3 = torch.rand(1,7)\n",
        "tensor_3"
      ],
      "metadata": {
        "id": "2tiNF1QpCDfq",
        "outputId": "affc62b7-29ae-491a-d300-4a02e7e3baa6",
        "colab": {
          "base_uri": "https://localhost:8080/"
        }
      },
      "id": "2tiNF1QpCDfq",
      "execution_count": 97,
      "outputs": [
        {
          "output_type": "execute_result",
          "data": {
            "text/plain": [
              "tensor([[0.9998, 0.5944, 0.6541, 0.0337, 0.1716, 0.3336, 0.5782]])"
            ]
          },
          "metadata": {},
          "execution_count": 97
        }
      ]
    },
    {
      "cell_type": "code",
      "source": [
        "tensor_3 = tensor_3.T\n",
        "torch.matmul(tensor_2, tensor_3)"
      ],
      "metadata": {
        "id": "YJ59lulRCLoa",
        "outputId": "200ccd7b-9b4e-4cea-b88b-c281116cef2a",
        "colab": {
          "base_uri": "https://localhost:8080/"
        }
      },
      "id": "YJ59lulRCLoa",
      "execution_count": 101,
      "outputs": [
        {
          "output_type": "execute_result",
          "data": {
            "text/plain": [
              "tensor([[1.2748],\n",
              "        [1.1652],\n",
              "        [1.0182],\n",
              "        [1.7959],\n",
              "        [1.6076],\n",
              "        [1.8623],\n",
              "        [0.7118]])"
            ]
          },
          "metadata": {},
          "execution_count": 101
        }
      ]
    },
    {
      "cell_type": "markdown",
      "source": [
        "### 4.Set the random seed to 0 and do exercises 2 & 3 over again."
      ],
      "metadata": {
        "id": "MQlckgZbCXUC"
      },
      "id": "MQlckgZbCXUC"
    },
    {
      "cell_type": "code",
      "source": [
        "RANDOM_SEED = 0\n",
        "torch.manual_seed(RANDOM_SEED)\n",
        "tensor_2 = torch.rand(7,7)\n",
        "tensor_2"
      ],
      "metadata": {
        "id": "9BywUL9zDD_X",
        "outputId": "e58ba6bd-07ce-4f4a-e7aa-9cf9053aea23",
        "colab": {
          "base_uri": "https://localhost:8080/"
        }
      },
      "id": "9BywUL9zDD_X",
      "execution_count": 103,
      "outputs": [
        {
          "output_type": "execute_result",
          "data": {
            "text/plain": [
              "tensor([[0.4963, 0.7682, 0.0885, 0.1320, 0.3074, 0.6341, 0.4901],\n",
              "        [0.8964, 0.4556, 0.6323, 0.3489, 0.4017, 0.0223, 0.1689],\n",
              "        [0.2939, 0.5185, 0.6977, 0.8000, 0.1610, 0.2823, 0.6816],\n",
              "        [0.9152, 0.3971, 0.8742, 0.4194, 0.5529, 0.9527, 0.0362],\n",
              "        [0.1852, 0.3734, 0.3051, 0.9320, 0.1759, 0.2698, 0.1507],\n",
              "        [0.0317, 0.2081, 0.9298, 0.7231, 0.7423, 0.5263, 0.2437],\n",
              "        [0.5846, 0.0332, 0.1387, 0.2422, 0.8155, 0.7932, 0.2783]])"
            ]
          },
          "metadata": {},
          "execution_count": 103
        }
      ]
    },
    {
      "cell_type": "code",
      "source": [
        "RANDOM_SEED = 0\n",
        "torch.manual_seed(RANDOM_SEED)\n",
        "tensor_3 = torch.rand(1,7)\n",
        "tensor_3"
      ],
      "metadata": {
        "id": "fLbTLUkXDVQo",
        "outputId": "7466f99d-8183-4675-9a3c-5556110809bc",
        "colab": {
          "base_uri": "https://localhost:8080/"
        }
      },
      "id": "fLbTLUkXDVQo",
      "execution_count": 104,
      "outputs": [
        {
          "output_type": "execute_result",
          "data": {
            "text/plain": [
              "tensor([[0.4963, 0.7682, 0.0885, 0.1320, 0.3074, 0.6341, 0.4901]])"
            ]
          },
          "metadata": {},
          "execution_count": 104
        }
      ]
    },
    {
      "cell_type": "code",
      "source": [
        "tensor_3 = tensor_3.T\n",
        "torch.matmul(tensor_2, tensor_3)"
      ],
      "metadata": {
        "id": "k09pixQwDZfB",
        "outputId": "65a772f0-917e-49d7-8492-9d1b3ed64a83",
        "colab": {
          "base_uri": "https://localhost:8080/"
        }
      },
      "id": "k09pixQwDZfB",
      "execution_count": 105,
      "outputs": [
        {
          "output_type": "execute_result",
          "data": {
            "text/plain": [
              "tensor([[1.5985],\n",
              "        [1.1173],\n",
              "        [1.2741],\n",
              "        [1.6838],\n",
              "        [0.8279],\n",
              "        [1.0347],\n",
              "        [1.2498]])"
            ]
          },
          "metadata": {},
          "execution_count": 105
        }
      ]
    },
    {
      "cell_type": "markdown",
      "source": [
        "### 5.Speaking of random seeds, we saw how to set it with torch.manual_seed() but is there a GPU equivalent? (hint: you'll need to look into the documentation for torch.cuda for this one). If there is, set the GPU random seed to 1234."
      ],
      "metadata": {
        "id": "5btdBzpUDhPz"
      },
      "id": "5btdBzpUDhPz"
    },
    {
      "cell_type": "code",
      "source": [
        "RANDOM_SEED = 1234\n",
        "torch.cuda.manual_seed(RANDOM_SEED)"
      ],
      "metadata": {
        "id": "0w1YR6a4DmOK"
      },
      "id": "0w1YR6a4DmOK",
      "execution_count": 109,
      "outputs": []
    },
    {
      "cell_type": "markdown",
      "source": [
        "### 6.Create two random tensors of shape (2, 3) and send them both to the GPU (you'll need access to a GPU for this). Set torch.manual_seed(1234) when creating the tensors (this doesn't have to be the GPU random seed)."
      ],
      "metadata": {
        "id": "8OOGpxXtDz2q"
      },
      "id": "8OOGpxXtDz2q"
    },
    {
      "cell_type": "code",
      "source": [
        "device = \"cuda\" if torch.cuda.is_available else \"cpu\"\n",
        "RANDOM_SEED = 1234\n",
        "torch.manual_seed(RANDOM_SEED)\n",
        "\n",
        "tensor_61 = torch.rand(2,3, device=device)\n",
        "\n",
        "torch.manual_seed(RANDOM_SEED)\n",
        "tensor_62 = torch.rand(2,3, device=device)\n",
        "\n",
        "print(tensor_61)\n",
        "print(tensor_62)"
      ],
      "metadata": {
        "id": "c-vQK7PgEEIL",
        "outputId": "072d58af-4e51-45fb-d9d3-4604610e1213",
        "colab": {
          "base_uri": "https://localhost:8080/"
        }
      },
      "id": "c-vQK7PgEEIL",
      "execution_count": 113,
      "outputs": [
        {
          "output_type": "stream",
          "name": "stdout",
          "text": [
            "tensor([[0.1272, 0.8167, 0.5440],\n",
            "        [0.6601, 0.2721, 0.9737]], device='cuda:0')\n",
            "tensor([[0.1272, 0.8167, 0.5440],\n",
            "        [0.6601, 0.2721, 0.9737]], device='cuda:0')\n"
          ]
        }
      ]
    },
    {
      "cell_type": "markdown",
      "source": [
        "### 7.Perform a matrix multiplication on the tensors you created in 6 (again, you may have to adjust the shapes of one of the tensors)."
      ],
      "metadata": {
        "id": "lBfA9BeWEcLM"
      },
      "id": "lBfA9BeWEcLM"
    },
    {
      "cell_type": "code",
      "source": [
        "tensor_7 = torch.mm(tensor_61, tensor_62.T)\n",
        "tensor_7"
      ],
      "metadata": {
        "id": "hlk7IQCGE3PT",
        "outputId": "f75d152f-d274-454b-ed8d-f9cabab7769a",
        "colab": {
          "base_uri": "https://localhost:8080/"
        }
      },
      "id": "hlk7IQCGE3PT",
      "execution_count": 118,
      "outputs": [
        {
          "output_type": "execute_result",
          "data": {
            "text/plain": [
              "tensor([[0.9792, 0.8358],\n",
              "        [0.8358, 1.4578]], device='cuda:0')"
            ]
          },
          "metadata": {},
          "execution_count": 118
        }
      ]
    },
    {
      "cell_type": "markdown",
      "source": [
        "### 8.Find the maximum and minimum values of the output of 7."
      ],
      "metadata": {
        "id": "r36toMPPE_D7"
      },
      "id": "r36toMPPE_D7"
    },
    {
      "cell_type": "code",
      "source": [
        "print(tensor_7.min(), tensor_7.max())"
      ],
      "metadata": {
        "id": "umrviphiFKID",
        "outputId": "8599bd12-f99b-4d8d-b63a-bb0415833dff",
        "colab": {
          "base_uri": "https://localhost:8080/"
        }
      },
      "id": "umrviphiFKID",
      "execution_count": 121,
      "outputs": [
        {
          "output_type": "stream",
          "name": "stdout",
          "text": [
            "tensor(0.8358, device='cuda:0') tensor(1.4578, device='cuda:0')\n"
          ]
        }
      ]
    },
    {
      "cell_type": "markdown",
      "source": [
        "### 9.Find the maximum and minimum index values of the output of 7."
      ],
      "metadata": {
        "id": "I7Sfipw-FSYK"
      },
      "id": "I7Sfipw-FSYK"
    },
    {
      "cell_type": "code",
      "source": [
        "print(tensor_7.argmin(), tensor_7.argmax())"
      ],
      "metadata": {
        "id": "w_iTqXTNFb5B",
        "outputId": "435bb355-8de8-4b5f-acad-7d63067b80c6",
        "colab": {
          "base_uri": "https://localhost:8080/"
        }
      },
      "id": "w_iTqXTNFb5B",
      "execution_count": 122,
      "outputs": [
        {
          "output_type": "stream",
          "name": "stdout",
          "text": [
            "tensor(1, device='cuda:0') tensor(3, device='cuda:0')\n"
          ]
        }
      ]
    },
    {
      "cell_type": "markdown",
      "source": [
        "### 10.Make a random tensor with shape (1, 1, 1, 10) and then create a new tensor with all the 1 dimensions removed to be left with a tensor of shape (10). Set the seed to 7 when you create it and print out the first tensor and it's shape as well as the second tensor and it's shape."
      ],
      "metadata": {
        "id": "qQf3Q6lmF7Jt"
      },
      "id": "qQf3Q6lmF7Jt"
    },
    {
      "cell_type": "code",
      "source": [
        "RANDOM_SEED = 7\n",
        "torch.manual_seed(RANDOM_SEED)\n",
        "\n",
        "tensor_10 = torch.rand(1, 1, 1, 10)\n",
        "tensor_10"
      ],
      "metadata": {
        "id": "kyrFIdwtGF0a",
        "outputId": "9d27d054-13bd-48f2-bda5-705ec46e99c3",
        "colab": {
          "base_uri": "https://localhost:8080/"
        }
      },
      "id": "kyrFIdwtGF0a",
      "execution_count": 123,
      "outputs": [
        {
          "output_type": "execute_result",
          "data": {
            "text/plain": [
              "tensor([[[[0.5349, 0.1988, 0.6592, 0.6569, 0.2328, 0.4251, 0.2071, 0.6297,\n",
              "           0.3653, 0.8513]]]])"
            ]
          },
          "metadata": {},
          "execution_count": 123
        }
      ]
    },
    {
      "cell_type": "code",
      "source": [
        "tensor_10_squeezed = tensor_10.squeeze()\n",
        "\n",
        "#First tensor\n",
        "print(f\"Tensor: {tensor_10}\")\n",
        "print(f\"Shape: {tensor_10.size()}\")\n",
        "\n",
        "#Second tensor\n",
        "print(f\"Tensor: {tensor_10_squeezed}\")\n",
        "print(f\"Shape: {tensor_10_squeezed.size()}\")"
      ],
      "metadata": {
        "id": "vE1gFG8CGO-O",
        "outputId": "af3591d3-d092-4f17-d2e8-c5cddbc6bacf",
        "colab": {
          "base_uri": "https://localhost:8080/"
        }
      },
      "id": "vE1gFG8CGO-O",
      "execution_count": 126,
      "outputs": [
        {
          "output_type": "stream",
          "name": "stdout",
          "text": [
            "Tensor: tensor([[[[0.5349, 0.1988, 0.6592, 0.6569, 0.2328, 0.4251, 0.2071, 0.6297,\n",
            "           0.3653, 0.8513]]]])\n",
            "Shape: torch.Size([1, 1, 1, 10])\n",
            "Tensor: tensor([0.5349, 0.1988, 0.6592, 0.6569, 0.2328, 0.4251, 0.2071, 0.6297, 0.3653,\n",
            "        0.8513])\n",
            "Shape: torch.Size([10])\n"
          ]
        }
      ]
    }
  ],
  "metadata": {
    "kernelspec": {
      "display_name": "Python 3",
      "name": "python3"
    },
    "language_info": {
      "codemirror_mode": {
        "name": "ipython",
        "version": 3
      },
      "file_extension": ".py",
      "mimetype": "text/x-python",
      "name": "python",
      "nbconvert_exporter": "python",
      "pygments_lexer": "ipython3",
      "version": "3.12.7"
    },
    "colab": {
      "provenance": [],
      "gpuType": "T4"
    },
    "accelerator": "GPU"
  },
  "nbformat": 4,
  "nbformat_minor": 5
}