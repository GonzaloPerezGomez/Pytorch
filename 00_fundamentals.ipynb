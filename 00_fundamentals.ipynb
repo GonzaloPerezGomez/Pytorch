{
  "cells": [
    {
      "cell_type": "code",
      "source": [
        "import torch\n",
        "import pandas as pd\n",
        "import numpy as np\n",
        "import matplotlib.pyplot as plt\n"
      ],
      "metadata": {
        "id": "udJhs70oGwEC"
      },
      "id": "udJhs70oGwEC",
      "execution_count": 61,
      "outputs": []
    },
    {
      "cell_type": "markdown",
      "source": [
        "## Introduccion a Tensors\n"
      ],
      "metadata": {
        "id": "amDHl5HGHM2e"
      },
      "id": "amDHl5HGHM2e"
    },
    {
      "cell_type": "code",
      "source": [
        "\n",
        "#scalar\n",
        "scalar = torch.tensor(7)\n",
        "scalar #Objeto tipo tensor"
      ],
      "metadata": {
        "id": "-wuwgPImMImj",
        "outputId": "9b4c3542-f892-4268-c970-6de1a8560bf2",
        "colab": {
          "base_uri": "https://localhost:8080/"
        }
      },
      "id": "-wuwgPImMImj",
      "execution_count": 62,
      "outputs": [
        {
          "output_type": "execute_result",
          "data": {
            "text/plain": [
              "tensor(7)"
            ]
          },
          "metadata": {},
          "execution_count": 62
        }
      ]
    },
    {
      "cell_type": "code",
      "source": [
        "scalar.ndim #Devuelve las dimensiones del tensor"
      ],
      "metadata": {
        "colab": {
          "base_uri": "https://localhost:8080/"
        },
        "id": "NUMFbnaDIBJ8",
        "outputId": "38c3e2ae-719c-4e55-be36-20816401f8aa"
      },
      "id": "NUMFbnaDIBJ8",
      "execution_count": 63,
      "outputs": [
        {
          "output_type": "execute_result",
          "data": {
            "text/plain": [
              "0"
            ]
          },
          "metadata": {},
          "execution_count": 63
        }
      ]
    },
    {
      "cell_type": "code",
      "source": [
        "scalar.item() #Devuelve el elementos como integer"
      ],
      "metadata": {
        "colab": {
          "base_uri": "https://localhost:8080/"
        },
        "id": "5xexH461ItpQ",
        "outputId": "8202ae7c-5c1f-483f-9f41-ecd8d0d55f01"
      },
      "id": "5xexH461ItpQ",
      "execution_count": 64,
      "outputs": [
        {
          "output_type": "execute_result",
          "data": {
            "text/plain": [
              "7"
            ]
          },
          "metadata": {},
          "execution_count": 64
        }
      ]
    },
    {
      "cell_type": "code",
      "source": [
        "# Vector\n",
        "vector = torch.tensor([7,7])\n",
        "vector"
      ],
      "metadata": {
        "colab": {
          "base_uri": "https://localhost:8080/"
        },
        "id": "d9mnk5IcIwrT",
        "outputId": "d4d7e5c6-57b1-4eea-a723-c1702247dbe4"
      },
      "id": "d9mnk5IcIwrT",
      "execution_count": 65,
      "outputs": [
        {
          "output_type": "execute_result",
          "data": {
            "text/plain": [
              "tensor([7, 7])"
            ]
          },
          "metadata": {},
          "execution_count": 65
        }
      ]
    },
    {
      "cell_type": "code",
      "source": [
        "vector.ndim"
      ],
      "metadata": {
        "colab": {
          "base_uri": "https://localhost:8080/"
        },
        "id": "7Ll4ecvGJBfT",
        "outputId": "7c0b4e52-8ca9-40a4-cbb2-cb672d13f384"
      },
      "id": "7Ll4ecvGJBfT",
      "execution_count": 66,
      "outputs": [
        {
          "output_type": "execute_result",
          "data": {
            "text/plain": [
              "1"
            ]
          },
          "metadata": {},
          "execution_count": 66
        }
      ]
    },
    {
      "cell_type": "code",
      "source": [
        "vector.shape"
      ],
      "metadata": {
        "colab": {
          "base_uri": "https://localhost:8080/"
        },
        "id": "vVE7A-VnJN5Z",
        "outputId": "7ac408ad-ff9e-419d-d6d9-34303047c6d8"
      },
      "id": "vVE7A-VnJN5Z",
      "execution_count": 67,
      "outputs": [
        {
          "output_type": "execute_result",
          "data": {
            "text/plain": [
              "torch.Size([2])"
            ]
          },
          "metadata": {},
          "execution_count": 67
        }
      ]
    },
    {
      "cell_type": "code",
      "source": [
        "# Matrix\n",
        "MATRIX = torch.tensor([[7,7],\n",
        "                      [8,8]])\n",
        "MATRIX"
      ],
      "metadata": {
        "colab": {
          "base_uri": "https://localhost:8080/"
        },
        "id": "ljaNJxkuJS6n",
        "outputId": "72a5df93-46f6-4f29-b2f5-745afe5667e2"
      },
      "id": "ljaNJxkuJS6n",
      "execution_count": 68,
      "outputs": [
        {
          "output_type": "execute_result",
          "data": {
            "text/plain": [
              "tensor([[7, 7],\n",
              "        [8, 8]])"
            ]
          },
          "metadata": {},
          "execution_count": 68
        }
      ]
    },
    {
      "cell_type": "code",
      "source": [
        "MATRIX.ndim"
      ],
      "metadata": {
        "colab": {
          "base_uri": "https://localhost:8080/"
        },
        "id": "KB5MAZOfJffD",
        "outputId": "d26f9b4e-799e-4d27-bb1b-f4cc36195840"
      },
      "id": "KB5MAZOfJffD",
      "execution_count": 69,
      "outputs": [
        {
          "output_type": "execute_result",
          "data": {
            "text/plain": [
              "2"
            ]
          },
          "metadata": {},
          "execution_count": 69
        }
      ]
    },
    {
      "cell_type": "code",
      "source": [
        "MATRIX[0]"
      ],
      "metadata": {
        "colab": {
          "base_uri": "https://localhost:8080/"
        },
        "id": "gLREUAcXJmDz",
        "outputId": "dd0decef-593e-4f1a-d0ac-cefd224616ce"
      },
      "id": "gLREUAcXJmDz",
      "execution_count": 70,
      "outputs": [
        {
          "output_type": "execute_result",
          "data": {
            "text/plain": [
              "tensor([7, 7])"
            ]
          },
          "metadata": {},
          "execution_count": 70
        }
      ]
    },
    {
      "cell_type": "code",
      "source": [
        "# Tensor\n",
        "TENSOR = torch.tensor([[[1,2,3],\n",
        "                      [4,5,6],\n",
        "                      [7,8,9]]])\n",
        "TENSOR"
      ],
      "metadata": {
        "colab": {
          "base_uri": "https://localhost:8080/"
        },
        "id": "5Jio9FIlJ1Xc",
        "outputId": "fe1490a6-ec22-4593-efc9-2aa7541f65d9"
      },
      "id": "5Jio9FIlJ1Xc",
      "execution_count": 71,
      "outputs": [
        {
          "output_type": "execute_result",
          "data": {
            "text/plain": [
              "tensor([[[1, 2, 3],\n",
              "         [4, 5, 6],\n",
              "         [7, 8, 9]]])"
            ]
          },
          "metadata": {},
          "execution_count": 71
        }
      ]
    },
    {
      "cell_type": "code",
      "source": [
        "TENSOR.ndim"
      ],
      "metadata": {
        "colab": {
          "base_uri": "https://localhost:8080/"
        },
        "id": "lPfdDHpiKGkA",
        "outputId": "63981c06-099e-44fa-e157-aa9f76df5bab"
      },
      "id": "lPfdDHpiKGkA",
      "execution_count": 72,
      "outputs": [
        {
          "output_type": "execute_result",
          "data": {
            "text/plain": [
              "3"
            ]
          },
          "metadata": {},
          "execution_count": 72
        }
      ]
    },
    {
      "cell_type": "code",
      "source": [
        "TENSOR.shape"
      ],
      "metadata": {
        "colab": {
          "base_uri": "https://localhost:8080/"
        },
        "id": "cuLNm9OxKaPD",
        "outputId": "e9904f74-2956-40bf-81d2-adec5e5f1c7a"
      },
      "id": "cuLNm9OxKaPD",
      "execution_count": 73,
      "outputs": [
        {
          "output_type": "execute_result",
          "data": {
            "text/plain": [
              "torch.Size([1, 3, 3])"
            ]
          },
          "metadata": {},
          "execution_count": 73
        }
      ]
    },
    {
      "cell_type": "code",
      "source": [
        "TENSOR[0]"
      ],
      "metadata": {
        "colab": {
          "base_uri": "https://localhost:8080/"
        },
        "id": "7VMRzgtCKktt",
        "outputId": "8913aee4-0e86-4e63-bcb4-f80ea0868141"
      },
      "id": "7VMRzgtCKktt",
      "execution_count": 74,
      "outputs": [
        {
          "output_type": "execute_result",
          "data": {
            "text/plain": [
              "tensor([[1, 2, 3],\n",
              "        [4, 5, 6],\n",
              "        [7, 8, 9]])"
            ]
          },
          "metadata": {},
          "execution_count": 74
        }
      ]
    },
    {
      "cell_type": "code",
      "source": [
        "### LOS TENSORs te devuelven matrices al indexar, las matrices te devuelven vectores y los vectores devuelven scalares"
      ],
      "metadata": {
        "id": "aXnkLeHbKv5_"
      },
      "id": "aXnkLeHbKv5_",
      "execution_count": 75,
      "outputs": []
    },
    {
      "cell_type": "markdown",
      "source": [
        "## Random Tensors\n",
        "\n",
        "`Start with random numbers -> look at data -> update random numbers -> look at data -> update random numbers`"
      ],
      "metadata": {
        "id": "U1sbMNvxK240"
      },
      "id": "U1sbMNvxK240"
    },
    {
      "cell_type": "code",
      "source": [
        "# Create a random tensor of shape/size (3,4)\n",
        "random_tensor = torch.rand(3,4)\n",
        "random_tensor"
      ],
      "metadata": {
        "id": "Yoz5fr0JMDWo",
        "outputId": "330b852e-1a7d-4b1f-881d-b7f0b714c371",
        "colab": {
          "base_uri": "https://localhost:8080/"
        }
      },
      "id": "Yoz5fr0JMDWo",
      "execution_count": 76,
      "outputs": [
        {
          "output_type": "execute_result",
          "data": {
            "text/plain": [
              "tensor([[0.8852, 0.4320, 0.5458, 0.5846],\n",
              "        [0.1908, 0.0716, 0.3846, 0.6537],\n",
              "        [0.2284, 0.0729, 0.5162, 0.6873]])"
            ]
          },
          "metadata": {},
          "execution_count": 76
        }
      ]
    },
    {
      "cell_type": "code",
      "source": [
        "# Create a random tensor with similar shape to an imagen tensor\n",
        "random_image_size_tensor = torch.rand(size=(224, 224, 3)) # height, width, colour channels (R, G, B)"
      ],
      "metadata": {
        "id": "F_BbF65vNBXk"
      },
      "id": "F_BbF65vNBXk",
      "execution_count": 77,
      "outputs": []
    },
    {
      "cell_type": "markdown",
      "source": [
        "## Zeros and Ones"
      ],
      "metadata": {
        "id": "jAyo-wAaOKu3"
      },
      "id": "jAyo-wAaOKu3"
    },
    {
      "cell_type": "code",
      "source": [
        "### Create a tensor of all zeros\n",
        "zero = torch.zeros(3,4)\n",
        "zero"
      ],
      "metadata": {
        "id": "imrfla7pRR6t",
        "outputId": "d5d647c4-9361-450c-904e-62318370813c",
        "colab": {
          "base_uri": "https://localhost:8080/"
        }
      },
      "id": "imrfla7pRR6t",
      "execution_count": 78,
      "outputs": [
        {
          "output_type": "execute_result",
          "data": {
            "text/plain": [
              "tensor([[0., 0., 0., 0.],\n",
              "        [0., 0., 0., 0.],\n",
              "        [0., 0., 0., 0.]])"
            ]
          },
          "metadata": {},
          "execution_count": 78
        }
      ]
    },
    {
      "cell_type": "code",
      "source": [
        "### Create a tensor of all ones\n",
        "ones = torch.ones(3,4)\n",
        "ones"
      ],
      "metadata": {
        "id": "0VxGKo3MRXV9",
        "outputId": "c5b335a1-2501-4c31-cee0-67dcd4e5861d",
        "colab": {
          "base_uri": "https://localhost:8080/"
        }
      },
      "id": "0VxGKo3MRXV9",
      "execution_count": 79,
      "outputs": [
        {
          "output_type": "execute_result",
          "data": {
            "text/plain": [
              "tensor([[1., 1., 1., 1.],\n",
              "        [1., 1., 1., 1.],\n",
              "        [1., 1., 1., 1.]])"
            ]
          },
          "metadata": {},
          "execution_count": 79
        }
      ]
    },
    {
      "cell_type": "code",
      "source": [
        "ones.dtype #Default tensor type"
      ],
      "metadata": {
        "id": "VEyUV7WfQwUE",
        "outputId": "3b764959-59fe-42d7-e6cf-ab6c3b86e632",
        "colab": {
          "base_uri": "https://localhost:8080/"
        }
      },
      "id": "VEyUV7WfQwUE",
      "execution_count": 80,
      "outputs": [
        {
          "output_type": "execute_result",
          "data": {
            "text/plain": [
              "torch.float32"
            ]
          },
          "metadata": {},
          "execution_count": 80
        }
      ]
    },
    {
      "cell_type": "markdown",
      "source": [
        "## Create a range of tensor and tensors-like"
      ],
      "metadata": {
        "id": "jgkDPcHhRgLx"
      },
      "id": "jgkDPcHhRgLx"
    },
    {
      "cell_type": "code",
      "source": [
        "# Use torch.arange()\n",
        "one_to_ten = torch.arange(0,10)\n",
        "one_to_ten"
      ],
      "metadata": {
        "id": "3MdxGduqSLiX",
        "outputId": "ac3437c8-db24-4836-d5b4-34c5817fd7fe",
        "colab": {
          "base_uri": "https://localhost:8080/"
        }
      },
      "id": "3MdxGduqSLiX",
      "execution_count": 81,
      "outputs": [
        {
          "output_type": "execute_result",
          "data": {
            "text/plain": [
              "tensor([0, 1, 2, 3, 4, 5, 6, 7, 8, 9])"
            ]
          },
          "metadata": {},
          "execution_count": 81
        }
      ]
    },
    {
      "cell_type": "code",
      "source": [
        "torch.arange(start=0, end=1000, step=33)"
      ],
      "metadata": {
        "id": "_jPuIeWRSSGM",
        "outputId": "405c938a-573e-4247-80a1-2b888379dfff",
        "colab": {
          "base_uri": "https://localhost:8080/"
        }
      },
      "id": "_jPuIeWRSSGM",
      "execution_count": 82,
      "outputs": [
        {
          "output_type": "execute_result",
          "data": {
            "text/plain": [
              "tensor([  0,  33,  66,  99, 132, 165, 198, 231, 264, 297, 330, 363, 396, 429,\n",
              "        462, 495, 528, 561, 594, 627, 660, 693, 726, 759, 792, 825, 858, 891,\n",
              "        924, 957, 990])"
            ]
          },
          "metadata": {},
          "execution_count": 82
        }
      ]
    },
    {
      "cell_type": "code",
      "source": [
        "# Creating tensors-like\n",
        "ten_zeros = torch.zeros_like(one_to_ten)\n",
        "ten_zeros"
      ],
      "metadata": {
        "id": "7UYgd0LpSt6V",
        "outputId": "f2683208-69a8-4da6-99dd-3d38d305fed6",
        "colab": {
          "base_uri": "https://localhost:8080/"
        }
      },
      "id": "7UYgd0LpSt6V",
      "execution_count": 83,
      "outputs": [
        {
          "output_type": "execute_result",
          "data": {
            "text/plain": [
              "tensor([0, 0, 0, 0, 0, 0, 0, 0, 0, 0])"
            ]
          },
          "metadata": {},
          "execution_count": 83
        }
      ]
    },
    {
      "cell_type": "markdown",
      "source": [
        "## Tensor Datatypes\n",
        "**Note**: Datatypes is on of the big 3 problems u will run into\n",
        "1. Tensor not right datatypes\n",
        "2. Tensors not right shape\n",
        "3. Tensor not on the right device"
      ],
      "metadata": {
        "id": "0bOgok63HrBk"
      },
      "id": "0bOgok63HrBk"
    },
    {
      "cell_type": "code",
      "source": [
        "# Float 32 tensor\n",
        "float_32_tensor = torch.tensor([3.2, 6.1, 9.3],\n",
        "                               dtype=None,            # What datatype is the tensor (float_32, float_16, ...)\n",
        "                               device=None,           # What device is your tensor on\n",
        "                               requires_grad=False)   # Track the gradiance\n",
        "float_32_tensor"
      ],
      "metadata": {
        "id": "6JsdHefRHqmU",
        "outputId": "ae0fd931-a26f-4b4b-cd56-46150a8dc812",
        "colab": {
          "base_uri": "https://localhost:8080/"
        }
      },
      "id": "6JsdHefRHqmU",
      "execution_count": 84,
      "outputs": [
        {
          "output_type": "execute_result",
          "data": {
            "text/plain": [
              "tensor([3.2000, 6.1000, 9.3000])"
            ]
          },
          "metadata": {},
          "execution_count": 84
        }
      ]
    },
    {
      "cell_type": "code",
      "source": [
        "float_16_tensor = float_32_tensor.type(torch.float16)\n",
        "float_16_tensor"
      ],
      "metadata": {
        "id": "5UqfcaXiH9S2",
        "outputId": "5f8c7c2f-52e9-481f-980a-fb544544c835",
        "colab": {
          "base_uri": "https://localhost:8080/"
        }
      },
      "id": "5UqfcaXiH9S2",
      "execution_count": 85,
      "outputs": [
        {
          "output_type": "execute_result",
          "data": {
            "text/plain": [
              "tensor([3.1992, 6.1016, 9.2969], dtype=torch.float16)"
            ]
          },
          "metadata": {},
          "execution_count": 85
        }
      ]
    },
    {
      "cell_type": "code",
      "source": [
        "float_16_tensor * float_32_tensor"
      ],
      "metadata": {
        "id": "tY8o735mKECU",
        "outputId": "3b16f1d7-58a8-4ce9-fe49-ca574116bb48",
        "colab": {
          "base_uri": "https://localhost:8080/"
        }
      },
      "id": "tY8o735mKECU",
      "execution_count": 86,
      "outputs": [
        {
          "output_type": "execute_result",
          "data": {
            "text/plain": [
              "tensor([10.2375, 37.2195, 86.4609])"
            ]
          },
          "metadata": {},
          "execution_count": 86
        }
      ]
    },
    {
      "cell_type": "markdown",
      "source": [
        "## Getting Information from Tensors (attributes)\n",
        "\n",
        "1. Datatype: tensor:dtype\n",
        "2. Shape: tensor.shape\n",
        "3. Device: tensor-device"
      ],
      "metadata": {
        "id": "UrKs3LcaJ-6k"
      },
      "id": "UrKs3LcaJ-6k"
    },
    {
      "cell_type": "code",
      "source": [
        "tensor = torch.rand(3,4)\n",
        "tensor"
      ],
      "metadata": {
        "id": "xFKU5tIsJ_8F",
        "outputId": "ae3be728-633f-472a-b72c-de136dd3130a",
        "colab": {
          "base_uri": "https://localhost:8080/"
        }
      },
      "id": "xFKU5tIsJ_8F",
      "execution_count": 87,
      "outputs": [
        {
          "output_type": "execute_result",
          "data": {
            "text/plain": [
              "tensor([[0.8127, 0.7760, 0.4599, 0.9417],\n",
              "        [0.5691, 0.5902, 0.3487, 0.1079],\n",
              "        [0.8533, 0.7203, 0.1519, 0.1061]])"
            ]
          },
          "metadata": {},
          "execution_count": 87
        }
      ]
    },
    {
      "cell_type": "code",
      "source": [
        "print(f\"Datatype of tensor: {tensor.dtype}\")\n",
        "print(f\"Shape of tensor: {tensor.shape, tensor.size()}\")\n",
        "print(f\"Device of tensor: {tensor.device}\")"
      ],
      "metadata": {
        "id": "MlRNM5t4Lf1k",
        "outputId": "7aca1a46-fc55-4fa3-8a2d-efbd3bc79f76",
        "colab": {
          "base_uri": "https://localhost:8080/"
        }
      },
      "id": "MlRNM5t4Lf1k",
      "execution_count": 88,
      "outputs": [
        {
          "output_type": "stream",
          "name": "stdout",
          "text": [
            "Datatype of tensor: torch.float32\n",
            "Shape of tensor: (torch.Size([3, 4]), torch.Size([3, 4]))\n",
            "Device of tensor: cpu\n"
          ]
        }
      ]
    },
    {
      "cell_type": "markdown",
      "source": [
        "## Manipulating Tensors (tensor operations)\n",
        "\n",
        "Tensor operations include:\n",
        "1. +\n",
        "2. -\n",
        "3. *\n",
        "4. /\n",
        "5. Matrix multiplications"
      ],
      "metadata": {
        "id": "-B_0s1SDL9ZC"
      },
      "id": "-B_0s1SDL9ZC"
    },
    {
      "cell_type": "code",
      "source": [
        "tensor = torch.tensor([1,2,3])\n",
        "\n",
        "# Addition\n",
        "tensor + 10"
      ],
      "metadata": {
        "id": "MadWI__kMUPM",
        "outputId": "1ebf1e5d-3b73-4243-aefc-ce5dc87257c3",
        "colab": {
          "base_uri": "https://localhost:8080/"
        }
      },
      "id": "MadWI__kMUPM",
      "execution_count": 89,
      "outputs": [
        {
          "output_type": "execute_result",
          "data": {
            "text/plain": [
              "tensor([11, 12, 13])"
            ]
          },
          "metadata": {},
          "execution_count": 89
        }
      ]
    },
    {
      "cell_type": "code",
      "source": [
        "# Multiply\n",
        "tensor * 10"
      ],
      "metadata": {
        "id": "uElfpGswMxuK",
        "outputId": "607b5ff7-9ec7-4c7f-fc0a-92ca18144f65",
        "colab": {
          "base_uri": "https://localhost:8080/"
        }
      },
      "id": "uElfpGswMxuK",
      "execution_count": 90,
      "outputs": [
        {
          "output_type": "execute_result",
          "data": {
            "text/plain": [
              "tensor([10, 20, 30])"
            ]
          },
          "metadata": {},
          "execution_count": 90
        }
      ]
    },
    {
      "cell_type": "code",
      "source": [
        "# Subtraction\n",
        "tensor - 10"
      ],
      "metadata": {
        "id": "hNQu-pR3M4ne",
        "outputId": "79a2b70d-0216-455e-f4e7-f2ce8b25a541",
        "colab": {
          "base_uri": "https://localhost:8080/"
        }
      },
      "id": "hNQu-pR3M4ne",
      "execution_count": 91,
      "outputs": [
        {
          "output_type": "execute_result",
          "data": {
            "text/plain": [
              "tensor([-9, -8, -7])"
            ]
          },
          "metadata": {},
          "execution_count": 91
        }
      ]
    },
    {
      "cell_type": "code",
      "source": [
        "# Division\n",
        "tensor / 10"
      ],
      "metadata": {
        "id": "Q3o_VuYqNaBd",
        "outputId": "2d2e6c34-110c-4fd4-a728-df1ad507d593",
        "colab": {
          "base_uri": "https://localhost:8080/"
        }
      },
      "id": "Q3o_VuYqNaBd",
      "execution_count": 92,
      "outputs": [
        {
          "output_type": "execute_result",
          "data": {
            "text/plain": [
              "tensor([0.1000, 0.2000, 0.3000])"
            ]
          },
          "metadata": {},
          "execution_count": 92
        }
      ]
    },
    {
      "cell_type": "code",
      "source": [
        "# Buildup functions\n",
        "tensor.add(10), tensor.sub(10), tensor.mul(10), tensor.div(10)"
      ],
      "metadata": {
        "id": "4SVVsHOoNCkJ",
        "outputId": "4de7e07f-115a-417e-ace2-9d29e8e693af",
        "colab": {
          "base_uri": "https://localhost:8080/"
        }
      },
      "id": "4SVVsHOoNCkJ",
      "execution_count": 93,
      "outputs": [
        {
          "output_type": "execute_result",
          "data": {
            "text/plain": [
              "(tensor([11, 12, 13]),\n",
              " tensor([-9, -8, -7]),\n",
              " tensor([10, 20, 30]),\n",
              " tensor([0.1000, 0.2000, 0.3000]))"
            ]
          },
          "metadata": {},
          "execution_count": 93
        }
      ]
    },
    {
      "cell_type": "code",
      "source": [
        "# Matric multiplion\n",
        "# 2 Ways"
      ],
      "metadata": {
        "id": "ylXQexriNHfq"
      },
      "id": "ylXQexriNHfq",
      "execution_count": 94,
      "outputs": []
    },
    {
      "cell_type": "code",
      "source": [
        "# 1. Elemento-wise multiplication\n",
        "\n",
        "print(tensor, \"*\", tensor)\n",
        "print(\"Equals: \", tensor * tensor)"
      ],
      "metadata": {
        "id": "VkyoZgSkNoPx",
        "outputId": "2891e26e-7099-41dc-db55-6b9d7dd689c1",
        "colab": {
          "base_uri": "https://localhost:8080/"
        }
      },
      "id": "VkyoZgSkNoPx",
      "execution_count": 95,
      "outputs": [
        {
          "output_type": "stream",
          "name": "stdout",
          "text": [
            "tensor([1, 2, 3]) * tensor([1, 2, 3])\n",
            "Equals:  tensor([1, 4, 9])\n"
          ]
        }
      ]
    },
    {
      "cell_type": "code",
      "source": [
        "# 2. Matrix multiplication\n",
        "torch.matmul(tensor, tensor)"
      ],
      "metadata": {
        "id": "Ev_iLeJyOFHU",
        "outputId": "bc8f2804-0815-4ed1-8b1d-1bf6f8ce6bcc",
        "colab": {
          "base_uri": "https://localhost:8080/"
        }
      },
      "id": "Ev_iLeJyOFHU",
      "execution_count": 96,
      "outputs": [
        {
          "output_type": "execute_result",
          "data": {
            "text/plain": [
              "tensor(14)"
            ]
          },
          "metadata": {},
          "execution_count": 96
        }
      ]
    },
    {
      "cell_type": "code",
      "source": [
        "%%time\n",
        "values = 0\n",
        "for i in range(len(tensor)):\n",
        "  values += tensor[i] * tensor[i]\n",
        "values"
      ],
      "metadata": {
        "id": "SSyAcH73Omhj",
        "outputId": "1548f9a9-f508-44e2-bb5d-a88356162111",
        "colab": {
          "base_uri": "https://localhost:8080/"
        }
      },
      "id": "SSyAcH73Omhj",
      "execution_count": 97,
      "outputs": [
        {
          "output_type": "stream",
          "name": "stdout",
          "text": [
            "CPU times: user 746 µs, sys: 0 ns, total: 746 µs\n",
            "Wall time: 668 µs\n"
          ]
        },
        {
          "output_type": "execute_result",
          "data": {
            "text/plain": [
              "tensor(14)"
            ]
          },
          "metadata": {},
          "execution_count": 97
        }
      ]
    },
    {
      "cell_type": "code",
      "source": [
        "%%time\n",
        "torch.matmul(tensor, tensor)"
      ],
      "metadata": {
        "id": "pSIzZceAPRQD",
        "outputId": "519afe0a-a94d-4976-efb7-cef5dd1268d0",
        "colab": {
          "base_uri": "https://localhost:8080/"
        }
      },
      "id": "pSIzZceAPRQD",
      "execution_count": 98,
      "outputs": [
        {
          "output_type": "stream",
          "name": "stdout",
          "text": [
            "CPU times: user 33 µs, sys: 0 ns, total: 33 µs\n",
            "Wall time: 37.7 µs\n"
          ]
        },
        {
          "output_type": "execute_result",
          "data": {
            "text/plain": [
              "tensor(14)"
            ]
          },
          "metadata": {},
          "execution_count": 98
        }
      ]
    },
    {
      "cell_type": "markdown",
      "source": [
        "### Rules in Matrix multiplication\n",
        "\n",
        "1. The **inner dimensions** must match:\n",
        "  * `(3,2) @ (3,2)` wont work\n",
        "  * `(2,3) @ (3,2)` will work\n",
        "  * `(3,2) @ (2,3)` will work\n",
        "\n",
        "2. The result matrix has the shape of the **outter dimensions**:\n",
        "  * `(2,3) @ (3,2) -> (2,2) `\n",
        "  * `(2,3) @ (3,4) -> (2,4)`"
      ],
      "metadata": {
        "id": "LorhIBLHPbsP"
      },
      "id": "LorhIBLHPbsP"
    },
    {
      "cell_type": "code",
      "source": [
        "torch.matmul(torch.rand(2,3), torch.rand(3,2))"
      ],
      "metadata": {
        "id": "KZLiwuZHgfb1",
        "outputId": "e9dcac7d-7520-42fd-dec9-b172a856545a",
        "colab": {
          "base_uri": "https://localhost:8080/"
        }
      },
      "id": "KZLiwuZHgfb1",
      "execution_count": 99,
      "outputs": [
        {
          "output_type": "execute_result",
          "data": {
            "text/plain": [
              "tensor([[1.6469, 1.2439],\n",
              "        [0.8574, 0.6644]])"
            ]
          },
          "metadata": {},
          "execution_count": 99
        }
      ]
    },
    {
      "cell_type": "code",
      "source": [
        "torch.matmul(torch.rand(3,2), torch.rand(2,3))"
      ],
      "metadata": {
        "id": "JCjRJrtThYdE",
        "outputId": "e6d2a7c7-9f16-4ef2-9e2c-5588b311d5cd",
        "colab": {
          "base_uri": "https://localhost:8080/"
        }
      },
      "id": "JCjRJrtThYdE",
      "execution_count": 100,
      "outputs": [
        {
          "output_type": "execute_result",
          "data": {
            "text/plain": [
              "tensor([[0.7250, 0.4446, 0.2530],\n",
              "        [0.9086, 0.5853, 0.3576],\n",
              "        [0.3753, 0.2223, 0.1196]])"
            ]
          },
          "metadata": {},
          "execution_count": 100
        }
      ]
    },
    {
      "cell_type": "markdown",
      "source": [
        "### One of the most common errors in deep learning"
      ],
      "metadata": {
        "id": "Vfvddrd0iWdK"
      },
      "id": "Vfvddrd0iWdK"
    },
    {
      "cell_type": "code",
      "source": [
        "tensor_A = torch.tensor([[1,2],\n",
        "                         [3,4],\n",
        "                         [5,6]])\n",
        "\n",
        "tensor_B = torch.tensor([[7,8],\n",
        "                         [9,10],\n",
        "                         [11,12]])\n",
        "# matmul wont work"
      ],
      "metadata": {
        "id": "7ZdjYE3rjEzg"
      },
      "id": "7ZdjYE3rjEzg",
      "execution_count": 101,
      "outputs": []
    },
    {
      "cell_type": "code",
      "source": [
        "# To fix this we can **Transpose**\n",
        "\n",
        "tensor_B = tensor_B.T\n",
        "tensor_B"
      ],
      "metadata": {
        "id": "98DJIyuEjbLS",
        "outputId": "21b588f7-bf3c-4188-d009-866632146a73",
        "colab": {
          "base_uri": "https://localhost:8080/"
        }
      },
      "id": "98DJIyuEjbLS",
      "execution_count": 102,
      "outputs": [
        {
          "output_type": "execute_result",
          "data": {
            "text/plain": [
              "tensor([[ 7,  9, 11],\n",
              "        [ 8, 10, 12]])"
            ]
          },
          "metadata": {},
          "execution_count": 102
        }
      ]
    },
    {
      "cell_type": "code",
      "source": [
        "torch.mm(tensor_A, tensor_B)"
      ],
      "metadata": {
        "id": "qZPBo-4Gj3N-",
        "outputId": "0e787148-b662-4cc3-f237-3d7fd01de62d",
        "colab": {
          "base_uri": "https://localhost:8080/"
        }
      },
      "id": "qZPBo-4Gj3N-",
      "execution_count": 103,
      "outputs": [
        {
          "output_type": "execute_result",
          "data": {
            "text/plain": [
              "tensor([[ 23,  29,  35],\n",
              "        [ 53,  67,  81],\n",
              "        [ 83, 105, 127]])"
            ]
          },
          "metadata": {},
          "execution_count": 103
        }
      ]
    },
    {
      "cell_type": "markdown",
      "source": [
        "## Finde the min, max, mean, sum, etc"
      ],
      "metadata": {
        "id": "mn36IMfxkGg8"
      },
      "id": "mn36IMfxkGg8"
    },
    {
      "cell_type": "code",
      "source": [
        "x = torch.arange(0, 100, 10)\n",
        "x, x.dtype"
      ],
      "metadata": {
        "id": "44IxTsYvltBv",
        "outputId": "56f746bc-8379-4ab8-dde7-d4c25f984196",
        "colab": {
          "base_uri": "https://localhost:8080/"
        }
      },
      "id": "44IxTsYvltBv",
      "execution_count": 104,
      "outputs": [
        {
          "output_type": "execute_result",
          "data": {
            "text/plain": [
              "(tensor([ 0, 10, 20, 30, 40, 50, 60, 70, 80, 90]), torch.int64)"
            ]
          },
          "metadata": {},
          "execution_count": 104
        }
      ]
    },
    {
      "cell_type": "code",
      "source": [
        "# Min\n",
        "x.min(), torch.min(x)"
      ],
      "metadata": {
        "id": "T2Ha4jM5lzvA",
        "outputId": "5251f702-431b-4954-d0d8-62b43ce2343f",
        "colab": {
          "base_uri": "https://localhost:8080/"
        }
      },
      "id": "T2Ha4jM5lzvA",
      "execution_count": 105,
      "outputs": [
        {
          "output_type": "execute_result",
          "data": {
            "text/plain": [
              "(tensor(0), tensor(0))"
            ]
          },
          "metadata": {},
          "execution_count": 105
        }
      ]
    },
    {
      "cell_type": "code",
      "source": [
        "# Max\n",
        "x.max(), torch.max(x)"
      ],
      "metadata": {
        "id": "fl5xeQ6Dl5k0",
        "outputId": "be0fbe92-3326-4350-8884-df633df998f4",
        "colab": {
          "base_uri": "https://localhost:8080/"
        }
      },
      "id": "fl5xeQ6Dl5k0",
      "execution_count": 106,
      "outputs": [
        {
          "output_type": "execute_result",
          "data": {
            "text/plain": [
              "(tensor(90), tensor(90))"
            ]
          },
          "metadata": {},
          "execution_count": 106
        }
      ]
    },
    {
      "cell_type": "code",
      "source": [
        "# Mean\n",
        "# note: necesita tensors de tipo float o complex\n",
        "x.type(torch.float32).mean(), torch.mean(x.type(torch.float32))"
      ],
      "metadata": {
        "id": "NDKGGUE9mEQp",
        "outputId": "51db30f0-7215-409e-f713-c3eb27109834",
        "colab": {
          "base_uri": "https://localhost:8080/"
        }
      },
      "id": "NDKGGUE9mEQp",
      "execution_count": 107,
      "outputs": [
        {
          "output_type": "execute_result",
          "data": {
            "text/plain": [
              "(tensor(45.), tensor(45.))"
            ]
          },
          "metadata": {},
          "execution_count": 107
        }
      ]
    },
    {
      "cell_type": "code",
      "source": [
        "# Sum\n",
        "x.sum(), torch.sum(x)"
      ],
      "metadata": {
        "id": "p0TqNCcfmQmJ",
        "outputId": "3da4baf1-5afc-4226-8198-88c5bbca52f2",
        "colab": {
          "base_uri": "https://localhost:8080/"
        }
      },
      "id": "p0TqNCcfmQmJ",
      "execution_count": 108,
      "outputs": [
        {
          "output_type": "execute_result",
          "data": {
            "text/plain": [
              "(tensor(450), tensor(450))"
            ]
          },
          "metadata": {},
          "execution_count": 108
        }
      ]
    },
    {
      "cell_type": "code",
      "source": [
        "# Find the positional min and max\n",
        "\n",
        "x.argmax(), x.argmin()"
      ],
      "metadata": {
        "id": "cwQunxnAnRI8",
        "outputId": "b131730d-9a0d-4a41-b9b8-1e33ab6e1b33",
        "colab": {
          "base_uri": "https://localhost:8080/"
        }
      },
      "id": "cwQunxnAnRI8",
      "execution_count": 109,
      "outputs": [
        {
          "output_type": "execute_result",
          "data": {
            "text/plain": [
              "(tensor(9), tensor(0))"
            ]
          },
          "metadata": {},
          "execution_count": 109
        }
      ]
    },
    {
      "cell_type": "markdown",
      "source": [
        "## Reshaping, stacking, squeezing and unsqueezing tensors\n",
        "\n",
        "* Reshaping - reshapes an input tensor to a defined shape\n",
        "* View - Return a view of an input tensor of certain shape but keep the same memory as the original tensor\n",
        "* Stacking - combine multiple tensor on top of each other (vstack) or side to side (hstack)\n",
        "* Squeeze - removes all `1` dimensions from a tensor\n",
        "* Unsqueeze - add a `1` dimension to a target tensor\n",
        "* Permute - return a view of the input wirh dimensions permuted (swapperd) in a certain way"
      ],
      "metadata": {
        "id": "nWGl9VDbn38I"
      },
      "id": "nWGl9VDbn38I"
    },
    {
      "cell_type": "code",
      "source": [
        "x = torch.arange(1, 10)\n",
        "x, x.shape"
      ],
      "metadata": {
        "id": "7x7Esk6HpsvY",
        "outputId": "e28003ee-ba3b-4836-f3b2-340b6d7c7c81",
        "colab": {
          "base_uri": "https://localhost:8080/"
        }
      },
      "id": "7x7Esk6HpsvY",
      "execution_count": 139,
      "outputs": [
        {
          "output_type": "execute_result",
          "data": {
            "text/plain": [
              "(tensor([1, 2, 3, 4, 5, 6, 7, 8, 9]), torch.Size([9]))"
            ]
          },
          "metadata": {},
          "execution_count": 139
        }
      ]
    },
    {
      "cell_type": "code",
      "source": [
        "# Add an extra dimension\n",
        "x_reshaped = x.reshape(9,1)\n",
        "x_reshaped, x_reshaped.shape"
      ],
      "metadata": {
        "id": "vSL7RvnQp0ia",
        "outputId": "f6bafa69-cea0-4c60-db11-1bcf426b8399",
        "colab": {
          "base_uri": "https://localhost:8080/"
        }
      },
      "id": "vSL7RvnQp0ia",
      "execution_count": 140,
      "outputs": [
        {
          "output_type": "execute_result",
          "data": {
            "text/plain": [
              "(tensor([[1],\n",
              "         [2],\n",
              "         [3],\n",
              "         [4],\n",
              "         [5],\n",
              "         [6],\n",
              "         [7],\n",
              "         [8],\n",
              "         [9]]),\n",
              " torch.Size([9, 1]))"
            ]
          },
          "metadata": {},
          "execution_count": 140
        }
      ]
    },
    {
      "cell_type": "code",
      "source": [
        "# Change the view - maintains the original shape\n",
        "z = x.view(9,1)\n",
        "z, z.shape, x, x.shape"
      ],
      "metadata": {
        "id": "UJ0SDKmwqGUX",
        "outputId": "41b9116f-d365-43b4-fb94-7996e4355bf0",
        "colab": {
          "base_uri": "https://localhost:8080/"
        }
      },
      "id": "UJ0SDKmwqGUX",
      "execution_count": 141,
      "outputs": [
        {
          "output_type": "execute_result",
          "data": {
            "text/plain": [
              "(tensor([[1],\n",
              "         [2],\n",
              "         [3],\n",
              "         [4],\n",
              "         [5],\n",
              "         [6],\n",
              "         [7],\n",
              "         [8],\n",
              "         [9]]),\n",
              " torch.Size([9, 1]),\n",
              " tensor([1, 2, 3, 4, 5, 6, 7, 8, 9]),\n",
              " torch.Size([9]))"
            ]
          },
          "metadata": {},
          "execution_count": 141
        }
      ]
    },
    {
      "cell_type": "code",
      "source": [
        "z[0] = 5\n",
        "z, x"
      ],
      "metadata": {
        "id": "1AkfUYhfrDK9",
        "outputId": "91fbac46-270d-4ebd-a8b6-e0f50d4cc75a",
        "colab": {
          "base_uri": "https://localhost:8080/"
        }
      },
      "id": "1AkfUYhfrDK9",
      "execution_count": 142,
      "outputs": [
        {
          "output_type": "execute_result",
          "data": {
            "text/plain": [
              "(tensor([[5],\n",
              "         [2],\n",
              "         [3],\n",
              "         [4],\n",
              "         [5],\n",
              "         [6],\n",
              "         [7],\n",
              "         [8],\n",
              "         [9]]),\n",
              " tensor([5, 2, 3, 4, 5, 6, 7, 8, 9]))"
            ]
          },
          "metadata": {},
          "execution_count": 142
        }
      ]
    },
    {
      "cell_type": "code",
      "source": [
        "#Stack on top (vshape)\n",
        "x_stacked = torch.stack([x,x,x,x], dim=0)\n",
        "x_stacked, x_stacked.shape"
      ],
      "metadata": {
        "id": "qCFRkTnYrbXQ",
        "outputId": "5db84245-5346-418a-dd4c-286a5d6b60ff",
        "colab": {
          "base_uri": "https://localhost:8080/"
        }
      },
      "id": "qCFRkTnYrbXQ",
      "execution_count": 147,
      "outputs": [
        {
          "output_type": "execute_result",
          "data": {
            "text/plain": [
              "(tensor([[5, 2, 3, 4, 5, 6, 7, 8, 9],\n",
              "         [5, 2, 3, 4, 5, 6, 7, 8, 9],\n",
              "         [5, 2, 3, 4, 5, 6, 7, 8, 9],\n",
              "         [5, 2, 3, 4, 5, 6, 7, 8, 9]]),\n",
              " torch.Size([4, 9]))"
            ]
          },
          "metadata": {},
          "execution_count": 147
        }
      ]
    },
    {
      "cell_type": "code",
      "source": [
        "#Stack on side (hshape)\n",
        "x_stacked = torch.stack([x,x,x,x], dim=1)\n",
        "x_stacked, x_stacked.shape"
      ],
      "metadata": {
        "id": "Gu2cm_tLr09-",
        "outputId": "ea2c0cb4-75e3-42f8-b27b-2a40d3dcb0b3",
        "colab": {
          "base_uri": "https://localhost:8080/"
        }
      },
      "id": "Gu2cm_tLr09-",
      "execution_count": 148,
      "outputs": [
        {
          "output_type": "execute_result",
          "data": {
            "text/plain": [
              "(tensor([[5, 5, 5, 5],\n",
              "         [2, 2, 2, 2],\n",
              "         [3, 3, 3, 3],\n",
              "         [4, 4, 4, 4],\n",
              "         [5, 5, 5, 5],\n",
              "         [6, 6, 6, 6],\n",
              "         [7, 7, 7, 7],\n",
              "         [8, 8, 8, 8],\n",
              "         [9, 9, 9, 9]]),\n",
              " torch.Size([9, 4]))"
            ]
          },
          "metadata": {},
          "execution_count": 148
        }
      ]
    },
    {
      "cell_type": "code",
      "source": [
        "# Squeeze\n",
        "x_squeezed = torch.squeeze(torch.zeros(1,9))\n",
        "x_squeezed, x_squeezed.shape"
      ],
      "metadata": {
        "id": "8X9ofu_csNlf",
        "outputId": "014b0c67-5685-40f2-8529-306ce565c617",
        "colab": {
          "base_uri": "https://localhost:8080/"
        }
      },
      "id": "8X9ofu_csNlf",
      "execution_count": 154,
      "outputs": [
        {
          "output_type": "execute_result",
          "data": {
            "text/plain": [
              "(tensor([0., 0., 0., 0., 0., 0., 0., 0., 0.]), torch.Size([9]))"
            ]
          },
          "metadata": {},
          "execution_count": 154
        }
      ]
    },
    {
      "cell_type": "code",
      "source": [
        "# Unsqueeze\n",
        "x_squeezed = torch.unsqueeze(torch.zeros(1, 9), 2)\n",
        "x_squeezed, x_squeezed.shape"
      ],
      "metadata": {
        "id": "yceWgZbysnou",
        "outputId": "4b1637cc-82f3-4a0c-c515-349d0e6321d2",
        "colab": {
          "base_uri": "https://localhost:8080/"
        }
      },
      "id": "yceWgZbysnou",
      "execution_count": 168,
      "outputs": [
        {
          "output_type": "execute_result",
          "data": {
            "text/plain": [
              "(tensor([[[0.],\n",
              "          [0.],\n",
              "          [0.],\n",
              "          [0.],\n",
              "          [0.],\n",
              "          [0.],\n",
              "          [0.],\n",
              "          [0.],\n",
              "          [0.]]]),\n",
              " torch.Size([1, 9, 1]))"
            ]
          },
          "metadata": {},
          "execution_count": 168
        }
      ]
    },
    {
      "cell_type": "code",
      "source": [
        "# Permute\n",
        "x = torch.rand(224, 10, 3)\n",
        "x.shape"
      ],
      "metadata": {
        "id": "LVWwrIPN1mYQ",
        "outputId": "eba76a10-a31f-4cb5-a8b5-a3df12fa2d40",
        "colab": {
          "base_uri": "https://localhost:8080/"
        }
      },
      "id": "LVWwrIPN1mYQ",
      "execution_count": 176,
      "outputs": [
        {
          "output_type": "execute_result",
          "data": {
            "text/plain": [
              "torch.Size([224, 10, 3])"
            ]
          },
          "metadata": {},
          "execution_count": 176
        }
      ]
    },
    {
      "cell_type": "code",
      "source": [
        "x_permuted = x.permute(2, 0, 1) # -> 2 to 0, 0 to 1 and 1 to 2\n",
        "x_permuted.shape"
      ],
      "metadata": {
        "id": "pB-Tybm_2Jk0",
        "outputId": "6bf5e14c-2a88-44af-9ffc-2c1887328aa8",
        "colab": {
          "base_uri": "https://localhost:8080/"
        }
      },
      "id": "pB-Tybm_2Jk0",
      "execution_count": 177,
      "outputs": [
        {
          "output_type": "execute_result",
          "data": {
            "text/plain": [
              "torch.Size([3, 224, 10])"
            ]
          },
          "metadata": {},
          "execution_count": 177
        }
      ]
    },
    {
      "cell_type": "code",
      "source": [
        "x[1, 0, 0] = 10000\n",
        "x[1, 0, 0], x_permuted[0, 1, 0]"
      ],
      "metadata": {
        "id": "XCFbXFgj2lqQ",
        "outputId": "1ec5d0be-0526-4cef-c35a-ff58e36c03d8",
        "colab": {
          "base_uri": "https://localhost:8080/"
        }
      },
      "id": "XCFbXFgj2lqQ",
      "execution_count": 183,
      "outputs": [
        {
          "output_type": "execute_result",
          "data": {
            "text/plain": [
              "(tensor(10000.), tensor(10000.))"
            ]
          },
          "metadata": {},
          "execution_count": 183
        }
      ]
    },
    {
      "cell_type": "code",
      "source": [],
      "metadata": {
        "id": "x-Dt6wtw3HVN"
      },
      "id": "x-Dt6wtw3HVN",
      "execution_count": null,
      "outputs": []
    }
  ],
  "metadata": {
    "kernelspec": {
      "display_name": "Python 3",
      "name": "python3"
    },
    "language_info": {
      "codemirror_mode": {
        "name": "ipython",
        "version": 3
      },
      "file_extension": ".py",
      "mimetype": "text/x-python",
      "name": "python",
      "nbconvert_exporter": "python",
      "pygments_lexer": "ipython3",
      "version": "3.12.7"
    },
    "colab": {
      "provenance": [],
      "gpuType": "T4"
    },
    "accelerator": "GPU"
  },
  "nbformat": 4,
  "nbformat_minor": 5
}