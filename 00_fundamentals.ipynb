{
  "cells": [
    {
      "cell_type": "code",
      "source": [
        "import torch\n",
        "import pandas as pd\n",
        "import numpy as np\n",
        "import matplotlib.pyplot as plt\n"
      ],
      "metadata": {
        "id": "udJhs70oGwEC"
      },
      "id": "udJhs70oGwEC",
      "execution_count": 1,
      "outputs": []
    },
    {
      "cell_type": "markdown",
      "source": [
        "## Introduccion a Tensors\n"
      ],
      "metadata": {
        "id": "amDHl5HGHM2e"
      },
      "id": "amDHl5HGHM2e"
    },
    {
      "cell_type": "code",
      "source": [
        "\n",
        "#scalar\n",
        "scalar = torch.tensor(7)\n",
        "scalar #Objeto tipo tensor"
      ],
      "metadata": {
        "id": "-wuwgPImMImj",
        "outputId": "ded8fac9-a343-4590-b30f-f6e50cff6e44",
        "colab": {
          "base_uri": "https://localhost:8080/"
        }
      },
      "id": "-wuwgPImMImj",
      "execution_count": 2,
      "outputs": [
        {
          "output_type": "execute_result",
          "data": {
            "text/plain": [
              "tensor(7)"
            ]
          },
          "metadata": {},
          "execution_count": 2
        }
      ]
    },
    {
      "cell_type": "code",
      "source": [
        "scalar.ndim #Devuelve las dimensiones del tensor"
      ],
      "metadata": {
        "colab": {
          "base_uri": "https://localhost:8080/"
        },
        "id": "NUMFbnaDIBJ8",
        "outputId": "74b30ae0-1068-48e5-aa1f-c421bf33099b"
      },
      "id": "NUMFbnaDIBJ8",
      "execution_count": 3,
      "outputs": [
        {
          "output_type": "execute_result",
          "data": {
            "text/plain": [
              "0"
            ]
          },
          "metadata": {},
          "execution_count": 3
        }
      ]
    },
    {
      "cell_type": "code",
      "source": [
        "scalar.item() #Devuelve el elementos como integer"
      ],
      "metadata": {
        "colab": {
          "base_uri": "https://localhost:8080/"
        },
        "id": "5xexH461ItpQ",
        "outputId": "5a61547b-df41-4de3-fd70-39a25118c4f8"
      },
      "id": "5xexH461ItpQ",
      "execution_count": 4,
      "outputs": [
        {
          "output_type": "execute_result",
          "data": {
            "text/plain": [
              "7"
            ]
          },
          "metadata": {},
          "execution_count": 4
        }
      ]
    },
    {
      "cell_type": "code",
      "source": [
        "# Vector\n",
        "vector = torch.tensor([7,7])\n",
        "vector"
      ],
      "metadata": {
        "colab": {
          "base_uri": "https://localhost:8080/"
        },
        "id": "d9mnk5IcIwrT",
        "outputId": "c08943f3-ddd6-4f1c-aa6d-58250da1932e"
      },
      "id": "d9mnk5IcIwrT",
      "execution_count": 5,
      "outputs": [
        {
          "output_type": "execute_result",
          "data": {
            "text/plain": [
              "tensor([7, 7])"
            ]
          },
          "metadata": {},
          "execution_count": 5
        }
      ]
    },
    {
      "cell_type": "code",
      "source": [
        "vector.ndim"
      ],
      "metadata": {
        "colab": {
          "base_uri": "https://localhost:8080/"
        },
        "id": "7Ll4ecvGJBfT",
        "outputId": "9c00e6d0-603d-4daf-869c-f22c7e13c247"
      },
      "id": "7Ll4ecvGJBfT",
      "execution_count": 6,
      "outputs": [
        {
          "output_type": "execute_result",
          "data": {
            "text/plain": [
              "1"
            ]
          },
          "metadata": {},
          "execution_count": 6
        }
      ]
    },
    {
      "cell_type": "code",
      "source": [
        "vector.shape"
      ],
      "metadata": {
        "colab": {
          "base_uri": "https://localhost:8080/"
        },
        "id": "vVE7A-VnJN5Z",
        "outputId": "a9e72aa5-4bc3-4ffe-de90-13fa5de0883a"
      },
      "id": "vVE7A-VnJN5Z",
      "execution_count": 7,
      "outputs": [
        {
          "output_type": "execute_result",
          "data": {
            "text/plain": [
              "torch.Size([2])"
            ]
          },
          "metadata": {},
          "execution_count": 7
        }
      ]
    },
    {
      "cell_type": "code",
      "source": [
        "# Matrix\n",
        "MATRIX = torch.tensor([[7,7],\n",
        "                      [8,8]])\n",
        "MATRIX"
      ],
      "metadata": {
        "colab": {
          "base_uri": "https://localhost:8080/"
        },
        "id": "ljaNJxkuJS6n",
        "outputId": "83285079-fefa-4069-be80-31dee7eaacb6"
      },
      "id": "ljaNJxkuJS6n",
      "execution_count": 8,
      "outputs": [
        {
          "output_type": "execute_result",
          "data": {
            "text/plain": [
              "tensor([[7, 7],\n",
              "        [8, 8]])"
            ]
          },
          "metadata": {},
          "execution_count": 8
        }
      ]
    },
    {
      "cell_type": "code",
      "source": [
        "MATRIX.ndim"
      ],
      "metadata": {
        "colab": {
          "base_uri": "https://localhost:8080/"
        },
        "id": "KB5MAZOfJffD",
        "outputId": "7e93317f-25ef-4fdb-a9e2-92008a7287b7"
      },
      "id": "KB5MAZOfJffD",
      "execution_count": 9,
      "outputs": [
        {
          "output_type": "execute_result",
          "data": {
            "text/plain": [
              "2"
            ]
          },
          "metadata": {},
          "execution_count": 9
        }
      ]
    },
    {
      "cell_type": "code",
      "source": [
        "MATRIX[0]"
      ],
      "metadata": {
        "colab": {
          "base_uri": "https://localhost:8080/"
        },
        "id": "gLREUAcXJmDz",
        "outputId": "6966da48-f2f3-4dd7-c723-51c86a6d183c"
      },
      "id": "gLREUAcXJmDz",
      "execution_count": 10,
      "outputs": [
        {
          "output_type": "execute_result",
          "data": {
            "text/plain": [
              "tensor([7, 7])"
            ]
          },
          "metadata": {},
          "execution_count": 10
        }
      ]
    },
    {
      "cell_type": "code",
      "source": [
        "# Tensor\n",
        "TENSOR = torch.tensor([[[1,2,3],\n",
        "                      [4,5,6],\n",
        "                      [7,8,9]]])\n",
        "TENSOR"
      ],
      "metadata": {
        "colab": {
          "base_uri": "https://localhost:8080/"
        },
        "id": "5Jio9FIlJ1Xc",
        "outputId": "cf063822-8236-48f2-a775-b0fbd1c37f34"
      },
      "id": "5Jio9FIlJ1Xc",
      "execution_count": 11,
      "outputs": [
        {
          "output_type": "execute_result",
          "data": {
            "text/plain": [
              "tensor([[[1, 2, 3],\n",
              "         [4, 5, 6],\n",
              "         [7, 8, 9]]])"
            ]
          },
          "metadata": {},
          "execution_count": 11
        }
      ]
    },
    {
      "cell_type": "code",
      "source": [
        "TENSOR.ndim"
      ],
      "metadata": {
        "colab": {
          "base_uri": "https://localhost:8080/"
        },
        "id": "lPfdDHpiKGkA",
        "outputId": "b9cc2025-21bf-465e-d9c8-235f76ee1985"
      },
      "id": "lPfdDHpiKGkA",
      "execution_count": 12,
      "outputs": [
        {
          "output_type": "execute_result",
          "data": {
            "text/plain": [
              "3"
            ]
          },
          "metadata": {},
          "execution_count": 12
        }
      ]
    },
    {
      "cell_type": "code",
      "source": [
        "TENSOR.shape"
      ],
      "metadata": {
        "colab": {
          "base_uri": "https://localhost:8080/"
        },
        "id": "cuLNm9OxKaPD",
        "outputId": "c48bdb70-17df-4dba-f813-56f85676f42b"
      },
      "id": "cuLNm9OxKaPD",
      "execution_count": 13,
      "outputs": [
        {
          "output_type": "execute_result",
          "data": {
            "text/plain": [
              "torch.Size([1, 3, 3])"
            ]
          },
          "metadata": {},
          "execution_count": 13
        }
      ]
    },
    {
      "cell_type": "code",
      "source": [
        "TENSOR[0]"
      ],
      "metadata": {
        "colab": {
          "base_uri": "https://localhost:8080/"
        },
        "id": "7VMRzgtCKktt",
        "outputId": "e9bc844c-164d-4047-f213-f66c75943dd7"
      },
      "id": "7VMRzgtCKktt",
      "execution_count": 14,
      "outputs": [
        {
          "output_type": "execute_result",
          "data": {
            "text/plain": [
              "tensor([[1, 2, 3],\n",
              "        [4, 5, 6],\n",
              "        [7, 8, 9]])"
            ]
          },
          "metadata": {},
          "execution_count": 14
        }
      ]
    },
    {
      "cell_type": "code",
      "source": [
        "### LOS TENSORs te devuelven matrices al indexar, las matrices te devuelven vectores y los vectores devuelven scalares"
      ],
      "metadata": {
        "id": "aXnkLeHbKv5_"
      },
      "id": "aXnkLeHbKv5_",
      "execution_count": 15,
      "outputs": []
    },
    {
      "cell_type": "markdown",
      "source": [
        "## Random Tensors\n",
        "\n",
        "`Start with random numbers -> look at data -> update random numbers -> look at data -> update random numbers`"
      ],
      "metadata": {
        "id": "U1sbMNvxK240"
      },
      "id": "U1sbMNvxK240"
    },
    {
      "cell_type": "code",
      "source": [
        "# Create a random tensor of shape/size (3,4)\n",
        "random_tensor = torch.rand(3,4)\n",
        "random_tensor"
      ],
      "metadata": {
        "id": "Yoz5fr0JMDWo",
        "outputId": "c3b7091e-70c8-4902-ffe0-6dedb06fd314",
        "colab": {
          "base_uri": "https://localhost:8080/"
        }
      },
      "id": "Yoz5fr0JMDWo",
      "execution_count": 16,
      "outputs": [
        {
          "output_type": "execute_result",
          "data": {
            "text/plain": [
              "tensor([[0.2709, 0.1517, 0.1516, 0.4662],\n",
              "        [0.8872, 0.4641, 0.6379, 0.9783],\n",
              "        [0.8297, 0.1203, 0.9031, 0.0862]])"
            ]
          },
          "metadata": {},
          "execution_count": 16
        }
      ]
    },
    {
      "cell_type": "code",
      "source": [
        "# Create a random tensor with similar shape to an imagen tensor\n",
        "random_image_size_tensor = torch.rand(size=(224, 224, 3)) # height, width, colour channels (R, G, B)"
      ],
      "metadata": {
        "id": "F_BbF65vNBXk"
      },
      "id": "F_BbF65vNBXk",
      "execution_count": 17,
      "outputs": []
    },
    {
      "cell_type": "markdown",
      "source": [
        "## Zeros and Ones"
      ],
      "metadata": {
        "id": "jAyo-wAaOKu3"
      },
      "id": "jAyo-wAaOKu3"
    },
    {
      "cell_type": "code",
      "source": [
        "### Create a tensor of all zeros\n",
        "zero = torch.zeros(3,4)\n",
        "zero"
      ],
      "metadata": {
        "id": "imrfla7pRR6t",
        "outputId": "0df68a06-86e2-4862-a797-97373e7549d0",
        "colab": {
          "base_uri": "https://localhost:8080/"
        }
      },
      "id": "imrfla7pRR6t",
      "execution_count": 18,
      "outputs": [
        {
          "output_type": "execute_result",
          "data": {
            "text/plain": [
              "tensor([[0., 0., 0., 0.],\n",
              "        [0., 0., 0., 0.],\n",
              "        [0., 0., 0., 0.]])"
            ]
          },
          "metadata": {},
          "execution_count": 18
        }
      ]
    },
    {
      "cell_type": "code",
      "source": [
        "### Create a tensor of all ones\n",
        "ones = torch.ones(3,4)\n",
        "ones"
      ],
      "metadata": {
        "id": "0VxGKo3MRXV9",
        "outputId": "fe3f9396-1942-4c37-fa0e-e269293872af",
        "colab": {
          "base_uri": "https://localhost:8080/"
        }
      },
      "id": "0VxGKo3MRXV9",
      "execution_count": 19,
      "outputs": [
        {
          "output_type": "execute_result",
          "data": {
            "text/plain": [
              "tensor([[1., 1., 1., 1.],\n",
              "        [1., 1., 1., 1.],\n",
              "        [1., 1., 1., 1.]])"
            ]
          },
          "metadata": {},
          "execution_count": 19
        }
      ]
    },
    {
      "cell_type": "code",
      "source": [
        "ones.dtype #Default tensor type"
      ],
      "metadata": {
        "id": "VEyUV7WfQwUE",
        "outputId": "018ab9e6-6ff5-438c-e742-8fe03d41b0dd",
        "colab": {
          "base_uri": "https://localhost:8080/"
        }
      },
      "id": "VEyUV7WfQwUE",
      "execution_count": 20,
      "outputs": [
        {
          "output_type": "execute_result",
          "data": {
            "text/plain": [
              "torch.float32"
            ]
          },
          "metadata": {},
          "execution_count": 20
        }
      ]
    },
    {
      "cell_type": "markdown",
      "source": [
        "## Create a range of tensor and tensors-like"
      ],
      "metadata": {
        "id": "jgkDPcHhRgLx"
      },
      "id": "jgkDPcHhRgLx"
    },
    {
      "cell_type": "code",
      "source": [
        "# Use torch.arange()\n",
        "one_to_ten = torch.arange(0,10)\n",
        "one_to_ten"
      ],
      "metadata": {
        "id": "3MdxGduqSLiX",
        "outputId": "db7c979d-7bac-427b-fb17-b75990982342",
        "colab": {
          "base_uri": "https://localhost:8080/"
        }
      },
      "id": "3MdxGduqSLiX",
      "execution_count": 21,
      "outputs": [
        {
          "output_type": "execute_result",
          "data": {
            "text/plain": [
              "tensor([0, 1, 2, 3, 4, 5, 6, 7, 8, 9])"
            ]
          },
          "metadata": {},
          "execution_count": 21
        }
      ]
    },
    {
      "cell_type": "code",
      "source": [
        "torch.arange(start=0, end=1000, step=33)"
      ],
      "metadata": {
        "id": "_jPuIeWRSSGM",
        "outputId": "e21fcf88-cc2a-40dd-999e-25e189630614",
        "colab": {
          "base_uri": "https://localhost:8080/"
        }
      },
      "id": "_jPuIeWRSSGM",
      "execution_count": 22,
      "outputs": [
        {
          "output_type": "execute_result",
          "data": {
            "text/plain": [
              "tensor([  0,  33,  66,  99, 132, 165, 198, 231, 264, 297, 330, 363, 396, 429,\n",
              "        462, 495, 528, 561, 594, 627, 660, 693, 726, 759, 792, 825, 858, 891,\n",
              "        924, 957, 990])"
            ]
          },
          "metadata": {},
          "execution_count": 22
        }
      ]
    },
    {
      "cell_type": "code",
      "source": [
        "# Creating tensors-like\n",
        "ten_zeros = torch.zeros_like(one_to_ten)\n",
        "ten_zeros"
      ],
      "metadata": {
        "id": "7UYgd0LpSt6V",
        "outputId": "dc23abdf-8b9a-44c1-94c1-f6234df5dc84",
        "colab": {
          "base_uri": "https://localhost:8080/"
        }
      },
      "id": "7UYgd0LpSt6V",
      "execution_count": 23,
      "outputs": [
        {
          "output_type": "execute_result",
          "data": {
            "text/plain": [
              "tensor([0, 0, 0, 0, 0, 0, 0, 0, 0, 0])"
            ]
          },
          "metadata": {},
          "execution_count": 23
        }
      ]
    },
    {
      "cell_type": "markdown",
      "source": [
        "## Tensor Datatypes\n",
        "**Note**: Datatypes is on of the big 3 problems u will run into\n",
        "1. Tensor not right datatypes\n",
        "2. Tensors not right shape\n",
        "3. Tensor not on the right device"
      ],
      "metadata": {
        "id": "0bOgok63HrBk"
      },
      "id": "0bOgok63HrBk"
    },
    {
      "cell_type": "code",
      "source": [
        "# Float 32 tensor\n",
        "float_32_tensor = torch.tensor([3.2, 6.1, 9.3],\n",
        "                               dtype=None,            # What datatype is the tensor (float_32, float_16, ...)\n",
        "                               device=None,           # What device is your tensor on\n",
        "                               requires_grad=False)   # Track the gradiance\n",
        "float_32_tensor"
      ],
      "metadata": {
        "id": "6JsdHefRHqmU",
        "outputId": "29035f7f-1838-4894-e234-a7de85872af6",
        "colab": {
          "base_uri": "https://localhost:8080/"
        }
      },
      "id": "6JsdHefRHqmU",
      "execution_count": 24,
      "outputs": [
        {
          "output_type": "execute_result",
          "data": {
            "text/plain": [
              "tensor([3.2000, 6.1000, 9.3000])"
            ]
          },
          "metadata": {},
          "execution_count": 24
        }
      ]
    },
    {
      "cell_type": "code",
      "source": [
        "float_16_tensor = float_32_tensor.type(torch.float16)\n",
        "float_16_tensor"
      ],
      "metadata": {
        "id": "5UqfcaXiH9S2",
        "outputId": "1e71a4c6-35a8-4828-d874-9f44f557a409",
        "colab": {
          "base_uri": "https://localhost:8080/"
        }
      },
      "id": "5UqfcaXiH9S2",
      "execution_count": 25,
      "outputs": [
        {
          "output_type": "execute_result",
          "data": {
            "text/plain": [
              "tensor([3.1992, 6.1016, 9.2969], dtype=torch.float16)"
            ]
          },
          "metadata": {},
          "execution_count": 25
        }
      ]
    },
    {
      "cell_type": "code",
      "source": [
        "float_16_tensor * float_32_tensor"
      ],
      "metadata": {
        "id": "tY8o735mKECU",
        "outputId": "2bdc44f9-fd5d-4e3e-94ec-4137a0dfc495",
        "colab": {
          "base_uri": "https://localhost:8080/"
        }
      },
      "id": "tY8o735mKECU",
      "execution_count": 26,
      "outputs": [
        {
          "output_type": "execute_result",
          "data": {
            "text/plain": [
              "tensor([10.2375, 37.2195, 86.4609])"
            ]
          },
          "metadata": {},
          "execution_count": 26
        }
      ]
    },
    {
      "cell_type": "markdown",
      "source": [
        "## Getting Information from Tensors (attributes)\n",
        "\n",
        "1. Datatype: tensor:dtype\n",
        "2. Shape: tensor.shape\n",
        "3. Device: tensor-device"
      ],
      "metadata": {
        "id": "UrKs3LcaJ-6k"
      },
      "id": "UrKs3LcaJ-6k"
    },
    {
      "cell_type": "code",
      "source": [
        "tensor = torch.rand(3,4)\n",
        "tensor"
      ],
      "metadata": {
        "id": "xFKU5tIsJ_8F",
        "outputId": "7ae744db-f28c-479d-e65b-f6868be97f7e",
        "colab": {
          "base_uri": "https://localhost:8080/"
        }
      },
      "id": "xFKU5tIsJ_8F",
      "execution_count": 27,
      "outputs": [
        {
          "output_type": "execute_result",
          "data": {
            "text/plain": [
              "tensor([[0.2001, 0.2575, 0.6365, 0.3912],\n",
              "        [0.0112, 0.0897, 0.0432, 0.1998],\n",
              "        [0.4773, 0.0867, 0.4348, 0.4736]])"
            ]
          },
          "metadata": {},
          "execution_count": 27
        }
      ]
    },
    {
      "cell_type": "code",
      "source": [
        "print(f\"Datatype of tensor: {tensor.dtype}\")\n",
        "print(f\"Shape of tensor: {tensor.shape, tensor.size()}\")\n",
        "print(f\"Device of tensor: {tensor.device}\")"
      ],
      "metadata": {
        "id": "MlRNM5t4Lf1k",
        "outputId": "3651fe9b-0745-4fff-eee7-d8dfad8bdebc",
        "colab": {
          "base_uri": "https://localhost:8080/"
        }
      },
      "id": "MlRNM5t4Lf1k",
      "execution_count": 28,
      "outputs": [
        {
          "output_type": "stream",
          "name": "stdout",
          "text": [
            "Datatype of tensor: torch.float32\n",
            "Shape of tensor: (torch.Size([3, 4]), torch.Size([3, 4]))\n",
            "Device of tensor: cpu\n"
          ]
        }
      ]
    },
    {
      "cell_type": "markdown",
      "source": [
        "## Manipulating Tensors (tensor operations)\n",
        "\n",
        "Tensor operations include:\n",
        "1. +\n",
        "2. -\n",
        "3. *\n",
        "4. /\n",
        "5. Matrix multiplications"
      ],
      "metadata": {
        "id": "-B_0s1SDL9ZC"
      },
      "id": "-B_0s1SDL9ZC"
    },
    {
      "cell_type": "code",
      "source": [
        "tensor = torch.tensor([1,2,3])\n",
        "\n",
        "# Addition\n",
        "tensor + 10"
      ],
      "metadata": {
        "id": "MadWI__kMUPM",
        "outputId": "293666e5-e7f8-4e24-d0e9-0bfe4b791e2d",
        "colab": {
          "base_uri": "https://localhost:8080/"
        }
      },
      "id": "MadWI__kMUPM",
      "execution_count": 29,
      "outputs": [
        {
          "output_type": "execute_result",
          "data": {
            "text/plain": [
              "tensor([11, 12, 13])"
            ]
          },
          "metadata": {},
          "execution_count": 29
        }
      ]
    },
    {
      "cell_type": "code",
      "source": [
        "# Multiply\n",
        "tensor * 10"
      ],
      "metadata": {
        "id": "uElfpGswMxuK",
        "outputId": "0eabbdb3-3418-4e48-f0ba-8f6e550200f4",
        "colab": {
          "base_uri": "https://localhost:8080/"
        }
      },
      "id": "uElfpGswMxuK",
      "execution_count": 30,
      "outputs": [
        {
          "output_type": "execute_result",
          "data": {
            "text/plain": [
              "tensor([10, 20, 30])"
            ]
          },
          "metadata": {},
          "execution_count": 30
        }
      ]
    },
    {
      "cell_type": "code",
      "source": [
        "# Subtraction\n",
        "tensor - 10"
      ],
      "metadata": {
        "id": "hNQu-pR3M4ne",
        "outputId": "4451f80c-42a3-4092-c955-21b11885020f",
        "colab": {
          "base_uri": "https://localhost:8080/"
        }
      },
      "id": "hNQu-pR3M4ne",
      "execution_count": 31,
      "outputs": [
        {
          "output_type": "execute_result",
          "data": {
            "text/plain": [
              "tensor([-9, -8, -7])"
            ]
          },
          "metadata": {},
          "execution_count": 31
        }
      ]
    },
    {
      "cell_type": "code",
      "source": [
        "# Division\n",
        "tensor / 10"
      ],
      "metadata": {
        "id": "Q3o_VuYqNaBd",
        "outputId": "82b7d39e-6884-4710-f89b-01bfaae9443a",
        "colab": {
          "base_uri": "https://localhost:8080/"
        }
      },
      "id": "Q3o_VuYqNaBd",
      "execution_count": 32,
      "outputs": [
        {
          "output_type": "execute_result",
          "data": {
            "text/plain": [
              "tensor([0.1000, 0.2000, 0.3000])"
            ]
          },
          "metadata": {},
          "execution_count": 32
        }
      ]
    },
    {
      "cell_type": "code",
      "source": [
        "# Buildup functions\n",
        "tensor.add(10), tensor.sub(10), tensor.mul(10), tensor.div(10)"
      ],
      "metadata": {
        "id": "4SVVsHOoNCkJ",
        "outputId": "d30da92e-e5e7-45a4-bf63-42f956861df2",
        "colab": {
          "base_uri": "https://localhost:8080/"
        }
      },
      "id": "4SVVsHOoNCkJ",
      "execution_count": 33,
      "outputs": [
        {
          "output_type": "execute_result",
          "data": {
            "text/plain": [
              "(tensor([11, 12, 13]),\n",
              " tensor([-9, -8, -7]),\n",
              " tensor([10, 20, 30]),\n",
              " tensor([0.1000, 0.2000, 0.3000]))"
            ]
          },
          "metadata": {},
          "execution_count": 33
        }
      ]
    },
    {
      "cell_type": "code",
      "source": [
        "# Matric multiplion\n",
        "# 2 Ways"
      ],
      "metadata": {
        "id": "ylXQexriNHfq"
      },
      "id": "ylXQexriNHfq",
      "execution_count": 34,
      "outputs": []
    },
    {
      "cell_type": "code",
      "source": [
        "# 1. Elemento-wise multiplication\n",
        "\n",
        "print(tensor, \"*\", tensor)\n",
        "print(\"Equals: \", tensor * tensor)"
      ],
      "metadata": {
        "id": "VkyoZgSkNoPx",
        "outputId": "6481c850-2402-402c-9075-8d9e13856bfc",
        "colab": {
          "base_uri": "https://localhost:8080/"
        }
      },
      "id": "VkyoZgSkNoPx",
      "execution_count": 35,
      "outputs": [
        {
          "output_type": "stream",
          "name": "stdout",
          "text": [
            "tensor([1, 2, 3]) * tensor([1, 2, 3])\n",
            "Equals:  tensor([1, 4, 9])\n"
          ]
        }
      ]
    },
    {
      "cell_type": "code",
      "source": [
        "# 2. Matrix multiplication\n",
        "torch.matmul(tensor, tensor)"
      ],
      "metadata": {
        "id": "Ev_iLeJyOFHU",
        "outputId": "d0cdc203-f7b2-4385-a866-a049b123dda1",
        "colab": {
          "base_uri": "https://localhost:8080/"
        }
      },
      "id": "Ev_iLeJyOFHU",
      "execution_count": 36,
      "outputs": [
        {
          "output_type": "execute_result",
          "data": {
            "text/plain": [
              "tensor(14)"
            ]
          },
          "metadata": {},
          "execution_count": 36
        }
      ]
    },
    {
      "cell_type": "code",
      "source": [
        "%%time\n",
        "values = 0\n",
        "for i in range(len(tensor)):\n",
        "  values += tensor[i] * tensor[i]\n",
        "values"
      ],
      "metadata": {
        "id": "SSyAcH73Omhj",
        "outputId": "c3e18acd-73f7-42d9-ba9e-2509354a1123",
        "colab": {
          "base_uri": "https://localhost:8080/"
        }
      },
      "id": "SSyAcH73Omhj",
      "execution_count": 37,
      "outputs": [
        {
          "output_type": "stream",
          "name": "stdout",
          "text": [
            "CPU times: user 735 µs, sys: 0 ns, total: 735 µs\n",
            "Wall time: 884 µs\n"
          ]
        },
        {
          "output_type": "execute_result",
          "data": {
            "text/plain": [
              "tensor(14)"
            ]
          },
          "metadata": {},
          "execution_count": 37
        }
      ]
    },
    {
      "cell_type": "code",
      "source": [
        "%%time\n",
        "torch.matmul(tensor, tensor)"
      ],
      "metadata": {
        "id": "pSIzZceAPRQD",
        "outputId": "a022660b-d97f-4022-eb01-74554f0f40b5",
        "colab": {
          "base_uri": "https://localhost:8080/"
        }
      },
      "id": "pSIzZceAPRQD",
      "execution_count": 38,
      "outputs": [
        {
          "output_type": "stream",
          "name": "stdout",
          "text": [
            "CPU times: user 35 µs, sys: 6 µs, total: 41 µs\n",
            "Wall time: 45.5 µs\n"
          ]
        },
        {
          "output_type": "execute_result",
          "data": {
            "text/plain": [
              "tensor(14)"
            ]
          },
          "metadata": {},
          "execution_count": 38
        }
      ]
    },
    {
      "cell_type": "markdown",
      "source": [
        "### Rules in Matrix multiplication\n",
        "\n",
        "1. The **inner dimensions** must match:\n",
        "  * `(3,2) @ (3,2)` wont work\n",
        "  * `(2,3) @ (3,2)` will work\n",
        "  * `(3,2) @ (2,3)` will work\n",
        "\n",
        "2. The result matrix has the shape of the **outter dimensions**:\n",
        "  * `(2,3) @ (3,2) -> (2,2) `\n",
        "  * `(2,3) @ (3,4) -> (2,4)`"
      ],
      "metadata": {
        "id": "LorhIBLHPbsP"
      },
      "id": "LorhIBLHPbsP"
    },
    {
      "cell_type": "code",
      "source": [
        "torch.matmul(torch.rand(2,3), torch.rand(3,2))"
      ],
      "metadata": {
        "id": "KZLiwuZHgfb1",
        "outputId": "d7469737-bbad-40b4-edcf-e2e50aeb3df6",
        "colab": {
          "base_uri": "https://localhost:8080/"
        }
      },
      "id": "KZLiwuZHgfb1",
      "execution_count": 39,
      "outputs": [
        {
          "output_type": "execute_result",
          "data": {
            "text/plain": [
              "tensor([[0.1502, 0.1551],\n",
              "        [0.3827, 0.7922]])"
            ]
          },
          "metadata": {},
          "execution_count": 39
        }
      ]
    },
    {
      "cell_type": "code",
      "source": [
        "torch.matmul(torch.rand(3,2), torch.rand(2,3))"
      ],
      "metadata": {
        "id": "JCjRJrtThYdE",
        "outputId": "72e5635e-92fd-453c-f9ba-302f5aae7d75",
        "colab": {
          "base_uri": "https://localhost:8080/"
        }
      },
      "id": "JCjRJrtThYdE",
      "execution_count": 40,
      "outputs": [
        {
          "output_type": "execute_result",
          "data": {
            "text/plain": [
              "tensor([[0.7109, 0.4267, 0.3190],\n",
              "        [0.3320, 0.0596, 0.1003],\n",
              "        [0.2602, 0.3464, 0.1830]])"
            ]
          },
          "metadata": {},
          "execution_count": 40
        }
      ]
    },
    {
      "cell_type": "markdown",
      "source": [
        "### One of the most common errors in deep learning"
      ],
      "metadata": {
        "id": "Vfvddrd0iWdK"
      },
      "id": "Vfvddrd0iWdK"
    },
    {
      "cell_type": "code",
      "source": [
        "tensor_A = torch.tensor([[1,2],\n",
        "                         [3,4],\n",
        "                         [5,6]])\n",
        "\n",
        "tensor_B = torch.tensor([[7,8],\n",
        "                         [9,10],\n",
        "                         [11,12]])\n",
        "# matmul wont work"
      ],
      "metadata": {
        "id": "7ZdjYE3rjEzg"
      },
      "id": "7ZdjYE3rjEzg",
      "execution_count": 41,
      "outputs": []
    },
    {
      "cell_type": "code",
      "source": [
        "# To fix this we can **Transpose**\n",
        "\n",
        "tensor_B = tensor_B.T\n",
        "tensor_B"
      ],
      "metadata": {
        "id": "98DJIyuEjbLS",
        "outputId": "63654310-1a29-4961-a448-a1c21d29d100",
        "colab": {
          "base_uri": "https://localhost:8080/"
        }
      },
      "id": "98DJIyuEjbLS",
      "execution_count": 42,
      "outputs": [
        {
          "output_type": "execute_result",
          "data": {
            "text/plain": [
              "tensor([[ 7,  9, 11],\n",
              "        [ 8, 10, 12]])"
            ]
          },
          "metadata": {},
          "execution_count": 42
        }
      ]
    },
    {
      "cell_type": "code",
      "source": [
        "torch.mm(tensor_A, tensor_B)"
      ],
      "metadata": {
        "id": "qZPBo-4Gj3N-",
        "outputId": "60bba56f-d5d9-485b-a034-b283ce799d63",
        "colab": {
          "base_uri": "https://localhost:8080/"
        }
      },
      "id": "qZPBo-4Gj3N-",
      "execution_count": 43,
      "outputs": [
        {
          "output_type": "execute_result",
          "data": {
            "text/plain": [
              "tensor([[ 23,  29,  35],\n",
              "        [ 53,  67,  81],\n",
              "        [ 83, 105, 127]])"
            ]
          },
          "metadata": {},
          "execution_count": 43
        }
      ]
    },
    {
      "cell_type": "markdown",
      "source": [
        "## Finde the min, max, mean, sum, etc"
      ],
      "metadata": {
        "id": "mn36IMfxkGg8"
      },
      "id": "mn36IMfxkGg8"
    },
    {
      "cell_type": "code",
      "source": [
        "x = torch.arange(0, 100, 10)\n",
        "x, x.dtype"
      ],
      "metadata": {
        "id": "44IxTsYvltBv",
        "outputId": "b452eb54-7e30-48b3-928e-49d7134bed4d",
        "colab": {
          "base_uri": "https://localhost:8080/"
        }
      },
      "id": "44IxTsYvltBv",
      "execution_count": 44,
      "outputs": [
        {
          "output_type": "execute_result",
          "data": {
            "text/plain": [
              "(tensor([ 0, 10, 20, 30, 40, 50, 60, 70, 80, 90]), torch.int64)"
            ]
          },
          "metadata": {},
          "execution_count": 44
        }
      ]
    },
    {
      "cell_type": "code",
      "source": [
        "# Min\n",
        "x.min(), torch.min(x)"
      ],
      "metadata": {
        "id": "T2Ha4jM5lzvA",
        "outputId": "368981ce-f8c1-4b0e-b2cc-0bd1765c519a",
        "colab": {
          "base_uri": "https://localhost:8080/"
        }
      },
      "id": "T2Ha4jM5lzvA",
      "execution_count": 45,
      "outputs": [
        {
          "output_type": "execute_result",
          "data": {
            "text/plain": [
              "(tensor(0), tensor(0))"
            ]
          },
          "metadata": {},
          "execution_count": 45
        }
      ]
    },
    {
      "cell_type": "code",
      "source": [
        "# Max\n",
        "x.max(), torch.max(x)"
      ],
      "metadata": {
        "id": "fl5xeQ6Dl5k0",
        "outputId": "948efcdf-b7fc-4176-981b-b33bba0c085a",
        "colab": {
          "base_uri": "https://localhost:8080/"
        }
      },
      "id": "fl5xeQ6Dl5k0",
      "execution_count": 46,
      "outputs": [
        {
          "output_type": "execute_result",
          "data": {
            "text/plain": [
              "(tensor(90), tensor(90))"
            ]
          },
          "metadata": {},
          "execution_count": 46
        }
      ]
    },
    {
      "cell_type": "code",
      "source": [
        "# Mean\n",
        "# note: necesita tensors de tipo float o complex\n",
        "x.type(torch.float32).mean(), torch.mean(x.type(torch.float32))"
      ],
      "metadata": {
        "id": "NDKGGUE9mEQp",
        "outputId": "c0155bc1-0068-4b48-f946-720cb09647f4",
        "colab": {
          "base_uri": "https://localhost:8080/"
        }
      },
      "id": "NDKGGUE9mEQp",
      "execution_count": 47,
      "outputs": [
        {
          "output_type": "execute_result",
          "data": {
            "text/plain": [
              "(tensor(45.), tensor(45.))"
            ]
          },
          "metadata": {},
          "execution_count": 47
        }
      ]
    },
    {
      "cell_type": "code",
      "source": [
        "# Sum\n",
        "x.sum(), torch.sum(x)"
      ],
      "metadata": {
        "id": "p0TqNCcfmQmJ",
        "outputId": "bddce02c-a127-410c-ff52-2fae6b1bd061",
        "colab": {
          "base_uri": "https://localhost:8080/"
        }
      },
      "id": "p0TqNCcfmQmJ",
      "execution_count": 48,
      "outputs": [
        {
          "output_type": "execute_result",
          "data": {
            "text/plain": [
              "(tensor(450), tensor(450))"
            ]
          },
          "metadata": {},
          "execution_count": 48
        }
      ]
    },
    {
      "cell_type": "code",
      "source": [
        "# Find the positional min and max\n",
        "\n",
        "x.argmax(), x.argmin()"
      ],
      "metadata": {
        "id": "cwQunxnAnRI8",
        "outputId": "d02b8e15-d602-44e8-85fd-c25fec85ea53",
        "colab": {
          "base_uri": "https://localhost:8080/"
        }
      },
      "id": "cwQunxnAnRI8",
      "execution_count": 49,
      "outputs": [
        {
          "output_type": "execute_result",
          "data": {
            "text/plain": [
              "(tensor(9), tensor(0))"
            ]
          },
          "metadata": {},
          "execution_count": 49
        }
      ]
    },
    {
      "cell_type": "markdown",
      "source": [
        "## Reshaping, stacking, squeezing and unsqueezing tensors\n",
        "\n",
        "* Reshaping - reshapes an input tensor to a defined shape\n",
        "* View - Return a view of an input tensor of certain shape but keep the same memory as the original tensor\n",
        "* Stacking - combine multiple tensor on top of each other (vstack) or side to side (hstack)\n",
        "* Squeeze - removes all `1` dimensions from a tensor\n",
        "* Unsqueeze - add a `1` dimension to a target tensor\n",
        "* Permute - return a view of the input wirh dimensions permuted (swapperd) in a certain way"
      ],
      "metadata": {
        "id": "nWGl9VDbn38I"
      },
      "id": "nWGl9VDbn38I"
    },
    {
      "cell_type": "code",
      "source": [
        "x = torch.arange(1, 10)\n",
        "x, x.shape"
      ],
      "metadata": {
        "id": "7x7Esk6HpsvY",
        "outputId": "abe8f8fd-f211-4dbc-c8ad-3b181d3bedbc",
        "colab": {
          "base_uri": "https://localhost:8080/"
        }
      },
      "id": "7x7Esk6HpsvY",
      "execution_count": 50,
      "outputs": [
        {
          "output_type": "execute_result",
          "data": {
            "text/plain": [
              "(tensor([1, 2, 3, 4, 5, 6, 7, 8, 9]), torch.Size([9]))"
            ]
          },
          "metadata": {},
          "execution_count": 50
        }
      ]
    },
    {
      "cell_type": "code",
      "source": [
        "# Add an extra dimension\n",
        "x_reshaped = x.reshape(9,1)\n",
        "x_reshaped, x_reshaped.shape"
      ],
      "metadata": {
        "id": "vSL7RvnQp0ia",
        "outputId": "f75ea0d8-50c7-4661-e74e-02f525e6e0ac",
        "colab": {
          "base_uri": "https://localhost:8080/"
        }
      },
      "id": "vSL7RvnQp0ia",
      "execution_count": 51,
      "outputs": [
        {
          "output_type": "execute_result",
          "data": {
            "text/plain": [
              "(tensor([[1],\n",
              "         [2],\n",
              "         [3],\n",
              "         [4],\n",
              "         [5],\n",
              "         [6],\n",
              "         [7],\n",
              "         [8],\n",
              "         [9]]),\n",
              " torch.Size([9, 1]))"
            ]
          },
          "metadata": {},
          "execution_count": 51
        }
      ]
    },
    {
      "cell_type": "code",
      "source": [
        "# Change the view - maintains the original shape\n",
        "z = x.view(9,1)\n",
        "z, z.shape, x, x.shape"
      ],
      "metadata": {
        "id": "UJ0SDKmwqGUX",
        "outputId": "0fc99fa8-7485-4a5b-ae1a-d5987b03262d",
        "colab": {
          "base_uri": "https://localhost:8080/"
        }
      },
      "id": "UJ0SDKmwqGUX",
      "execution_count": 52,
      "outputs": [
        {
          "output_type": "execute_result",
          "data": {
            "text/plain": [
              "(tensor([[1],\n",
              "         [2],\n",
              "         [3],\n",
              "         [4],\n",
              "         [5],\n",
              "         [6],\n",
              "         [7],\n",
              "         [8],\n",
              "         [9]]),\n",
              " torch.Size([9, 1]),\n",
              " tensor([1, 2, 3, 4, 5, 6, 7, 8, 9]),\n",
              " torch.Size([9]))"
            ]
          },
          "metadata": {},
          "execution_count": 52
        }
      ]
    },
    {
      "cell_type": "code",
      "source": [
        "z[0] = 5\n",
        "z, x"
      ],
      "metadata": {
        "id": "1AkfUYhfrDK9",
        "outputId": "54d6a1fb-1ac6-45ee-bdec-ef37b01eca9f",
        "colab": {
          "base_uri": "https://localhost:8080/"
        }
      },
      "id": "1AkfUYhfrDK9",
      "execution_count": 53,
      "outputs": [
        {
          "output_type": "execute_result",
          "data": {
            "text/plain": [
              "(tensor([[5],\n",
              "         [2],\n",
              "         [3],\n",
              "         [4],\n",
              "         [5],\n",
              "         [6],\n",
              "         [7],\n",
              "         [8],\n",
              "         [9]]),\n",
              " tensor([5, 2, 3, 4, 5, 6, 7, 8, 9]))"
            ]
          },
          "metadata": {},
          "execution_count": 53
        }
      ]
    },
    {
      "cell_type": "code",
      "source": [
        "#Stack on top (vshape)\n",
        "x_stacked = torch.stack([x,x,x,x], dim=0)\n",
        "x_stacked, x_stacked.shape"
      ],
      "metadata": {
        "id": "qCFRkTnYrbXQ",
        "outputId": "594dab30-da59-4390-d764-2b7717bc0112",
        "colab": {
          "base_uri": "https://localhost:8080/"
        }
      },
      "id": "qCFRkTnYrbXQ",
      "execution_count": 54,
      "outputs": [
        {
          "output_type": "execute_result",
          "data": {
            "text/plain": [
              "(tensor([[5, 2, 3, 4, 5, 6, 7, 8, 9],\n",
              "         [5, 2, 3, 4, 5, 6, 7, 8, 9],\n",
              "         [5, 2, 3, 4, 5, 6, 7, 8, 9],\n",
              "         [5, 2, 3, 4, 5, 6, 7, 8, 9]]),\n",
              " torch.Size([4, 9]))"
            ]
          },
          "metadata": {},
          "execution_count": 54
        }
      ]
    },
    {
      "cell_type": "code",
      "source": [
        "#Stack on side (hshape)\n",
        "x_stacked = torch.stack([x,x,x,x], dim=1)\n",
        "x_stacked, x_stacked.shape"
      ],
      "metadata": {
        "id": "Gu2cm_tLr09-",
        "outputId": "7d755d8a-15d9-4d71-a303-73d0e943d072",
        "colab": {
          "base_uri": "https://localhost:8080/"
        }
      },
      "id": "Gu2cm_tLr09-",
      "execution_count": 55,
      "outputs": [
        {
          "output_type": "execute_result",
          "data": {
            "text/plain": [
              "(tensor([[5, 5, 5, 5],\n",
              "         [2, 2, 2, 2],\n",
              "         [3, 3, 3, 3],\n",
              "         [4, 4, 4, 4],\n",
              "         [5, 5, 5, 5],\n",
              "         [6, 6, 6, 6],\n",
              "         [7, 7, 7, 7],\n",
              "         [8, 8, 8, 8],\n",
              "         [9, 9, 9, 9]]),\n",
              " torch.Size([9, 4]))"
            ]
          },
          "metadata": {},
          "execution_count": 55
        }
      ]
    },
    {
      "cell_type": "code",
      "source": [
        "# Squeeze\n",
        "x_squeezed = torch.squeeze(torch.zeros(1,9))\n",
        "x_squeezed, x_squeezed.shape"
      ],
      "metadata": {
        "id": "8X9ofu_csNlf",
        "outputId": "246d4536-9ddd-4c60-ab92-e073e536986c",
        "colab": {
          "base_uri": "https://localhost:8080/"
        }
      },
      "id": "8X9ofu_csNlf",
      "execution_count": 56,
      "outputs": [
        {
          "output_type": "execute_result",
          "data": {
            "text/plain": [
              "(tensor([0., 0., 0., 0., 0., 0., 0., 0., 0.]), torch.Size([9]))"
            ]
          },
          "metadata": {},
          "execution_count": 56
        }
      ]
    },
    {
      "cell_type": "code",
      "source": [
        "# Unsqueeze\n",
        "x_squeezed = torch.unsqueeze(torch.zeros(1, 9), 2)\n",
        "x_squeezed, x_squeezed.shape"
      ],
      "metadata": {
        "id": "yceWgZbysnou",
        "outputId": "0979ebf7-32b7-4063-9a17-3566167582ae",
        "colab": {
          "base_uri": "https://localhost:8080/"
        }
      },
      "id": "yceWgZbysnou",
      "execution_count": 57,
      "outputs": [
        {
          "output_type": "execute_result",
          "data": {
            "text/plain": [
              "(tensor([[[0.],\n",
              "          [0.],\n",
              "          [0.],\n",
              "          [0.],\n",
              "          [0.],\n",
              "          [0.],\n",
              "          [0.],\n",
              "          [0.],\n",
              "          [0.]]]),\n",
              " torch.Size([1, 9, 1]))"
            ]
          },
          "metadata": {},
          "execution_count": 57
        }
      ]
    },
    {
      "cell_type": "code",
      "source": [
        "# Permute\n",
        "x = torch.rand(224, 10, 3)\n",
        "x.shape"
      ],
      "metadata": {
        "id": "LVWwrIPN1mYQ",
        "outputId": "de2ce537-b5da-4844-9389-b462613cccf5",
        "colab": {
          "base_uri": "https://localhost:8080/"
        }
      },
      "id": "LVWwrIPN1mYQ",
      "execution_count": 58,
      "outputs": [
        {
          "output_type": "execute_result",
          "data": {
            "text/plain": [
              "torch.Size([224, 10, 3])"
            ]
          },
          "metadata": {},
          "execution_count": 58
        }
      ]
    },
    {
      "cell_type": "code",
      "source": [
        "x_permuted = x.permute(2, 0, 1) # -> 2 to 0, 0 to 1 and 1 to 2\n",
        "x_permuted.shape"
      ],
      "metadata": {
        "id": "pB-Tybm_2Jk0",
        "outputId": "37eddc22-17b1-4a99-8c31-00fc19f0885d",
        "colab": {
          "base_uri": "https://localhost:8080/"
        }
      },
      "id": "pB-Tybm_2Jk0",
      "execution_count": 59,
      "outputs": [
        {
          "output_type": "execute_result",
          "data": {
            "text/plain": [
              "torch.Size([3, 224, 10])"
            ]
          },
          "metadata": {},
          "execution_count": 59
        }
      ]
    },
    {
      "cell_type": "code",
      "source": [
        "x[1, 0, 0] = 10000\n",
        "x[1, 0, 0], x_permuted[0, 1, 0]"
      ],
      "metadata": {
        "id": "XCFbXFgj2lqQ",
        "outputId": "982fd709-c01c-4d25-c923-d453df8d15cf",
        "colab": {
          "base_uri": "https://localhost:8080/"
        }
      },
      "id": "XCFbXFgj2lqQ",
      "execution_count": 60,
      "outputs": [
        {
          "output_type": "execute_result",
          "data": {
            "text/plain": [
              "(tensor(10000.), tensor(10000.))"
            ]
          },
          "metadata": {},
          "execution_count": 60
        }
      ]
    },
    {
      "cell_type": "code",
      "source": [
        "# They refere to the same \"object\", so if u change it, it will change in both"
      ],
      "metadata": {
        "id": "x-Dt6wtw3HVN"
      },
      "id": "x-Dt6wtw3HVN",
      "execution_count": 61,
      "outputs": []
    },
    {
      "cell_type": "markdown",
      "source": [
        "## Indexing\n",
        "\n",
        "Indexing with Pytorch is similar to indexin with NumPy"
      ],
      "metadata": {
        "id": "nQM6xTp4mOlS"
      },
      "id": "nQM6xTp4mOlS"
    },
    {
      "cell_type": "code",
      "source": [
        "x = torch.arange(1, 19).reshape(2,3,3)\n",
        "x, x.shape"
      ],
      "metadata": {
        "id": "au9c79eNmeGZ",
        "outputId": "c25b2208-811f-4543-beaa-a006acdc4759",
        "colab": {
          "base_uri": "https://localhost:8080/"
        }
      },
      "id": "au9c79eNmeGZ",
      "execution_count": 62,
      "outputs": [
        {
          "output_type": "execute_result",
          "data": {
            "text/plain": [
              "(tensor([[[ 1,  2,  3],\n",
              "          [ 4,  5,  6],\n",
              "          [ 7,  8,  9]],\n",
              " \n",
              "         [[10, 11, 12],\n",
              "          [13, 14, 15],\n",
              "          [16, 17, 18]]]),\n",
              " torch.Size([2, 3, 3]))"
            ]
          },
          "metadata": {},
          "execution_count": 62
        }
      ]
    },
    {
      "cell_type": "code",
      "source": [
        "# Lets index\n",
        "x[0], x[0, 0], x[0, 0, 0], x[0,2,2]"
      ],
      "metadata": {
        "id": "_s0dardZmnS_",
        "outputId": "710741af-d676-4e21-a02b-4e58e106ceba",
        "colab": {
          "base_uri": "https://localhost:8080/"
        }
      },
      "id": "_s0dardZmnS_",
      "execution_count": 63,
      "outputs": [
        {
          "output_type": "execute_result",
          "data": {
            "text/plain": [
              "(tensor([[1, 2, 3],\n",
              "         [4, 5, 6],\n",
              "         [7, 8, 9]]),\n",
              " tensor([1, 2, 3]),\n",
              " tensor(1),\n",
              " tensor(9))"
            ]
          },
          "metadata": {},
          "execution_count": 63
        }
      ]
    },
    {
      "cell_type": "code",
      "source": [
        "# U can also use the \":\", it gives al the elements of the target dimension\n",
        "x[:], x[0, :, 0], x[0, :, 2]"
      ],
      "metadata": {
        "id": "PCj6uqnSm2GE",
        "outputId": "1d08f8f7-c022-436c-bab7-207acf020860",
        "colab": {
          "base_uri": "https://localhost:8080/"
        }
      },
      "id": "PCj6uqnSm2GE",
      "execution_count": 64,
      "outputs": [
        {
          "output_type": "execute_result",
          "data": {
            "text/plain": [
              "(tensor([[[ 1,  2,  3],\n",
              "          [ 4,  5,  6],\n",
              "          [ 7,  8,  9]],\n",
              " \n",
              "         [[10, 11, 12],\n",
              "          [13, 14, 15],\n",
              "          [16, 17, 18]]]),\n",
              " tensor([1, 4, 7]),\n",
              " tensor([3, 6, 9]))"
            ]
          },
          "metadata": {},
          "execution_count": 64
        }
      ]
    },
    {
      "cell_type": "code",
      "source": [
        "x[:, :, 1]"
      ],
      "metadata": {
        "id": "8eq9zkpFn7hy",
        "outputId": "e0ff40a1-ba72-4f6a-d800-d39ba9199640",
        "colab": {
          "base_uri": "https://localhost:8080/"
        }
      },
      "id": "8eq9zkpFn7hy",
      "execution_count": 65,
      "outputs": [
        {
          "output_type": "execute_result",
          "data": {
            "text/plain": [
              "tensor([[ 2,  5,  8],\n",
              "        [11, 14, 17]])"
            ]
          },
          "metadata": {},
          "execution_count": 65
        }
      ]
    },
    {
      "cell_type": "markdown",
      "source": [
        "## Pythorch tensor & Numpy\n",
        "\n",
        "* Data in NumPy -> want in PyTorch tensor -> `torch.from_numpy(ndarray)`\n",
        "* PyTorch tensor -> NumPy -> `torch.Tensor.numpy()`"
      ],
      "metadata": {
        "id": "6J-Ys6atouh6"
      },
      "id": "6J-Ys6atouh6"
    },
    {
      "cell_type": "code",
      "source": [
        "# Numpy array to tensor\n",
        "array = np.arange(1.0, 8.0)\n",
        "tensor = torch.from_numpy(array)\n",
        "array, tensor"
      ],
      "metadata": {
        "id": "OEJSWzGJqRkp",
        "outputId": "acee9c7a-6295-420a-8569-ea015c580234",
        "colab": {
          "base_uri": "https://localhost:8080/"
        }
      },
      "id": "OEJSWzGJqRkp",
      "execution_count": 96,
      "outputs": [
        {
          "output_type": "execute_result",
          "data": {
            "text/plain": [
              "(array([1., 2., 3., 4., 5., 6., 7.]),\n",
              " tensor([1., 2., 3., 4., 5., 6., 7.], dtype=torch.float64))"
            ]
          },
          "metadata": {},
          "execution_count": 96
        }
      ]
    },
    {
      "cell_type": "code",
      "source": [
        "# Change the value of array\n",
        "array = array + 1\n",
        "array, tensor"
      ],
      "metadata": {
        "id": "BEOEBrue0sIq",
        "outputId": "ba072df0-22e7-4fd2-ae15-652accdb87e5",
        "colab": {
          "base_uri": "https://localhost:8080/"
        }
      },
      "id": "BEOEBrue0sIq",
      "execution_count": 97,
      "outputs": [
        {
          "output_type": "execute_result",
          "data": {
            "text/plain": [
              "(array([2., 3., 4., 5., 6., 7., 8.]),\n",
              " tensor([1., 2., 3., 4., 5., 6., 7.], dtype=torch.float64))"
            ]
          },
          "metadata": {},
          "execution_count": 97
        }
      ]
    },
    {
      "cell_type": "code",
      "source": [
        "# Tensor to Numpy\n",
        "tensor = torch.ones(7)\n",
        "numpy_tensor = tensor.numpy()\n",
        "tensor, numpy_tensor"
      ],
      "metadata": {
        "id": "w5gAe9jv1XVv",
        "outputId": "4ca94e6c-78d9-4b61-dcb4-5156fba89d4f",
        "colab": {
          "base_uri": "https://localhost:8080/"
        }
      },
      "id": "w5gAe9jv1XVv",
      "execution_count": 98,
      "outputs": [
        {
          "output_type": "execute_result",
          "data": {
            "text/plain": [
              "(tensor([1., 1., 1., 1., 1., 1., 1.]),\n",
              " array([1., 1., 1., 1., 1., 1., 1.], dtype=float32))"
            ]
          },
          "metadata": {},
          "execution_count": 98
        }
      ]
    },
    {
      "cell_type": "code",
      "source": [
        "# Change the values of array\n",
        "tensor = tensor + 1\n",
        "tensor, numpy_tensor"
      ],
      "metadata": {
        "id": "AB5pqvzE2GNy",
        "outputId": "e7ce29a9-74a7-47f6-cc38-4fbe63a49498",
        "colab": {
          "base_uri": "https://localhost:8080/"
        }
      },
      "id": "AB5pqvzE2GNy",
      "execution_count": 99,
      "outputs": [
        {
          "output_type": "execute_result",
          "data": {
            "text/plain": [
              "(tensor([2., 2., 2., 2., 2., 2., 2.]),\n",
              " array([1., 1., 1., 1., 1., 1., 1.], dtype=float32))"
            ]
          },
          "metadata": {},
          "execution_count": 99
        }
      ]
    },
    {
      "cell_type": "markdown",
      "source": [
        "## Reproducibility - trying to take random out of random\n",
        "\n",
        "To reduce the randomness in neural networks and PyTorch comes the concept of a **random seed**\n",
        "\n"
      ],
      "metadata": {
        "id": "T8cFzfni5jm0"
      },
      "id": "T8cFzfni5jm0"
    },
    {
      "cell_type": "code",
      "source": [
        "random_tensor_A = torch.rand(3,4)\n",
        "random_tensor_B = torch.rand(3,4)\n",
        "\n",
        "print(random_tensor_A)\n",
        "print(random_tensor_B)\n",
        "print(random_tensor_A == random_tensor_B)"
      ],
      "metadata": {
        "id": "thyrR0mh5lCp",
        "outputId": "2bb1e308-29d1-467b-f5eb-17577b9ad6c9",
        "colab": {
          "base_uri": "https://localhost:8080/"
        }
      },
      "id": "thyrR0mh5lCp",
      "execution_count": 133,
      "outputs": [
        {
          "output_type": "stream",
          "name": "stdout",
          "text": [
            "tensor([[0.0880, 0.2116, 0.7195, 0.2623],\n",
            "        [0.0998, 0.5419, 0.4709, 0.9844],\n",
            "        [0.8875, 0.3055, 0.0658, 0.2326]])\n",
            "tensor([[0.1972, 0.9177, 0.9215, 0.6043],\n",
            "        [0.6824, 0.0801, 0.0650, 0.4446],\n",
            "        [0.6569, 0.3162, 0.0543, 0.3740]])\n",
            "tensor([[False, False, False, False],\n",
            "        [False, False, False, False],\n",
            "        [False, False, False, False]])\n"
          ]
        }
      ]
    },
    {
      "cell_type": "code",
      "source": [
        "# Set the seed\n",
        "RANDOM_SEED = 42\n",
        "torch.manual_seed(RANDOM_SEED)\n",
        "\n",
        "random_tensor_C = torch.rand(3,4)\n",
        "\n",
        "RANDOM_SEED = 42\n",
        "torch.manual_seed(RANDOM_SEED)\n",
        "\n",
        "random_tensor_D = torch.rand(3,4)\n",
        "\n",
        "print(random_tensor_C)\n",
        "print(random_tensor_D)\n",
        "print(random_tensor_C == random_tensor_D)"
      ],
      "metadata": {
        "id": "xAz1L7GJ6kJh",
        "outputId": "83ac79bc-4a32-4f2c-df48-6cc9e2353f7a",
        "colab": {
          "base_uri": "https://localhost:8080/"
        }
      },
      "id": "xAz1L7GJ6kJh",
      "execution_count": 135,
      "outputs": [
        {
          "output_type": "stream",
          "name": "stdout",
          "text": [
            "tensor([[0.8823, 0.9150, 0.3829, 0.9593],\n",
            "        [0.3904, 0.6009, 0.2566, 0.7936],\n",
            "        [0.9408, 0.1332, 0.9346, 0.5936]])\n",
            "tensor([[0.8823, 0.9150, 0.3829, 0.9593],\n",
            "        [0.3904, 0.6009, 0.2566, 0.7936],\n",
            "        [0.9408, 0.1332, 0.9346, 0.5936]])\n",
            "tensor([[True, True, True, True],\n",
            "        [True, True, True, True],\n",
            "        [True, True, True, True]])\n"
          ]
        }
      ]
    }
  ],
  "metadata": {
    "kernelspec": {
      "display_name": "Python 3",
      "name": "python3"
    },
    "language_info": {
      "codemirror_mode": {
        "name": "ipython",
        "version": 3
      },
      "file_extension": ".py",
      "mimetype": "text/x-python",
      "name": "python",
      "nbconvert_exporter": "python",
      "pygments_lexer": "ipython3",
      "version": "3.12.7"
    },
    "colab": {
      "provenance": [],
      "gpuType": "T4"
    },
    "accelerator": "GPU"
  },
  "nbformat": 4,
  "nbformat_minor": 5
}